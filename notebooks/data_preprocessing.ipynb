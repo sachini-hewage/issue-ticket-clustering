{
 "cells": [
  {
   "cell_type": "code",
   "execution_count": 1,
   "id": "52549fcf-489a-43f0-a5a9-3e163f550d23",
   "metadata": {},
   "outputs": [],
   "source": [
    "# All imports and setup\n",
    "import pandas as pd\n",
    "from sqlalchemy import create_engine, text\n",
    "from tqdm.notebook import tqdm\n",
    "tqdm.pandas()\n",
    "\n",
    "\n",
    "# Add project root to path \n",
    "import sys\n",
    "from pathlib import Path\n",
    "sys.path.append(str(Path(\"../\").resolve()))\n",
    "\n"
   ]
  },
  {
   "cell_type": "code",
   "execution_count": 2,
   "id": "101641e4-458f-435b-a12c-c9357c79e0ee",
   "metadata": {},
   "outputs": [],
   "source": [
    "import src.preprocessing_utils as prep\n",
    "from src.db_utils import get_db_credentials"
   ]
  },
  {
   "cell_type": "code",
   "execution_count": 11,
   "id": "fd57990e-e06a-4eb9-9b53-3335fb83cd3d",
   "metadata": {},
   "outputs": [
    {
     "data": {
      "text/html": [
       "<div>\n",
       "<style scoped>\n",
       "    .dataframe tbody tr th:only-of-type {\n",
       "        vertical-align: middle;\n",
       "    }\n",
       "\n",
       "    .dataframe tbody tr th {\n",
       "        vertical-align: top;\n",
       "    }\n",
       "\n",
       "    .dataframe thead th {\n",
       "        text-align: right;\n",
       "    }\n",
       "</style>\n",
       "<table border=\"1\" class=\"dataframe\">\n",
       "  <thead>\n",
       "    <tr style=\"text-align: right;\">\n",
       "      <th></th>\n",
       "      <th>ticket_id</th>\n",
       "      <th>subject</th>\n",
       "      <th>body</th>\n",
       "    </tr>\n",
       "  </thead>\n",
       "  <tbody>\n",
       "    <tr>\n",
       "      <th>0</th>\n",
       "      <td>TKT-500000</td>\n",
       "      <td>URGENT: Hitting rate limits on /transactions (...</td>\n",
       "      <td>Hello, Hi, I'm Sam Heikkinen. My card keeps ge...</td>\n",
       "    </tr>\n",
       "    <tr>\n",
       "      <th>1</th>\n",
       "      <td>TKT-500001</td>\n",
       "      <td>Question about KYC — documents keep getting re...</td>\n",
       "      <td>Hi team, Hi, I'm Alex Mäkinen. My card keeps g...</td>\n",
       "    </tr>\n",
       "    <tr>\n",
       "      <th>2</th>\n",
       "      <td>TKT-500002</td>\n",
       "      <td>Can’t pay online — keeps declining 😕</td>\n",
       "      <td>Hi team, Hi, I'm Jamie Salonen. Not sure if th...</td>\n",
       "    </tr>\n",
       "    <tr>\n",
       "      <th>3</th>\n",
       "      <td>TKT-500003</td>\n",
       "      <td>PRIO: Kort saknas, spärra nu</td>\n",
       "      <td>Hallå, Hi, I'm Henrik Svensson. Jag har proble...</td>\n",
       "    </tr>\n",
       "    <tr>\n",
       "      <th>4</th>\n",
       "      <td>TKT-500004</td>\n",
       "      <td>Tokenization failed during wallet setup</td>\n",
       "      <td>Hey, Hi, I'm Sa Ahonen. Not sure if this is on...</td>\n",
       "    </tr>\n",
       "  </tbody>\n",
       "</table>\n",
       "</div>"
      ],
      "text/plain": [
       "    ticket_id                                            subject  \\\n",
       "0  TKT-500000  URGENT: Hitting rate limits on /transactions (...   \n",
       "1  TKT-500001  Question about KYC — documents keep getting re...   \n",
       "2  TKT-500002               Can’t pay online — keeps declining 😕   \n",
       "3  TKT-500003                       PRIO: Kort saknas, spärra nu   \n",
       "4  TKT-500004            Tokenization failed during wallet setup   \n",
       "\n",
       "                                                body  \n",
       "0  Hello, Hi, I'm Sam Heikkinen. My card keeps ge...  \n",
       "1  Hi team, Hi, I'm Alex Mäkinen. My card keeps g...  \n",
       "2  Hi team, Hi, I'm Jamie Salonen. Not sure if th...  \n",
       "3  Hallå, Hi, I'm Henrik Svensson. Jag har proble...  \n",
       "4  Hey, Hi, I'm Sa Ahonen. Not sure if this is on...  "
      ]
     },
     "execution_count": 11,
     "metadata": {},
     "output_type": "execute_result"
    }
   ],
   "source": [
    "# Connect to PostgreSQL via SQLAlchemy\n",
    "creds = get_db_credentials()\n",
    "conn_str = f\"postgresql+psycopg2://{creds['user']}:{creds['password']}@{creds['host']}:{creds['port']}/{creds['db_name']}\"\n",
    "engine = create_engine(conn_str)\n",
    "\n",
    "# Load tickets (skip demo for pipeline demo purposes)\n",
    "query = \"SELECT ticket_id, subject, body FROM tickets WHERE demo_flag = FALSE;\"\n",
    "tickets_df = pd.read_sql(query, engine)\n",
    "\n",
    "tickets_df.head()"
   ]
  },
  {
   "cell_type": "code",
   "execution_count": null,
   "id": "06b6c6bc-2ec2-4b9c-9d90-f66307efb94d",
   "metadata": {},
   "outputs": [],
   "source": [
    "#  Preprocessing serial : Detect language and clean text\n",
    "def preprocess_ticket_row(row):\n",
    "    \"\"\"\n",
    "    Apply language detection and cleaning for a single row.\n",
    "    Translation, PII masking, keywords handled in batch later.\n",
    "    \"\"\"\n",
    "    subject = row.get(\"subject\", \"\")\n",
    "    body = row.get(\"body\", \"\")\n",
    "\n",
    "    lang = prep.detect_language(body)\n",
    "    subject_clean = prep.clean_text(subject)\n",
    "    body_clean = prep.clean_text(body)\n",
    "\n",
    "    return {\n",
    "        \"ticket_id\": row[\"ticket_id\"],\n",
    "        \"lang\": lang,\n",
    "        \"subject_clean\": subject_clean,\n",
    "        \"body_clean\": body_clean\n",
    "    }\n",
    "\n",
    "\n"
   ]
  },
  {
   "cell_type": "code",
   "execution_count": null,
   "id": "a5412940-fe94-4e36-b3a3-1ce9e7482058",
   "metadata": {},
   "outputs": [],
   "source": [
    "# Apply row-wise detect language and cleaning\n",
    "tickets_cleaned = tickets_df.progress_apply(preprocess_ticket_row, axis=1)\n",
    "tickets_cleaned = pd.DataFrame(list(tickets_cleaned))\n",
    "tickets_cleaned.head()"
   ]
  },
  {
   "cell_type": "code",
   "execution_count": null,
   "id": "72dd070e-72aa-415b-8927-aaeded77b19a",
   "metadata": {},
   "outputs": [],
   "source": [
    "# Initialize columns for translated text\n",
    "tickets_cleaned[\"subject_translated\"] = \"\"\n",
    "tickets_cleaned[\"body_translated\"] = \"\"\n",
    "\n",
    "# Batch translate by language \n",
    "\n",
    "# Only languages with translation models will be processed here\n",
    "for lang in prep.TRANSLATION_MODELS.keys():\n",
    "    # Get indices of rows with this language\n",
    "    idx = tickets_cleaned[tickets_cleaned[\"lang\"] == lang].index\n",
    "    if len(idx) == 0:\n",
    "        continue  # skip if no rows in this language\n",
    "\n",
    "    # Prepare text batches\n",
    "    subjects = tickets_cleaned.loc[idx, \"subject_clean\"].tolist()\n",
    "    bodies = tickets_cleaned.loc[idx, \"body_clean\"].tolist()\n",
    "\n",
    "    # Translate in batch using preprocessing.py functions\n",
    "    tickets_cleaned.loc[idx, \"subject_translated\"] = prep.translate_texts_batch(subjects, lang)\n",
    "    tickets_cleaned.loc[idx, \"body_translated\"] = prep.translate_texts_batch(bodies, lang)\n",
    "\n",
    "    # Log batch info\n",
    "    print(f\"[INFO] Translated batch of {len(idx)} tickets for language '{lang}'\")\n",
    "\n",
    "# Fill English/unknown rows with original cleaned content \n",
    "mask = tickets_cleaned[\"subject_translated\"] == \"\"\n",
    "tickets_cleaned.loc[mask, \"subject_translated\"] = tickets_cleaned.loc[mask, \"subject_clean\"]\n",
    "tickets_cleaned.loc[mask, \"body_translated\"] = tickets_cleaned.loc[mask, \"body_clean\"]\n",
    "\n",
    "# Verify\n",
    "tickets_cleaned.head()"
   ]
  },
  {
   "cell_type": "code",
   "execution_count": null,
   "id": "24d2e66a-80b0-4d16-b38f-ef141e3cde30",
   "metadata": {},
   "outputs": [],
   "source": [
    "# PII masking\n",
    "tickets_cleaned[\"subject_masked\"] = tickets_cleaned[\"subject_translated\"].progress_apply(prep.mask_pii_en)\n",
    "tickets_cleaned[\"body_masked\"] = tickets_cleaned[\"body_translated\"].progress_apply(prep.mask_pii_en)\n",
    "\n",
    "# Verify\n",
    "tickets_cleaned.head()\n"
   ]
  },
  {
   "cell_type": "code",
   "execution_count": null,
   "id": "44a21081-ed36-499e-b74f-f75ea0c2a83e",
   "metadata": {},
   "outputs": [],
   "source": [
    "tickets_cleaned.head(20)"
   ]
  },
  {
   "cell_type": "code",
   "execution_count": null,
   "id": "cbf6cc01-7048-406f-8ce3-be51d2b0ee50",
   "metadata": {},
   "outputs": [],
   "source": [
    "tickets_cleaned.to_csv(\"tickets_cleaned.csv\", index=False)"
   ]
  },
  {
   "cell_type": "code",
   "execution_count": 3,
   "id": "9cba1dfa-4cee-41af-b49a-a0b3ac74af8d",
   "metadata": {},
   "outputs": [
    {
     "data": {
      "text/html": [
       "<div>\n",
       "<style scoped>\n",
       "    .dataframe tbody tr th:only-of-type {\n",
       "        vertical-align: middle;\n",
       "    }\n",
       "\n",
       "    .dataframe tbody tr th {\n",
       "        vertical-align: top;\n",
       "    }\n",
       "\n",
       "    .dataframe thead th {\n",
       "        text-align: right;\n",
       "    }\n",
       "</style>\n",
       "<table border=\"1\" class=\"dataframe\">\n",
       "  <thead>\n",
       "    <tr style=\"text-align: right;\">\n",
       "      <th></th>\n",
       "      <th>ticket_id</th>\n",
       "      <th>lang</th>\n",
       "      <th>subject_clean</th>\n",
       "      <th>body_clean</th>\n",
       "      <th>subject_translated</th>\n",
       "      <th>body_translated</th>\n",
       "      <th>subject_masked</th>\n",
       "      <th>body_masked</th>\n",
       "    </tr>\n",
       "  </thead>\n",
       "  <tbody>\n",
       "    <tr>\n",
       "      <th>0</th>\n",
       "      <td>TKT-500000</td>\n",
       "      <td>en</td>\n",
       "      <td>URGENT: Hitting rate limits on /transactions (...</td>\n",
       "      <td>Hello, Hi, I'm Sam Heikkinen. My card keeps ge...</td>\n",
       "      <td>URGENT: Hitting rate limits on /transactions (...</td>\n",
       "      <td>Hello, Hi, I'm Sam Heikkinen. My card keeps ge...</td>\n",
       "      <td>URGENT: Hitting rate limits on /transactions (...</td>\n",
       "      <td>Hello, Hi, I'm [PERSON]. My card keeps getting...</td>\n",
       "    </tr>\n",
       "    <tr>\n",
       "      <th>1</th>\n",
       "      <td>TKT-500001</td>\n",
       "      <td>en</td>\n",
       "      <td>Question about KYC — documents keep getting re...</td>\n",
       "      <td>Hi team, Hi, I'm Alex Mäkinen. My card keeps g...</td>\n",
       "      <td>Question about KYC — documents keep getting re...</td>\n",
       "      <td>Hi team, Hi, I'm Alex Mäkinen. My card keeps g...</td>\n",
       "      <td>Question about KYC — documents keep getting re...</td>\n",
       "      <td>Hi team, Hi, I'm [PERSON]. My card keeps getti...</td>\n",
       "    </tr>\n",
       "    <tr>\n",
       "      <th>2</th>\n",
       "      <td>TKT-500002</td>\n",
       "      <td>en</td>\n",
       "      <td>Can’t pay online — keeps declining</td>\n",
       "      <td>Hi team, Hi, I'm Jamie Salonen. Not sure if th...</td>\n",
       "      <td>Can’t pay online — keeps declining</td>\n",
       "      <td>Hi team, Hi, I'm Jamie Salonen. Not sure if th...</td>\n",
       "      <td>Can’t pay online — keeps declining</td>\n",
       "      <td>Hi team, Hi, I'm [PERSON]. Not sure if this is...</td>\n",
       "    </tr>\n",
       "    <tr>\n",
       "      <th>3</th>\n",
       "      <td>TKT-500003</td>\n",
       "      <td>sv</td>\n",
       "      <td>PRIO: Kort saknas, spärra nu</td>\n",
       "      <td>Hallå, Hi, I'm Henrik Svensson. Jag har proble...</td>\n",
       "      <td>PRIO: Card missing, block now</td>\n",
       "      <td>Hello, Hi, I'm Henrik Svensson. I have problem...</td>\n",
       "      <td>PRIO: Card missing, block now</td>\n",
       "      <td>Hello, Hi, I'm [PERSON]. I have problems with ...</td>\n",
       "    </tr>\n",
       "    <tr>\n",
       "      <th>4</th>\n",
       "      <td>TKT-500004</td>\n",
       "      <td>en</td>\n",
       "      <td>Tokenization failed during wallet setup</td>\n",
       "      <td>Hey, Hi, I'm Sa Ahonen. Not sure if this is on...</td>\n",
       "      <td>Tokenization failed during wallet setup</td>\n",
       "      <td>Hey, Hi, I'm Sa Ahonen. Not sure if this is on...</td>\n",
       "      <td>Tokenization failed during wallet setup</td>\n",
       "      <td>Hey, Hi, I'm [PERSON]. Not sure if this is on ...</td>\n",
       "    </tr>\n",
       "  </tbody>\n",
       "</table>\n",
       "</div>"
      ],
      "text/plain": [
       "    ticket_id lang                                      subject_clean  \\\n",
       "0  TKT-500000   en  URGENT: Hitting rate limits on /transactions (...   \n",
       "1  TKT-500001   en  Question about KYC — documents keep getting re...   \n",
       "2  TKT-500002   en                 Can’t pay online — keeps declining   \n",
       "3  TKT-500003   sv                       PRIO: Kort saknas, spärra nu   \n",
       "4  TKT-500004   en            Tokenization failed during wallet setup   \n",
       "\n",
       "                                          body_clean  \\\n",
       "0  Hello, Hi, I'm Sam Heikkinen. My card keeps ge...   \n",
       "1  Hi team, Hi, I'm Alex Mäkinen. My card keeps g...   \n",
       "2  Hi team, Hi, I'm Jamie Salonen. Not sure if th...   \n",
       "3  Hallå, Hi, I'm Henrik Svensson. Jag har proble...   \n",
       "4  Hey, Hi, I'm Sa Ahonen. Not sure if this is on...   \n",
       "\n",
       "                                  subject_translated  \\\n",
       "0  URGENT: Hitting rate limits on /transactions (...   \n",
       "1  Question about KYC — documents keep getting re...   \n",
       "2                 Can’t pay online — keeps declining   \n",
       "3                      PRIO: Card missing, block now   \n",
       "4            Tokenization failed during wallet setup   \n",
       "\n",
       "                                     body_translated  \\\n",
       "0  Hello, Hi, I'm Sam Heikkinen. My card keeps ge...   \n",
       "1  Hi team, Hi, I'm Alex Mäkinen. My card keeps g...   \n",
       "2  Hi team, Hi, I'm Jamie Salonen. Not sure if th...   \n",
       "3  Hello, Hi, I'm Henrik Svensson. I have problem...   \n",
       "4  Hey, Hi, I'm Sa Ahonen. Not sure if this is on...   \n",
       "\n",
       "                                      subject_masked  \\\n",
       "0  URGENT: Hitting rate limits on /transactions (...   \n",
       "1  Question about KYC — documents keep getting re...   \n",
       "2                 Can’t pay online — keeps declining   \n",
       "3                      PRIO: Card missing, block now   \n",
       "4            Tokenization failed during wallet setup   \n",
       "\n",
       "                                         body_masked  \n",
       "0  Hello, Hi, I'm [PERSON]. My card keeps getting...  \n",
       "1  Hi team, Hi, I'm [PERSON]. My card keeps getti...  \n",
       "2  Hi team, Hi, I'm [PERSON]. Not sure if this is...  \n",
       "3  Hello, Hi, I'm [PERSON]. I have problems with ...  \n",
       "4  Hey, Hi, I'm [PERSON]. Not sure if this is on ...  "
      ]
     },
     "execution_count": 3,
     "metadata": {},
     "output_type": "execute_result"
    }
   ],
   "source": [
    "\n",
    "# Load from CSV into DataFrame\n",
    "tickets_cleaned = pd.read_csv(\"tickets_cleaned.csv\")\n",
    "\n",
    "# Preview\n",
    "tickets_cleaned.head()\n"
   ]
  },
  {
   "cell_type": "code",
   "execution_count": 4,
   "id": "011e5ab6-12b4-4dbf-a8f3-6826c8c98974",
   "metadata": {},
   "outputs": [
    {
     "data": {
      "text/html": [
       "<div>\n",
       "<style scoped>\n",
       "    .dataframe tbody tr th:only-of-type {\n",
       "        vertical-align: middle;\n",
       "    }\n",
       "\n",
       "    .dataframe tbody tr th {\n",
       "        vertical-align: top;\n",
       "    }\n",
       "\n",
       "    .dataframe thead th {\n",
       "        text-align: right;\n",
       "    }\n",
       "</style>\n",
       "<table border=\"1\" class=\"dataframe\">\n",
       "  <thead>\n",
       "    <tr style=\"text-align: right;\">\n",
       "      <th></th>\n",
       "      <th>ticket_id</th>\n",
       "      <th>lang</th>\n",
       "      <th>subject_clean</th>\n",
       "      <th>body_clean</th>\n",
       "      <th>subject_translated</th>\n",
       "      <th>body_translated</th>\n",
       "      <th>subject_masked</th>\n",
       "      <th>body_masked</th>\n",
       "      <th>combined_text</th>\n",
       "    </tr>\n",
       "  </thead>\n",
       "  <tbody>\n",
       "    <tr>\n",
       "      <th>0</th>\n",
       "      <td>TKT-500000</td>\n",
       "      <td>en</td>\n",
       "      <td>URGENT: Hitting rate limits on /transactions (...</td>\n",
       "      <td>Hello, Hi, I'm Sam Heikkinen. My card keeps ge...</td>\n",
       "      <td>URGENT: Hitting rate limits on /transactions (...</td>\n",
       "      <td>Hello, Hi, I'm Sam Heikkinen. My card keeps ge...</td>\n",
       "      <td>URGENT: Hitting rate limits on /transactions (...</td>\n",
       "      <td>Hello, Hi, I'm [PERSON]. My card keeps getting...</td>\n",
       "      <td>URGENT: Hitting rate limits on /transactions (...</td>\n",
       "    </tr>\n",
       "    <tr>\n",
       "      <th>1</th>\n",
       "      <td>TKT-500001</td>\n",
       "      <td>en</td>\n",
       "      <td>Question about KYC — documents keep getting re...</td>\n",
       "      <td>Hi team, Hi, I'm Alex Mäkinen. My card keeps g...</td>\n",
       "      <td>Question about KYC — documents keep getting re...</td>\n",
       "      <td>Hi team, Hi, I'm Alex Mäkinen. My card keeps g...</td>\n",
       "      <td>Question about KYC — documents keep getting re...</td>\n",
       "      <td>Hi team, Hi, I'm [PERSON]. My card keeps getti...</td>\n",
       "      <td>Question about KYC — documents keep getting re...</td>\n",
       "    </tr>\n",
       "    <tr>\n",
       "      <th>2</th>\n",
       "      <td>TKT-500002</td>\n",
       "      <td>en</td>\n",
       "      <td>Can’t pay online — keeps declining</td>\n",
       "      <td>Hi team, Hi, I'm Jamie Salonen. Not sure if th...</td>\n",
       "      <td>Can’t pay online — keeps declining</td>\n",
       "      <td>Hi team, Hi, I'm Jamie Salonen. Not sure if th...</td>\n",
       "      <td>Can’t pay online — keeps declining</td>\n",
       "      <td>Hi team, Hi, I'm [PERSON]. Not sure if this is...</td>\n",
       "      <td>Can’t pay online — keeps declining|| Hi team, ...</td>\n",
       "    </tr>\n",
       "    <tr>\n",
       "      <th>3</th>\n",
       "      <td>TKT-500003</td>\n",
       "      <td>sv</td>\n",
       "      <td>PRIO: Kort saknas, spärra nu</td>\n",
       "      <td>Hallå, Hi, I'm Henrik Svensson. Jag har proble...</td>\n",
       "      <td>PRIO: Card missing, block now</td>\n",
       "      <td>Hello, Hi, I'm Henrik Svensson. I have problem...</td>\n",
       "      <td>PRIO: Card missing, block now</td>\n",
       "      <td>Hello, Hi, I'm [PERSON]. I have problems with ...</td>\n",
       "      <td>PRIO: Card missing, block now|| Hello, Hi, I'm...</td>\n",
       "    </tr>\n",
       "    <tr>\n",
       "      <th>4</th>\n",
       "      <td>TKT-500004</td>\n",
       "      <td>en</td>\n",
       "      <td>Tokenization failed during wallet setup</td>\n",
       "      <td>Hey, Hi, I'm Sa Ahonen. Not sure if this is on...</td>\n",
       "      <td>Tokenization failed during wallet setup</td>\n",
       "      <td>Hey, Hi, I'm Sa Ahonen. Not sure if this is on...</td>\n",
       "      <td>Tokenization failed during wallet setup</td>\n",
       "      <td>Hey, Hi, I'm [PERSON]. Not sure if this is on ...</td>\n",
       "      <td>Tokenization failed during wallet setup|| Hey,...</td>\n",
       "    </tr>\n",
       "  </tbody>\n",
       "</table>\n",
       "</div>"
      ],
      "text/plain": [
       "    ticket_id lang                                      subject_clean  \\\n",
       "0  TKT-500000   en  URGENT: Hitting rate limits on /transactions (...   \n",
       "1  TKT-500001   en  Question about KYC — documents keep getting re...   \n",
       "2  TKT-500002   en                 Can’t pay online — keeps declining   \n",
       "3  TKT-500003   sv                       PRIO: Kort saknas, spärra nu   \n",
       "4  TKT-500004   en            Tokenization failed during wallet setup   \n",
       "\n",
       "                                          body_clean  \\\n",
       "0  Hello, Hi, I'm Sam Heikkinen. My card keeps ge...   \n",
       "1  Hi team, Hi, I'm Alex Mäkinen. My card keeps g...   \n",
       "2  Hi team, Hi, I'm Jamie Salonen. Not sure if th...   \n",
       "3  Hallå, Hi, I'm Henrik Svensson. Jag har proble...   \n",
       "4  Hey, Hi, I'm Sa Ahonen. Not sure if this is on...   \n",
       "\n",
       "                                  subject_translated  \\\n",
       "0  URGENT: Hitting rate limits on /transactions (...   \n",
       "1  Question about KYC — documents keep getting re...   \n",
       "2                 Can’t pay online — keeps declining   \n",
       "3                      PRIO: Card missing, block now   \n",
       "4            Tokenization failed during wallet setup   \n",
       "\n",
       "                                     body_translated  \\\n",
       "0  Hello, Hi, I'm Sam Heikkinen. My card keeps ge...   \n",
       "1  Hi team, Hi, I'm Alex Mäkinen. My card keeps g...   \n",
       "2  Hi team, Hi, I'm Jamie Salonen. Not sure if th...   \n",
       "3  Hello, Hi, I'm Henrik Svensson. I have problem...   \n",
       "4  Hey, Hi, I'm Sa Ahonen. Not sure if this is on...   \n",
       "\n",
       "                                      subject_masked  \\\n",
       "0  URGENT: Hitting rate limits on /transactions (...   \n",
       "1  Question about KYC — documents keep getting re...   \n",
       "2                 Can’t pay online — keeps declining   \n",
       "3                      PRIO: Card missing, block now   \n",
       "4            Tokenization failed during wallet setup   \n",
       "\n",
       "                                         body_masked  \\\n",
       "0  Hello, Hi, I'm [PERSON]. My card keeps getting...   \n",
       "1  Hi team, Hi, I'm [PERSON]. My card keeps getti...   \n",
       "2  Hi team, Hi, I'm [PERSON]. Not sure if this is...   \n",
       "3  Hello, Hi, I'm [PERSON]. I have problems with ...   \n",
       "4  Hey, Hi, I'm [PERSON]. Not sure if this is on ...   \n",
       "\n",
       "                                       combined_text  \n",
       "0  URGENT: Hitting rate limits on /transactions (...  \n",
       "1  Question about KYC — documents keep getting re...  \n",
       "2  Can’t pay online — keeps declining|| Hi team, ...  \n",
       "3  PRIO: Card missing, block now|| Hello, Hi, I'm...  \n",
       "4  Tokenization failed during wallet setup|| Hey,...  "
      ]
     },
     "execution_count": 4,
     "metadata": {},
     "output_type": "execute_result"
    }
   ],
   "source": [
    "# Combine text columns into one for keyword extraction and later use\n",
    "tickets_cleaned[\"combined_text\"] = tickets_cleaned[\"subject_masked\"] + \"|| \" + tickets_cleaned[\"body_masked\"]\n",
    "\n",
    "# Verify\n",
    "tickets_cleaned.head()\n"
   ]
  },
  {
   "cell_type": "code",
   "execution_count": 5,
   "id": "ba19b4aa-8c88-4f98-a2e6-d9ca0105852d",
   "metadata": {},
   "outputs": [
    {
     "name": "stderr",
     "output_type": "stream",
     "text": [
      "Extracting keywords:   2%|▎              | 1003/49800 [00:33<24:26, 33.28text/s]"
     ]
    },
    {
     "name": "stdout",
     "output_type": "stream",
     "text": [
      "[INFO] Processed 1000/49800 texts\n"
     ]
    },
    {
     "name": "stderr",
     "output_type": "stream",
     "text": [
      "Extracting keywords:   4%|▌              | 2005/49800 [01:02<23:25, 34.01text/s]"
     ]
    },
    {
     "name": "stdout",
     "output_type": "stream",
     "text": [
      "[INFO] Processed 2000/49800 texts\n"
     ]
    },
    {
     "name": "stderr",
     "output_type": "stream",
     "text": [
      "Extracting keywords:   6%|▉              | 3003/49800 [01:32<24:05, 32.37text/s]"
     ]
    },
    {
     "name": "stdout",
     "output_type": "stream",
     "text": [
      "[INFO] Processed 3000/49800 texts\n"
     ]
    },
    {
     "name": "stderr",
     "output_type": "stream",
     "text": [
      "Extracting keywords:   8%|█▏             | 4004/49800 [02:02<22:16, 34.27text/s]"
     ]
    },
    {
     "name": "stdout",
     "output_type": "stream",
     "text": [
      "[INFO] Processed 4000/49800 texts\n"
     ]
    },
    {
     "name": "stderr",
     "output_type": "stream",
     "text": [
      "Extracting keywords:  10%|█▌             | 5003/49800 [02:32<22:09, 33.69text/s]"
     ]
    },
    {
     "name": "stdout",
     "output_type": "stream",
     "text": [
      "[INFO] Processed 5000/49800 texts\n"
     ]
    },
    {
     "name": "stderr",
     "output_type": "stream",
     "text": [
      "Extracting keywords:  12%|█▊             | 6005/49800 [03:02<21:25, 34.08text/s]"
     ]
    },
    {
     "name": "stdout",
     "output_type": "stream",
     "text": [
      "[INFO] Processed 6000/49800 texts\n"
     ]
    },
    {
     "name": "stderr",
     "output_type": "stream",
     "text": [
      "Extracting keywords:  14%|██             | 7005/49800 [03:32<23:34, 30.26text/s]"
     ]
    },
    {
     "name": "stdout",
     "output_type": "stream",
     "text": [
      "[INFO] Processed 7000/49800 texts\n"
     ]
    },
    {
     "name": "stderr",
     "output_type": "stream",
     "text": [
      "Extracting keywords:  16%|██▍            | 8004/49800 [04:01<20:37, 33.79text/s]"
     ]
    },
    {
     "name": "stdout",
     "output_type": "stream",
     "text": [
      "[INFO] Processed 8000/49800 texts\n"
     ]
    },
    {
     "name": "stderr",
     "output_type": "stream",
     "text": [
      "Extracting keywords:  18%|██▋            | 9006/49800 [04:31<19:39, 34.58text/s]"
     ]
    },
    {
     "name": "stdout",
     "output_type": "stream",
     "text": [
      "[INFO] Processed 9000/49800 texts\n"
     ]
    },
    {
     "name": "stderr",
     "output_type": "stream",
     "text": [
      "Extracting keywords:  20%|██▊           | 10004/49800 [05:01<19:54, 33.31text/s]"
     ]
    },
    {
     "name": "stdout",
     "output_type": "stream",
     "text": [
      "[INFO] Processed 10000/49800 texts\n"
     ]
    },
    {
     "name": "stderr",
     "output_type": "stream",
     "text": [
      "Extracting keywords:  22%|███           | 11003/49800 [05:31<20:08, 32.11text/s]"
     ]
    },
    {
     "name": "stdout",
     "output_type": "stream",
     "text": [
      "[INFO] Processed 11000/49800 texts\n"
     ]
    },
    {
     "name": "stderr",
     "output_type": "stream",
     "text": [
      "Extracting keywords:  24%|███▍          | 12006/49800 [06:01<19:05, 33.01text/s]"
     ]
    },
    {
     "name": "stdout",
     "output_type": "stream",
     "text": [
      "[INFO] Processed 12000/49800 texts\n"
     ]
    },
    {
     "name": "stderr",
     "output_type": "stream",
     "text": [
      "Extracting keywords:  26%|███▋          | 13003/49800 [06:31<18:21, 33.42text/s]"
     ]
    },
    {
     "name": "stdout",
     "output_type": "stream",
     "text": [
      "[INFO] Processed 13000/49800 texts\n"
     ]
    },
    {
     "name": "stderr",
     "output_type": "stream",
     "text": [
      "Extracting keywords:  28%|███▉          | 14005/49800 [07:00<18:32, 32.18text/s]"
     ]
    },
    {
     "name": "stdout",
     "output_type": "stream",
     "text": [
      "[INFO] Processed 14000/49800 texts\n"
     ]
    },
    {
     "name": "stderr",
     "output_type": "stream",
     "text": [
      "Extracting keywords:  30%|████▏         | 15007/49800 [07:30<17:03, 34.01text/s]"
     ]
    },
    {
     "name": "stdout",
     "output_type": "stream",
     "text": [
      "[INFO] Processed 15000/49800 texts\n"
     ]
    },
    {
     "name": "stderr",
     "output_type": "stream",
     "text": [
      "Extracting keywords:  32%|████▍         | 16005/49800 [08:01<18:00, 31.29text/s]"
     ]
    },
    {
     "name": "stdout",
     "output_type": "stream",
     "text": [
      "[INFO] Processed 16000/49800 texts\n"
     ]
    },
    {
     "name": "stderr",
     "output_type": "stream",
     "text": [
      "Extracting keywords:  34%|████▊         | 17005/49800 [08:31<17:12, 31.76text/s]"
     ]
    },
    {
     "name": "stdout",
     "output_type": "stream",
     "text": [
      "[INFO] Processed 17000/49800 texts\n"
     ]
    },
    {
     "name": "stderr",
     "output_type": "stream",
     "text": [
      "Extracting keywords:  36%|█████         | 18003/49800 [09:01<16:25, 32.27text/s]"
     ]
    },
    {
     "name": "stdout",
     "output_type": "stream",
     "text": [
      "[INFO] Processed 18000/49800 texts\n"
     ]
    },
    {
     "name": "stderr",
     "output_type": "stream",
     "text": [
      "Extracting keywords:  38%|█████▎        | 19005/49800 [09:31<15:24, 33.30text/s]"
     ]
    },
    {
     "name": "stdout",
     "output_type": "stream",
     "text": [
      "[INFO] Processed 19000/49800 texts\n"
     ]
    },
    {
     "name": "stderr",
     "output_type": "stream",
     "text": [
      "Extracting keywords:  40%|█████▌        | 20004/49800 [10:00<14:46, 33.60text/s]"
     ]
    },
    {
     "name": "stdout",
     "output_type": "stream",
     "text": [
      "[INFO] Processed 20000/49800 texts\n"
     ]
    },
    {
     "name": "stderr",
     "output_type": "stream",
     "text": [
      "Extracting keywords:  42%|█████▉        | 21006/49800 [10:31<14:26, 33.22text/s]"
     ]
    },
    {
     "name": "stdout",
     "output_type": "stream",
     "text": [
      "[INFO] Processed 21000/49800 texts\n"
     ]
    },
    {
     "name": "stderr",
     "output_type": "stream",
     "text": [
      "Extracting keywords:  44%|██████▏       | 22004/49800 [11:00<13:29, 34.34text/s]"
     ]
    },
    {
     "name": "stdout",
     "output_type": "stream",
     "text": [
      "[INFO] Processed 22000/49800 texts\n"
     ]
    },
    {
     "name": "stderr",
     "output_type": "stream",
     "text": [
      "Extracting keywords:  46%|██████▍       | 23003/49800 [11:30<12:41, 35.18text/s]"
     ]
    },
    {
     "name": "stdout",
     "output_type": "stream",
     "text": [
      "[INFO] Processed 23000/49800 texts\n"
     ]
    },
    {
     "name": "stderr",
     "output_type": "stream",
     "text": [
      "Extracting keywords:  48%|██████▋       | 24004/49800 [12:00<12:31, 34.31text/s]"
     ]
    },
    {
     "name": "stdout",
     "output_type": "stream",
     "text": [
      "[INFO] Processed 24000/49800 texts\n"
     ]
    },
    {
     "name": "stderr",
     "output_type": "stream",
     "text": [
      "Extracting keywords:  50%|███████       | 25005/49800 [12:30<11:46, 35.10text/s]"
     ]
    },
    {
     "name": "stdout",
     "output_type": "stream",
     "text": [
      "[INFO] Processed 25000/49800 texts\n"
     ]
    },
    {
     "name": "stderr",
     "output_type": "stream",
     "text": [
      "Extracting keywords:  52%|███████▎      | 26006/49800 [12:59<11:16, 35.18text/s]"
     ]
    },
    {
     "name": "stdout",
     "output_type": "stream",
     "text": [
      "[INFO] Processed 26000/49800 texts\n"
     ]
    },
    {
     "name": "stderr",
     "output_type": "stream",
     "text": [
      "Extracting keywords:  54%|███████▌      | 27006/49800 [13:29<11:16, 33.69text/s]"
     ]
    },
    {
     "name": "stdout",
     "output_type": "stream",
     "text": [
      "[INFO] Processed 27000/49800 texts\n"
     ]
    },
    {
     "name": "stderr",
     "output_type": "stream",
     "text": [
      "Extracting keywords:  56%|███████▊      | 28003/49800 [13:59<10:49, 33.56text/s]"
     ]
    },
    {
     "name": "stdout",
     "output_type": "stream",
     "text": [
      "[INFO] Processed 28000/49800 texts\n"
     ]
    },
    {
     "name": "stderr",
     "output_type": "stream",
     "text": [
      "Extracting keywords:  58%|████████▏     | 29007/49800 [14:29<10:13, 33.87text/s]"
     ]
    },
    {
     "name": "stdout",
     "output_type": "stream",
     "text": [
      "[INFO] Processed 29000/49800 texts\n"
     ]
    },
    {
     "name": "stderr",
     "output_type": "stream",
     "text": [
      "Extracting keywords:  60%|████████▍     | 30002/49800 [14:59<10:35, 31.16text/s]"
     ]
    },
    {
     "name": "stdout",
     "output_type": "stream",
     "text": [
      "[INFO] Processed 30000/49800 texts\n"
     ]
    },
    {
     "name": "stderr",
     "output_type": "stream",
     "text": [
      "Extracting keywords:  62%|████████▋     | 31003/49800 [15:28<09:12, 34.05text/s]"
     ]
    },
    {
     "name": "stdout",
     "output_type": "stream",
     "text": [
      "[INFO] Processed 31000/49800 texts\n"
     ]
    },
    {
     "name": "stderr",
     "output_type": "stream",
     "text": [
      "Extracting keywords:  64%|████████▉     | 32004/49800 [15:59<09:26, 31.40text/s]"
     ]
    },
    {
     "name": "stdout",
     "output_type": "stream",
     "text": [
      "[INFO] Processed 32000/49800 texts\n"
     ]
    },
    {
     "name": "stderr",
     "output_type": "stream",
     "text": [
      "Extracting keywords:  66%|█████████▎    | 33005/49800 [16:28<07:47, 35.89text/s]"
     ]
    },
    {
     "name": "stdout",
     "output_type": "stream",
     "text": [
      "[INFO] Processed 33000/49800 texts\n"
     ]
    },
    {
     "name": "stderr",
     "output_type": "stream",
     "text": [
      "Extracting keywords:  68%|█████████▌    | 34006/49800 [16:58<07:41, 34.25text/s]"
     ]
    },
    {
     "name": "stdout",
     "output_type": "stream",
     "text": [
      "[INFO] Processed 34000/49800 texts\n"
     ]
    },
    {
     "name": "stderr",
     "output_type": "stream",
     "text": [
      "Extracting keywords:  70%|█████████▊    | 35003/49800 [17:27<07:39, 32.20text/s]"
     ]
    },
    {
     "name": "stdout",
     "output_type": "stream",
     "text": [
      "[INFO] Processed 35000/49800 texts\n"
     ]
    },
    {
     "name": "stderr",
     "output_type": "stream",
     "text": [
      "Extracting keywords:  72%|██████████    | 36005/49800 [17:57<07:04, 32.51text/s]"
     ]
    },
    {
     "name": "stdout",
     "output_type": "stream",
     "text": [
      "[INFO] Processed 36000/49800 texts\n"
     ]
    },
    {
     "name": "stderr",
     "output_type": "stream",
     "text": [
      "Extracting keywords:  74%|██████████▍   | 37004/49800 [18:27<06:40, 31.99text/s]"
     ]
    },
    {
     "name": "stdout",
     "output_type": "stream",
     "text": [
      "[INFO] Processed 37000/49800 texts\n"
     ]
    },
    {
     "name": "stderr",
     "output_type": "stream",
     "text": [
      "Extracting keywords:  76%|██████████▋   | 38006/49800 [18:57<04:58, 39.49text/s]"
     ]
    },
    {
     "name": "stdout",
     "output_type": "stream",
     "text": [
      "[INFO] Processed 38000/49800 texts\n"
     ]
    },
    {
     "name": "stderr",
     "output_type": "stream",
     "text": [
      "Extracting keywords:  78%|██████████▉   | 39005/49800 [19:27<05:02, 35.64text/s]"
     ]
    },
    {
     "name": "stdout",
     "output_type": "stream",
     "text": [
      "[INFO] Processed 39000/49800 texts\n"
     ]
    },
    {
     "name": "stderr",
     "output_type": "stream",
     "text": [
      "Extracting keywords:  80%|███████████▏  | 40007/49800 [19:57<04:26, 36.76text/s]"
     ]
    },
    {
     "name": "stdout",
     "output_type": "stream",
     "text": [
      "[INFO] Processed 40000/49800 texts\n"
     ]
    },
    {
     "name": "stderr",
     "output_type": "stream",
     "text": [
      "Extracting keywords:  82%|███████████▌  | 41004/49800 [20:26<04:02, 36.30text/s]"
     ]
    },
    {
     "name": "stdout",
     "output_type": "stream",
     "text": [
      "[INFO] Processed 41000/49800 texts\n"
     ]
    },
    {
     "name": "stderr",
     "output_type": "stream",
     "text": [
      "Extracting keywords:  84%|███████████▊  | 42006/49800 [20:56<03:46, 34.47text/s]"
     ]
    },
    {
     "name": "stdout",
     "output_type": "stream",
     "text": [
      "[INFO] Processed 42000/49800 texts\n"
     ]
    },
    {
     "name": "stderr",
     "output_type": "stream",
     "text": [
      "Extracting keywords:  86%|████████████  | 43002/49800 [21:26<03:28, 32.62text/s]"
     ]
    },
    {
     "name": "stdout",
     "output_type": "stream",
     "text": [
      "[INFO] Processed 43000/49800 texts\n"
     ]
    },
    {
     "name": "stderr",
     "output_type": "stream",
     "text": [
      "Extracting keywords:  88%|████████████▎ | 44003/49800 [21:55<02:55, 33.05text/s]"
     ]
    },
    {
     "name": "stdout",
     "output_type": "stream",
     "text": [
      "[INFO] Processed 44000/49800 texts\n"
     ]
    },
    {
     "name": "stderr",
     "output_type": "stream",
     "text": [
      "Extracting keywords:  90%|████████████▋ | 45003/49800 [22:25<02:19, 34.51text/s]"
     ]
    },
    {
     "name": "stdout",
     "output_type": "stream",
     "text": [
      "[INFO] Processed 45000/49800 texts\n"
     ]
    },
    {
     "name": "stderr",
     "output_type": "stream",
     "text": [
      "Extracting keywords:  92%|████████████▉ | 46002/49800 [22:55<01:51, 34.05text/s]"
     ]
    },
    {
     "name": "stdout",
     "output_type": "stream",
     "text": [
      "[INFO] Processed 46000/49800 texts\n"
     ]
    },
    {
     "name": "stderr",
     "output_type": "stream",
     "text": [
      "Extracting keywords:  94%|█████████████▏| 47005/49800 [23:25<01:28, 31.69text/s]"
     ]
    },
    {
     "name": "stdout",
     "output_type": "stream",
     "text": [
      "[INFO] Processed 47000/49800 texts\n"
     ]
    },
    {
     "name": "stderr",
     "output_type": "stream",
     "text": [
      "Extracting keywords:  96%|█████████████▍| 48003/49800 [23:54<00:55, 32.56text/s]"
     ]
    },
    {
     "name": "stdout",
     "output_type": "stream",
     "text": [
      "[INFO] Processed 48000/49800 texts\n"
     ]
    },
    {
     "name": "stderr",
     "output_type": "stream",
     "text": [
      "Extracting keywords:  98%|█████████████▊| 49005/49800 [24:24<00:24, 32.64text/s]"
     ]
    },
    {
     "name": "stdout",
     "output_type": "stream",
     "text": [
      "[INFO] Processed 49000/49800 texts\n"
     ]
    },
    {
     "name": "stderr",
     "output_type": "stream",
     "text": [
      "Extracting keywords: 100%|██████████████| 49800/49800 [24:48<00:00, 33.46text/s]\n"
     ]
    },
    {
     "name": "stdout",
     "output_type": "stream",
     "text": [
      "[INFO] Keyword extraction completed for 49800 texts\n"
     ]
    },
    {
     "data": {
      "text/html": [
       "<div>\n",
       "<style scoped>\n",
       "    .dataframe tbody tr th:only-of-type {\n",
       "        vertical-align: middle;\n",
       "    }\n",
       "\n",
       "    .dataframe tbody tr th {\n",
       "        vertical-align: top;\n",
       "    }\n",
       "\n",
       "    .dataframe thead th {\n",
       "        text-align: right;\n",
       "    }\n",
       "</style>\n",
       "<table border=\"1\" class=\"dataframe\">\n",
       "  <thead>\n",
       "    <tr style=\"text-align: right;\">\n",
       "      <th></th>\n",
       "      <th>ticket_id</th>\n",
       "      <th>lang</th>\n",
       "      <th>subject_clean</th>\n",
       "      <th>body_clean</th>\n",
       "      <th>subject_translated</th>\n",
       "      <th>body_translated</th>\n",
       "      <th>subject_masked</th>\n",
       "      <th>body_masked</th>\n",
       "      <th>combined_text</th>\n",
       "      <th>keywords</th>\n",
       "    </tr>\n",
       "  </thead>\n",
       "  <tbody>\n",
       "    <tr>\n",
       "      <th>0</th>\n",
       "      <td>TKT-500000</td>\n",
       "      <td>en</td>\n",
       "      <td>URGENT: Hitting rate limits on /transactions (...</td>\n",
       "      <td>Hello, Hi, I'm Sam Heikkinen. My card keeps ge...</td>\n",
       "      <td>URGENT: Hitting rate limits on /transactions (...</td>\n",
       "      <td>Hello, Hi, I'm Sam Heikkinen. My card keeps ge...</td>\n",
       "      <td>URGENT: Hitting rate limits on /transactions (...</td>\n",
       "      <td>Hello, Hi, I'm [PERSON]. My card keeps getting...</td>\n",
       "      <td>URGENT: Hitting rate limits on /transactions (...</td>\n",
       "      <td>rate limits transactions error, limits transac...</td>\n",
       "    </tr>\n",
       "    <tr>\n",
       "      <th>1</th>\n",
       "      <td>TKT-500001</td>\n",
       "      <td>en</td>\n",
       "      <td>Question about KYC — documents keep getting re...</td>\n",
       "      <td>Hi team, Hi, I'm Alex Mäkinen. My card keeps g...</td>\n",
       "      <td>Question about KYC — documents keep getting re...</td>\n",
       "      <td>Hi team, Hi, I'm Alex Mäkinen. My card keeps g...</td>\n",
       "      <td>Question about KYC — documents keep getting re...</td>\n",
       "      <td>Hi team, Hi, I'm [PERSON]. My card keeps getti...</td>\n",
       "      <td>Question about KYC — documents keep getting re...</td>\n",
       "      <td>kyc documents getting rejected, kyc documents ...</td>\n",
       "    </tr>\n",
       "    <tr>\n",
       "      <th>2</th>\n",
       "      <td>TKT-500002</td>\n",
       "      <td>en</td>\n",
       "      <td>Can’t pay online — keeps declining</td>\n",
       "      <td>Hi team, Hi, I'm Jamie Salonen. Not sure if th...</td>\n",
       "      <td>Can’t pay online — keeps declining</td>\n",
       "      <td>Hi team, Hi, I'm Jamie Salonen. Not sure if th...</td>\n",
       "      <td>Can’t pay online — keeps declining</td>\n",
       "      <td>Hi team, Hi, I'm [PERSON]. Not sure if this is...</td>\n",
       "      <td>Can’t pay online — keeps declining|| Hi team, ...</td>\n",
       "      <td>pay online keeps declining, online keeps decli...</td>\n",
       "    </tr>\n",
       "    <tr>\n",
       "      <th>3</th>\n",
       "      <td>TKT-500003</td>\n",
       "      <td>sv</td>\n",
       "      <td>PRIO: Kort saknas, spärra nu</td>\n",
       "      <td>Hallå, Hi, I'm Henrik Svensson. Jag har proble...</td>\n",
       "      <td>PRIO: Card missing, block now</td>\n",
       "      <td>Hello, Hi, I'm Henrik Svensson. I have problem...</td>\n",
       "      <td>PRIO: Card missing, block now</td>\n",
       "      <td>Hello, Hi, I'm [PERSON]. I have problems with ...</td>\n",
       "      <td>PRIO: Card missing, block now|| Hello, Hi, I'm...</td>\n",
       "      <td>prio card missing block, prio card missing, hi...</td>\n",
       "    </tr>\n",
       "    <tr>\n",
       "      <th>4</th>\n",
       "      <td>TKT-500004</td>\n",
       "      <td>en</td>\n",
       "      <td>Tokenization failed during wallet setup</td>\n",
       "      <td>Hey, Hi, I'm Sa Ahonen. Not sure if this is on...</td>\n",
       "      <td>Tokenization failed during wallet setup</td>\n",
       "      <td>Hey, Hi, I'm Sa Ahonen. Not sure if this is on...</td>\n",
       "      <td>Tokenization failed during wallet setup</td>\n",
       "      <td>Hey, Hi, I'm [PERSON]. Not sure if this is on ...</td>\n",
       "      <td>Tokenization failed during wallet setup|| Hey,...</td>\n",
       "      <td>tokenization failed wallet, tokenization faile...</td>\n",
       "    </tr>\n",
       "  </tbody>\n",
       "</table>\n",
       "</div>"
      ],
      "text/plain": [
       "    ticket_id lang                                      subject_clean  \\\n",
       "0  TKT-500000   en  URGENT: Hitting rate limits on /transactions (...   \n",
       "1  TKT-500001   en  Question about KYC — documents keep getting re...   \n",
       "2  TKT-500002   en                 Can’t pay online — keeps declining   \n",
       "3  TKT-500003   sv                       PRIO: Kort saknas, spärra nu   \n",
       "4  TKT-500004   en            Tokenization failed during wallet setup   \n",
       "\n",
       "                                          body_clean  \\\n",
       "0  Hello, Hi, I'm Sam Heikkinen. My card keeps ge...   \n",
       "1  Hi team, Hi, I'm Alex Mäkinen. My card keeps g...   \n",
       "2  Hi team, Hi, I'm Jamie Salonen. Not sure if th...   \n",
       "3  Hallå, Hi, I'm Henrik Svensson. Jag har proble...   \n",
       "4  Hey, Hi, I'm Sa Ahonen. Not sure if this is on...   \n",
       "\n",
       "                                  subject_translated  \\\n",
       "0  URGENT: Hitting rate limits on /transactions (...   \n",
       "1  Question about KYC — documents keep getting re...   \n",
       "2                 Can’t pay online — keeps declining   \n",
       "3                      PRIO: Card missing, block now   \n",
       "4            Tokenization failed during wallet setup   \n",
       "\n",
       "                                     body_translated  \\\n",
       "0  Hello, Hi, I'm Sam Heikkinen. My card keeps ge...   \n",
       "1  Hi team, Hi, I'm Alex Mäkinen. My card keeps g...   \n",
       "2  Hi team, Hi, I'm Jamie Salonen. Not sure if th...   \n",
       "3  Hello, Hi, I'm Henrik Svensson. I have problem...   \n",
       "4  Hey, Hi, I'm Sa Ahonen. Not sure if this is on...   \n",
       "\n",
       "                                      subject_masked  \\\n",
       "0  URGENT: Hitting rate limits on /transactions (...   \n",
       "1  Question about KYC — documents keep getting re...   \n",
       "2                 Can’t pay online — keeps declining   \n",
       "3                      PRIO: Card missing, block now   \n",
       "4            Tokenization failed during wallet setup   \n",
       "\n",
       "                                         body_masked  \\\n",
       "0  Hello, Hi, I'm [PERSON]. My card keeps getting...   \n",
       "1  Hi team, Hi, I'm [PERSON]. My card keeps getti...   \n",
       "2  Hi team, Hi, I'm [PERSON]. Not sure if this is...   \n",
       "3  Hello, Hi, I'm [PERSON]. I have problems with ...   \n",
       "4  Hey, Hi, I'm [PERSON]. Not sure if this is on ...   \n",
       "\n",
       "                                       combined_text  \\\n",
       "0  URGENT: Hitting rate limits on /transactions (...   \n",
       "1  Question about KYC — documents keep getting re...   \n",
       "2  Can’t pay online — keeps declining|| Hi team, ...   \n",
       "3  PRIO: Card missing, block now|| Hello, Hi, I'm...   \n",
       "4  Tokenization failed during wallet setup|| Hey,...   \n",
       "\n",
       "                                            keywords  \n",
       "0  rate limits transactions error, limits transac...  \n",
       "1  kyc documents getting rejected, kyc documents ...  \n",
       "2  pay online keeps declining, online keeps decli...  \n",
       "3  prio card missing block, prio card missing, hi...  \n",
       "4  tokenization failed wallet, tokenization faile...  "
      ]
     },
     "execution_count": 5,
     "metadata": {},
     "output_type": "execute_result"
    }
   ],
   "source": [
    "# Extract keywords from the combined text\n",
    "keywords_list = prep.extract_keywords_batch(tickets_cleaned[\"combined_text\"].tolist(), top_n=10)\n",
    "\n",
    "# Store keywords as a comma-separated string\n",
    "tickets_cleaned[\"keywords\"] = [\", \".join(kws) for kws in keywords_list]\n",
    "\n",
    "# Verify\n",
    "tickets_cleaned.head()\n"
   ]
  },
  {
   "cell_type": "code",
   "execution_count": null,
   "id": "1b6f1b29-d77a-44ee-88a1-a96d758d7546",
   "metadata": {},
   "outputs": [],
   "source": [
    "# # Hello, Hi, I'm Sam Heikkinen. My card keeps getting errors when I try to pay. Balance should be fine, so I'm confused. I tried three times today, same result. Balance shkouldj be fine, so I'm confused.\n",
    "# # Hallå, Hi, I'm Henrik Svensson. Jag har problem med card lost/stolen. Som jag nämnde tidigare, detta blockerar oss. Phone: +46 101 389 4079 IBAN: FI9106024211679678 Card: 4000 1234 5678 9010 Säg till om ni behöver skärmdumpar. Med vänlig hälsning.\n",
    "# # Hei, Hi, I'm Sanna Mäkinen. Ongelma liittyy aiheeseen: API Rate Limit/Auth. 💳 IBAN: FI8663695284994003 As mentioned earlier, this is blocking our checkout. Ilmoittakaa jos tarvitsette kuvakaappauksia. Saldon pitäisi riittää, joten olen hämmentynyt. Ilmoittakaa jos tarvitsette kuvakaappauksia. Saldon pitäisi riittää, joten olen hämmentynyt.\n",
    "# #Hej, Hi, I'm Matilda Virtanen. Jag har problem med dispute/chargeback. Testade också på en annan enhet. 🙏 Phone: +358 167 297 3630 Email: matilda.virtanen@example.com Card: 4970 **** **** 8430 Säg till om ni behöver skärmdumpar. Försökte tre gånger idag, samma resultat. Försökte tre gånger idag, samma resultat. Täckningen borde räcka, så jag är förvirrad. Tack!\n",
    "\n",
    "# masked = preprocess_ticket(\"Hej, Hi, I'm Matilda Virtanen. Jag har problem med dispute/chargeback. Testade också på en annan enhet. 🙏 Phone: +358 167 297 3630 Email: matilda.virtanen@example.com Card: 4970 **** **** 8430 Säg till om ni behöver skärmdumpar. Försökte tre gånger idag, samma resultat. Försökte tre gånger idag, samma resultat. Täckningen borde räcka, så jag är förvirrad. Tack!\")"
   ]
  },
  {
   "cell_type": "code",
   "execution_count": 6,
   "id": "45130f98-30c5-439b-b118-9ebeceb8e2d8",
   "metadata": {},
   "outputs": [
    {
     "data": {
      "text/html": [
       "<div>\n",
       "<style scoped>\n",
       "    .dataframe tbody tr th:only-of-type {\n",
       "        vertical-align: middle;\n",
       "    }\n",
       "\n",
       "    .dataframe tbody tr th {\n",
       "        vertical-align: top;\n",
       "    }\n",
       "\n",
       "    .dataframe thead th {\n",
       "        text-align: right;\n",
       "    }\n",
       "</style>\n",
       "<table border=\"1\" class=\"dataframe\">\n",
       "  <thead>\n",
       "    <tr style=\"text-align: right;\">\n",
       "      <th></th>\n",
       "      <th>ticket_id</th>\n",
       "      <th>lang</th>\n",
       "      <th>subject_clean</th>\n",
       "      <th>body_clean</th>\n",
       "      <th>subject_translated</th>\n",
       "      <th>body_translated</th>\n",
       "      <th>subject_masked</th>\n",
       "      <th>body_masked</th>\n",
       "      <th>combined_text</th>\n",
       "      <th>keywords</th>\n",
       "    </tr>\n",
       "  </thead>\n",
       "  <tbody>\n",
       "    <tr>\n",
       "      <th>0</th>\n",
       "      <td>TKT-500000</td>\n",
       "      <td>en</td>\n",
       "      <td>URGENT: Hitting rate limits on /transactions (...</td>\n",
       "      <td>Hello, Hi, I'm Sam Heikkinen. My card keeps ge...</td>\n",
       "      <td>URGENT: Hitting rate limits on /transactions (...</td>\n",
       "      <td>Hello, Hi, I'm Sam Heikkinen. My card keeps ge...</td>\n",
       "      <td>URGENT: Hitting rate limits on /transactions (...</td>\n",
       "      <td>Hello, Hi, I'm [PERSON]. My card keeps getting...</td>\n",
       "      <td>URGENT: Hitting rate limits on /transactions (...</td>\n",
       "      <td>rate limits transactions error, limits transac...</td>\n",
       "    </tr>\n",
       "    <tr>\n",
       "      <th>1</th>\n",
       "      <td>TKT-500001</td>\n",
       "      <td>en</td>\n",
       "      <td>Question about KYC — documents keep getting re...</td>\n",
       "      <td>Hi team, Hi, I'm Alex Mäkinen. My card keeps g...</td>\n",
       "      <td>Question about KYC — documents keep getting re...</td>\n",
       "      <td>Hi team, Hi, I'm Alex Mäkinen. My card keeps g...</td>\n",
       "      <td>Question about KYC — documents keep getting re...</td>\n",
       "      <td>Hi team, Hi, I'm [PERSON]. My card keeps getti...</td>\n",
       "      <td>Question about KYC — documents keep getting re...</td>\n",
       "      <td>kyc documents getting rejected, kyc documents ...</td>\n",
       "    </tr>\n",
       "    <tr>\n",
       "      <th>2</th>\n",
       "      <td>TKT-500002</td>\n",
       "      <td>en</td>\n",
       "      <td>Can’t pay online — keeps declining</td>\n",
       "      <td>Hi team, Hi, I'm Jamie Salonen. Not sure if th...</td>\n",
       "      <td>Can’t pay online — keeps declining</td>\n",
       "      <td>Hi team, Hi, I'm Jamie Salonen. Not sure if th...</td>\n",
       "      <td>Can’t pay online — keeps declining</td>\n",
       "      <td>Hi team, Hi, I'm [PERSON]. Not sure if this is...</td>\n",
       "      <td>Can’t pay online — keeps declining|| Hi team, ...</td>\n",
       "      <td>pay online keeps declining, online keeps decli...</td>\n",
       "    </tr>\n",
       "    <tr>\n",
       "      <th>3</th>\n",
       "      <td>TKT-500003</td>\n",
       "      <td>sv</td>\n",
       "      <td>PRIO: Kort saknas, spärra nu</td>\n",
       "      <td>Hallå, Hi, I'm Henrik Svensson. Jag har proble...</td>\n",
       "      <td>PRIO: Card missing, block now</td>\n",
       "      <td>Hello, Hi, I'm Henrik Svensson. I have problem...</td>\n",
       "      <td>PRIO: Card missing, block now</td>\n",
       "      <td>Hello, Hi, I'm [PERSON]. I have problems with ...</td>\n",
       "      <td>PRIO: Card missing, block now|| Hello, Hi, I'm...</td>\n",
       "      <td>prio card missing block, prio card missing, hi...</td>\n",
       "    </tr>\n",
       "    <tr>\n",
       "      <th>4</th>\n",
       "      <td>TKT-500004</td>\n",
       "      <td>en</td>\n",
       "      <td>Tokenization failed during wallet setup</td>\n",
       "      <td>Hey, Hi, I'm Sa Ahonen. Not sure if this is on...</td>\n",
       "      <td>Tokenization failed during wallet setup</td>\n",
       "      <td>Hey, Hi, I'm Sa Ahonen. Not sure if this is on...</td>\n",
       "      <td>Tokenization failed during wallet setup</td>\n",
       "      <td>Hey, Hi, I'm [PERSON]. Not sure if this is on ...</td>\n",
       "      <td>Tokenization failed during wallet setup|| Hey,...</td>\n",
       "      <td>tokenization failed wallet, tokenization faile...</td>\n",
       "    </tr>\n",
       "  </tbody>\n",
       "</table>\n",
       "</div>"
      ],
      "text/plain": [
       "    ticket_id lang                                      subject_clean  \\\n",
       "0  TKT-500000   en  URGENT: Hitting rate limits on /transactions (...   \n",
       "1  TKT-500001   en  Question about KYC — documents keep getting re...   \n",
       "2  TKT-500002   en                 Can’t pay online — keeps declining   \n",
       "3  TKT-500003   sv                       PRIO: Kort saknas, spärra nu   \n",
       "4  TKT-500004   en            Tokenization failed during wallet setup   \n",
       "\n",
       "                                          body_clean  \\\n",
       "0  Hello, Hi, I'm Sam Heikkinen. My card keeps ge...   \n",
       "1  Hi team, Hi, I'm Alex Mäkinen. My card keeps g...   \n",
       "2  Hi team, Hi, I'm Jamie Salonen. Not sure if th...   \n",
       "3  Hallå, Hi, I'm Henrik Svensson. Jag har proble...   \n",
       "4  Hey, Hi, I'm Sa Ahonen. Not sure if this is on...   \n",
       "\n",
       "                                  subject_translated  \\\n",
       "0  URGENT: Hitting rate limits on /transactions (...   \n",
       "1  Question about KYC — documents keep getting re...   \n",
       "2                 Can’t pay online — keeps declining   \n",
       "3                      PRIO: Card missing, block now   \n",
       "4            Tokenization failed during wallet setup   \n",
       "\n",
       "                                     body_translated  \\\n",
       "0  Hello, Hi, I'm Sam Heikkinen. My card keeps ge...   \n",
       "1  Hi team, Hi, I'm Alex Mäkinen. My card keeps g...   \n",
       "2  Hi team, Hi, I'm Jamie Salonen. Not sure if th...   \n",
       "3  Hello, Hi, I'm Henrik Svensson. I have problem...   \n",
       "4  Hey, Hi, I'm Sa Ahonen. Not sure if this is on...   \n",
       "\n",
       "                                      subject_masked  \\\n",
       "0  URGENT: Hitting rate limits on /transactions (...   \n",
       "1  Question about KYC — documents keep getting re...   \n",
       "2                 Can’t pay online — keeps declining   \n",
       "3                      PRIO: Card missing, block now   \n",
       "4            Tokenization failed during wallet setup   \n",
       "\n",
       "                                         body_masked  \\\n",
       "0  Hello, Hi, I'm [PERSON]. My card keeps getting...   \n",
       "1  Hi team, Hi, I'm [PERSON]. My card keeps getti...   \n",
       "2  Hi team, Hi, I'm [PERSON]. Not sure if this is...   \n",
       "3  Hello, Hi, I'm [PERSON]. I have problems with ...   \n",
       "4  Hey, Hi, I'm [PERSON]. Not sure if this is on ...   \n",
       "\n",
       "                                       combined_text  \\\n",
       "0  URGENT: Hitting rate limits on /transactions (...   \n",
       "1  Question about KYC — documents keep getting re...   \n",
       "2  Can’t pay online — keeps declining|| Hi team, ...   \n",
       "3  PRIO: Card missing, block now|| Hello, Hi, I'm...   \n",
       "4  Tokenization failed during wallet setup|| Hey,...   \n",
       "\n",
       "                                            keywords  \n",
       "0  rate limits transactions error, limits transac...  \n",
       "1  kyc documents getting rejected, kyc documents ...  \n",
       "2  pay online keeps declining, online keeps decli...  \n",
       "3  prio card missing block, prio card missing, hi...  \n",
       "4  tokenization failed wallet, tokenization faile...  "
      ]
     },
     "execution_count": 6,
     "metadata": {},
     "output_type": "execute_result"
    }
   ],
   "source": [
    "tickets_cleaned.head()"
   ]
  },
  {
   "cell_type": "code",
   "execution_count": null,
   "id": "325704f7-6041-4e2a-909d-eb915019b419",
   "metadata": {},
   "outputs": [],
   "source": []
  },
  {
   "cell_type": "code",
   "execution_count": 19,
   "id": "0692b170-4e63-416c-b356-6d29b68322f2",
   "metadata": {},
   "outputs": [
    {
     "data": {
      "text/html": [
       "<div>\n",
       "<style scoped>\n",
       "    .dataframe tbody tr th:only-of-type {\n",
       "        vertical-align: middle;\n",
       "    }\n",
       "\n",
       "    .dataframe tbody tr th {\n",
       "        vertical-align: top;\n",
       "    }\n",
       "\n",
       "    .dataframe thead th {\n",
       "        text-align: right;\n",
       "    }\n",
       "</style>\n",
       "<table border=\"1\" class=\"dataframe\">\n",
       "  <thead>\n",
       "    <tr style=\"text-align: right;\">\n",
       "      <th></th>\n",
       "      <th>ticket_id</th>\n",
       "      <th>lang</th>\n",
       "      <th>subject_clean</th>\n",
       "      <th>body_clean</th>\n",
       "      <th>subject_translated</th>\n",
       "      <th>body_translated</th>\n",
       "      <th>subject_masked</th>\n",
       "      <th>body_masked</th>\n",
       "      <th>combined_text</th>\n",
       "      <th>keywords</th>\n",
       "    </tr>\n",
       "  </thead>\n",
       "  <tbody>\n",
       "    <tr>\n",
       "      <th>0</th>\n",
       "      <td>TKT-500000</td>\n",
       "      <td>en</td>\n",
       "      <td>URGENT: Hitting rate limits on /transactions (...</td>\n",
       "      <td>Hello, Hi, I'm Sam Heikkinen. My card keeps ge...</td>\n",
       "      <td>URGENT: Hitting rate limits on /transactions (...</td>\n",
       "      <td>Hello, Hi, I'm Sam Heikkinen. My card keeps ge...</td>\n",
       "      <td>URGENT: Hitting rate limits on /transactions (...</td>\n",
       "      <td>Hello, Hi, I'm [PERSON]. My card keeps getting...</td>\n",
       "      <td>URGENT: Hitting rate limits on /transactions (...</td>\n",
       "      <td>rate limits transactions error, limits transac...</td>\n",
       "    </tr>\n",
       "    <tr>\n",
       "      <th>1</th>\n",
       "      <td>TKT-500001</td>\n",
       "      <td>en</td>\n",
       "      <td>Question about KYC — documents keep getting re...</td>\n",
       "      <td>Hi team, Hi, I'm Alex Mäkinen. My card keeps g...</td>\n",
       "      <td>Question about KYC — documents keep getting re...</td>\n",
       "      <td>Hi team, Hi, I'm Alex Mäkinen. My card keeps g...</td>\n",
       "      <td>Question about KYC — documents keep getting re...</td>\n",
       "      <td>Hi team, Hi, I'm [PERSON]. My card keeps getti...</td>\n",
       "      <td>Question about KYC — documents keep getting re...</td>\n",
       "      <td>kyc documents getting rejected, kyc documents ...</td>\n",
       "    </tr>\n",
       "    <tr>\n",
       "      <th>2</th>\n",
       "      <td>TKT-500002</td>\n",
       "      <td>en</td>\n",
       "      <td>Can’t pay online — keeps declining</td>\n",
       "      <td>Hi team, Hi, I'm Jamie Salonen. Not sure if th...</td>\n",
       "      <td>Can’t pay online — keeps declining</td>\n",
       "      <td>Hi team, Hi, I'm Jamie Salonen. Not sure if th...</td>\n",
       "      <td>Can’t pay online — keeps declining</td>\n",
       "      <td>Hi team, Hi, I'm [PERSON]. Not sure if this is...</td>\n",
       "      <td>Can’t pay online — keeps declining|| Hi team, ...</td>\n",
       "      <td>pay online keeps declining, online keeps decli...</td>\n",
       "    </tr>\n",
       "    <tr>\n",
       "      <th>3</th>\n",
       "      <td>TKT-500003</td>\n",
       "      <td>sv</td>\n",
       "      <td>PRIO: Kort saknas, spärra nu</td>\n",
       "      <td>Hallå, Hi, I'm Henrik Svensson. Jag har proble...</td>\n",
       "      <td>PRIO: Card missing, block now</td>\n",
       "      <td>Hello, Hi, I'm Henrik Svensson. I have problem...</td>\n",
       "      <td>PRIO: Card missing, block now</td>\n",
       "      <td>Hello, Hi, I'm [PERSON]. I have problems with ...</td>\n",
       "      <td>PRIO: Card missing, block now|| Hello, Hi, I'm...</td>\n",
       "      <td>prio card missing block, prio card missing, hi...</td>\n",
       "    </tr>\n",
       "    <tr>\n",
       "      <th>4</th>\n",
       "      <td>TKT-500004</td>\n",
       "      <td>en</td>\n",
       "      <td>Tokenization failed during wallet setup</td>\n",
       "      <td>Hey, Hi, I'm Sa Ahonen. Not sure if this is on...</td>\n",
       "      <td>Tokenization failed during wallet setup</td>\n",
       "      <td>Hey, Hi, I'm Sa Ahonen. Not sure if this is on...</td>\n",
       "      <td>Tokenization failed during wallet setup</td>\n",
       "      <td>Hey, Hi, I'm [PERSON]. Not sure if this is on ...</td>\n",
       "      <td>Tokenization failed during wallet setup|| Hey,...</td>\n",
       "      <td>tokenization failed wallet, tokenization faile...</td>\n",
       "    </tr>\n",
       "    <tr>\n",
       "      <th>5</th>\n",
       "      <td>TKT-500005</td>\n",
       "      <td>en</td>\n",
       "      <td>FYI: Sandbox ok, prod failing</td>\n",
       "      <td>Hello, Hi, I'm Jordan Mäkinen. I'm having trou...</td>\n",
       "      <td>FYI: Sandbox ok, prod failing</td>\n",
       "      <td>Hello, Hi, I'm Jordan Mäkinen. I'm having trou...</td>\n",
       "      <td>FYI: [PERSON], prod failing</td>\n",
       "      <td>Hello, Hi, I'm [PERSON]. I'm having trouble wi...</td>\n",
       "      <td>FYI: Sandbox ok, prod failing|| Hello, Hi, I'm...</td>\n",
       "      <td>trouble integration sdk launch, trouble integr...</td>\n",
       "    </tr>\n",
       "    <tr>\n",
       "      <th>6</th>\n",
       "      <td>TKT-500006</td>\n",
       "      <td>fi</td>\n",
       "      <td>PRIO: Miten kasvattaa API-kiintiötä?</td>\n",
       "      <td>Hei, Hi, I'm Sanna Mäkinen. Ongelma liittyy ai...</td>\n",
       "      <td>PRIO: How to increase the API quota?</td>\n",
       "      <td>Hi, Hi, I'm Sanna Mäkinen. The problem relates...</td>\n",
       "      <td>PRIO: How to increase the API quota?</td>\n",
       "      <td>Hi, Hi, I'm [PERSON]. The problem relates to: ...</td>\n",
       "      <td>PRIO: How to increase the API quota?|| Hi, Hi,...</td>\n",
       "      <td>prio increase api quota, increase api quota hi...</td>\n",
       "    </tr>\n",
       "    <tr>\n",
       "      <th>7</th>\n",
       "      <td>TKT-500007</td>\n",
       "      <td>en</td>\n",
       "      <td>Declined transactions without reason?</td>\n",
       "      <td>Hello, Hi, I'm Drew Laine. My card keeps getti...</td>\n",
       "      <td>Declined transactions without reason?</td>\n",
       "      <td>Hello, Hi, I'm Drew Laine. My card keeps getti...</td>\n",
       "      <td>Declined transactions without reason?</td>\n",
       "      <td>Hello, Hi, I'm [PERSON]. My card keeps getting...</td>\n",
       "      <td>Declined transactions without reason?|| Hello,...</td>\n",
       "      <td>card keeps getting declined, getting declined ...</td>\n",
       "    </tr>\n",
       "    <tr>\n",
       "      <th>8</th>\n",
       "      <td>TKT-500008</td>\n",
       "      <td>sv</td>\n",
       "      <td>Tillfällig höjning av e‑handelsgräns</td>\n",
       "      <td>Hej där, Hi, I'm Sofia Ahonen. Mitt kort blir ...</td>\n",
       "      <td>Temporary increase of e-commerce limit</td>\n",
       "      <td>Hi there, Hi, I'm Sofia Ahonen. My card gets w...</td>\n",
       "      <td>Temporary increase of e-commerce limit</td>\n",
       "      <td>Hi there, Hi, I'm [PERSON]. My card gets wrong...</td>\n",
       "      <td>Temporary increase of e-commerce limit|| Hi th...</td>\n",
       "      <td>temporary increase commerce limit, increase co...</td>\n",
       "    </tr>\n",
       "    <tr>\n",
       "      <th>9</th>\n",
       "      <td>TKT-500009</td>\n",
       "      <td>en</td>\n",
       "      <td>Question about last month’s fees</td>\n",
       "      <td>Hi, I'm Alex Ahonen. Not sure if this is on my...</td>\n",
       "      <td>Question about last month’s fees</td>\n",
       "      <td>Hi, I'm Alex Ahonen. Not sure if this is on my...</td>\n",
       "      <td>Question about last month’s fees</td>\n",
       "      <td>Hi, I'm [PERSON]. Not sure if this is on my si...</td>\n",
       "      <td>Question about last month’s fees|| Hi, I'm [PE...</td>\n",
       "      <td>card 4970 7040 tested, tested device card 4970...</td>\n",
       "    </tr>\n",
       "  </tbody>\n",
       "</table>\n",
       "</div>"
      ],
      "text/plain": [
       "    ticket_id lang                                      subject_clean  \\\n",
       "0  TKT-500000   en  URGENT: Hitting rate limits on /transactions (...   \n",
       "1  TKT-500001   en  Question about KYC — documents keep getting re...   \n",
       "2  TKT-500002   en                 Can’t pay online — keeps declining   \n",
       "3  TKT-500003   sv                       PRIO: Kort saknas, spärra nu   \n",
       "4  TKT-500004   en            Tokenization failed during wallet setup   \n",
       "5  TKT-500005   en                      FYI: Sandbox ok, prod failing   \n",
       "6  TKT-500006   fi               PRIO: Miten kasvattaa API-kiintiötä?   \n",
       "7  TKT-500007   en              Declined transactions without reason?   \n",
       "8  TKT-500008   sv               Tillfällig höjning av e‑handelsgräns   \n",
       "9  TKT-500009   en                   Question about last month’s fees   \n",
       "\n",
       "                                          body_clean  \\\n",
       "0  Hello, Hi, I'm Sam Heikkinen. My card keeps ge...   \n",
       "1  Hi team, Hi, I'm Alex Mäkinen. My card keeps g...   \n",
       "2  Hi team, Hi, I'm Jamie Salonen. Not sure if th...   \n",
       "3  Hallå, Hi, I'm Henrik Svensson. Jag har proble...   \n",
       "4  Hey, Hi, I'm Sa Ahonen. Not sure if this is on...   \n",
       "5  Hello, Hi, I'm Jordan Mäkinen. I'm having trou...   \n",
       "6  Hei, Hi, I'm Sanna Mäkinen. Ongelma liittyy ai...   \n",
       "7  Hello, Hi, I'm Drew Laine. My card keeps getti...   \n",
       "8  Hej där, Hi, I'm Sofia Ahonen. Mitt kort blir ...   \n",
       "9  Hi, I'm Alex Ahonen. Not sure if this is on my...   \n",
       "\n",
       "                                  subject_translated  \\\n",
       "0  URGENT: Hitting rate limits on /transactions (...   \n",
       "1  Question about KYC — documents keep getting re...   \n",
       "2                 Can’t pay online — keeps declining   \n",
       "3                      PRIO: Card missing, block now   \n",
       "4            Tokenization failed during wallet setup   \n",
       "5                      FYI: Sandbox ok, prod failing   \n",
       "6               PRIO: How to increase the API quota?   \n",
       "7              Declined transactions without reason?   \n",
       "8             Temporary increase of e-commerce limit   \n",
       "9                   Question about last month’s fees   \n",
       "\n",
       "                                     body_translated  \\\n",
       "0  Hello, Hi, I'm Sam Heikkinen. My card keeps ge...   \n",
       "1  Hi team, Hi, I'm Alex Mäkinen. My card keeps g...   \n",
       "2  Hi team, Hi, I'm Jamie Salonen. Not sure if th...   \n",
       "3  Hello, Hi, I'm Henrik Svensson. I have problem...   \n",
       "4  Hey, Hi, I'm Sa Ahonen. Not sure if this is on...   \n",
       "5  Hello, Hi, I'm Jordan Mäkinen. I'm having trou...   \n",
       "6  Hi, Hi, I'm Sanna Mäkinen. The problem relates...   \n",
       "7  Hello, Hi, I'm Drew Laine. My card keeps getti...   \n",
       "8  Hi there, Hi, I'm Sofia Ahonen. My card gets w...   \n",
       "9  Hi, I'm Alex Ahonen. Not sure if this is on my...   \n",
       "\n",
       "                                      subject_masked  \\\n",
       "0  URGENT: Hitting rate limits on /transactions (...   \n",
       "1  Question about KYC — documents keep getting re...   \n",
       "2                 Can’t pay online — keeps declining   \n",
       "3                      PRIO: Card missing, block now   \n",
       "4            Tokenization failed during wallet setup   \n",
       "5                        FYI: [PERSON], prod failing   \n",
       "6               PRIO: How to increase the API quota?   \n",
       "7              Declined transactions without reason?   \n",
       "8             Temporary increase of e-commerce limit   \n",
       "9                   Question about last month’s fees   \n",
       "\n",
       "                                         body_masked  \\\n",
       "0  Hello, Hi, I'm [PERSON]. My card keeps getting...   \n",
       "1  Hi team, Hi, I'm [PERSON]. My card keeps getti...   \n",
       "2  Hi team, Hi, I'm [PERSON]. Not sure if this is...   \n",
       "3  Hello, Hi, I'm [PERSON]. I have problems with ...   \n",
       "4  Hey, Hi, I'm [PERSON]. Not sure if this is on ...   \n",
       "5  Hello, Hi, I'm [PERSON]. I'm having trouble wi...   \n",
       "6  Hi, Hi, I'm [PERSON]. The problem relates to: ...   \n",
       "7  Hello, Hi, I'm [PERSON]. My card keeps getting...   \n",
       "8  Hi there, Hi, I'm [PERSON]. My card gets wrong...   \n",
       "9  Hi, I'm [PERSON]. Not sure if this is on my si...   \n",
       "\n",
       "                                       combined_text  \\\n",
       "0  URGENT: Hitting rate limits on /transactions (...   \n",
       "1  Question about KYC — documents keep getting re...   \n",
       "2  Can’t pay online — keeps declining|| Hi team, ...   \n",
       "3  PRIO: Card missing, block now|| Hello, Hi, I'm...   \n",
       "4  Tokenization failed during wallet setup|| Hey,...   \n",
       "5  FYI: Sandbox ok, prod failing|| Hello, Hi, I'm...   \n",
       "6  PRIO: How to increase the API quota?|| Hi, Hi,...   \n",
       "7  Declined transactions without reason?|| Hello,...   \n",
       "8  Temporary increase of e-commerce limit|| Hi th...   \n",
       "9  Question about last month’s fees|| Hi, I'm [PE...   \n",
       "\n",
       "                                            keywords  \n",
       "0  rate limits transactions error, limits transac...  \n",
       "1  kyc documents getting rejected, kyc documents ...  \n",
       "2  pay online keeps declining, online keeps decli...  \n",
       "3  prio card missing block, prio card missing, hi...  \n",
       "4  tokenization failed wallet, tokenization faile...  \n",
       "5  trouble integration sdk launch, trouble integr...  \n",
       "6  prio increase api quota, increase api quota hi...  \n",
       "7  card keeps getting declined, getting declined ...  \n",
       "8  temporary increase commerce limit, increase co...  \n",
       "9  card 4970 7040 tested, tested device card 4970...  "
      ]
     },
     "execution_count": 19,
     "metadata": {},
     "output_type": "execute_result"
    }
   ],
   "source": [
    "# Combine text columns into one for keyword extraction and later use\n",
    "tickets_cleaned[\"combined_text\"] = tickets_cleaned[\"subject_translated\"] + \"|| \" + tickets_cleaned[\"body_masked\"]\n",
    "\n",
    "# Verify\n",
    "tickets_cleaned.head(10)"
   ]
  },
  {
   "cell_type": "code",
   "execution_count": null,
   "id": "b8c9c25d-0961-4628-a2f8-86827bafed35",
   "metadata": {},
   "outputs": [],
   "source": []
  },
  {
   "cell_type": "code",
   "execution_count": null,
   "id": "f157608a-76fa-4ad5-8487-5bd42b397409",
   "metadata": {},
   "outputs": [],
   "source": []
  },
  {
   "cell_type": "code",
   "execution_count": null,
   "id": "ce29b2ee-11e7-49af-8295-198f65f993db",
   "metadata": {},
   "outputs": [],
   "source": []
  },
  {
   "cell_type": "code",
   "execution_count": 21,
   "id": "7b95a217-ee85-4262-a623-ad35b85beea1",
   "metadata": {},
   "outputs": [
    {
     "data": {
      "text/html": [
       "<div>\n",
       "<style scoped>\n",
       "    .dataframe tbody tr th:only-of-type {\n",
       "        vertical-align: middle;\n",
       "    }\n",
       "\n",
       "    .dataframe tbody tr th {\n",
       "        vertical-align: top;\n",
       "    }\n",
       "\n",
       "    .dataframe thead th {\n",
       "        text-align: right;\n",
       "    }\n",
       "</style>\n",
       "<table border=\"1\" class=\"dataframe\">\n",
       "  <thead>\n",
       "    <tr style=\"text-align: right;\">\n",
       "      <th></th>\n",
       "      <th>ticket_id</th>\n",
       "      <th>lang</th>\n",
       "      <th>subject_clean</th>\n",
       "      <th>body_clean</th>\n",
       "      <th>subject_translated</th>\n",
       "      <th>body_translated</th>\n",
       "      <th>subject_masked</th>\n",
       "      <th>body_masked</th>\n",
       "      <th>combined_text</th>\n",
       "      <th>keywords</th>\n",
       "    </tr>\n",
       "  </thead>\n",
       "  <tbody>\n",
       "    <tr>\n",
       "      <th>0</th>\n",
       "      <td>TKT-500000</td>\n",
       "      <td>en</td>\n",
       "      <td>URGENT: Hitting rate limits on /transactions (...</td>\n",
       "      <td>Hello, Hi, I'm Sam Heikkinen. My card keeps ge...</td>\n",
       "      <td>URGENT: Hitting rate limits on /transactions (...</td>\n",
       "      <td>Hello, Hi, I'm Sam Heikkinen. My card keeps ge...</td>\n",
       "      <td>URGENT: Hitting rate limits on /transactions (...</td>\n",
       "      <td>Hello, Hi, I'm [PERSON]. My card keeps getting...</td>\n",
       "      <td>URGENT: Hitting rate limits on /transactions (...</td>\n",
       "      <td>rate limits transactions error, limits transac...</td>\n",
       "    </tr>\n",
       "    <tr>\n",
       "      <th>1</th>\n",
       "      <td>TKT-500001</td>\n",
       "      <td>en</td>\n",
       "      <td>Question about KYC — documents keep getting re...</td>\n",
       "      <td>Hi team, Hi, I'm Alex Mäkinen. My card keeps g...</td>\n",
       "      <td>Question about KYC — documents keep getting re...</td>\n",
       "      <td>Hi team, Hi, I'm Alex Mäkinen. My card keeps g...</td>\n",
       "      <td>Question about KYC — documents keep getting re...</td>\n",
       "      <td>Hi team, Hi, I'm [PERSON]. My card keeps getti...</td>\n",
       "      <td>Question about KYC — documents keep getting re...</td>\n",
       "      <td>kyc documents getting rejected, kyc documents ...</td>\n",
       "    </tr>\n",
       "    <tr>\n",
       "      <th>2</th>\n",
       "      <td>TKT-500002</td>\n",
       "      <td>en</td>\n",
       "      <td>Can’t pay online — keeps declining</td>\n",
       "      <td>Hi team, Hi, I'm Jamie Salonen. Not sure if th...</td>\n",
       "      <td>Can’t pay online — keeps declining</td>\n",
       "      <td>Hi team, Hi, I'm Jamie Salonen. Not sure if th...</td>\n",
       "      <td>Can’t pay online — keeps declining</td>\n",
       "      <td>Hi team, Hi, I'm [PERSON]. Not sure if this is...</td>\n",
       "      <td>Can’t pay online — keeps declining|| team, , I...</td>\n",
       "      <td>pay online keeps declining, online keeps decli...</td>\n",
       "    </tr>\n",
       "    <tr>\n",
       "      <th>3</th>\n",
       "      <td>TKT-500003</td>\n",
       "      <td>sv</td>\n",
       "      <td>PRIO: Kort saknas, spärra nu</td>\n",
       "      <td>Hallå, Hi, I'm Henrik Svensson. Jag har proble...</td>\n",
       "      <td>PRIO: Card missing, block now</td>\n",
       "      <td>Hello, Hi, I'm Henrik Svensson. I have problem...</td>\n",
       "      <td>PRIO: Card missing, block now</td>\n",
       "      <td>Hello, Hi, I'm [PERSON]. I have problems with ...</td>\n",
       "      <td>PRIO: Card missing, block now|| , , I'm [PERSO...</td>\n",
       "      <td>prio card missing block, prio card missing, hi...</td>\n",
       "    </tr>\n",
       "    <tr>\n",
       "      <th>4</th>\n",
       "      <td>TKT-500004</td>\n",
       "      <td>en</td>\n",
       "      <td>Tokenization failed during wallet setup</td>\n",
       "      <td>Hey, Hi, I'm Sa Ahonen. Not sure if this is on...</td>\n",
       "      <td>Tokenization failed during wallet setup</td>\n",
       "      <td>Hey, Hi, I'm Sa Ahonen. Not sure if this is on...</td>\n",
       "      <td>Tokenization failed during wallet setup</td>\n",
       "      <td>Hey, Hi, I'm [PERSON]. Not sure if this is on ...</td>\n",
       "      <td>Tokenization failed during wallet setup|| , , ...</td>\n",
       "      <td>tokenization failed wallet, tokenization faile...</td>\n",
       "    </tr>\n",
       "    <tr>\n",
       "      <th>5</th>\n",
       "      <td>TKT-500005</td>\n",
       "      <td>en</td>\n",
       "      <td>FYI: Sandbox ok, prod failing</td>\n",
       "      <td>Hello, Hi, I'm Jordan Mäkinen. I'm having trou...</td>\n",
       "      <td>FYI: Sandbox ok, prod failing</td>\n",
       "      <td>Hello, Hi, I'm Jordan Mäkinen. I'm having trou...</td>\n",
       "      <td>FYI: [PERSON], prod failing</td>\n",
       "      <td>Hello, Hi, I'm [PERSON]. I'm having trouble wi...</td>\n",
       "      <td>FYI: Sandbox ok, prod failing|| , , I'm [PERSO...</td>\n",
       "      <td>trouble integration sdk launch, trouble integr...</td>\n",
       "    </tr>\n",
       "    <tr>\n",
       "      <th>6</th>\n",
       "      <td>TKT-500006</td>\n",
       "      <td>fi</td>\n",
       "      <td>PRIO: Miten kasvattaa API-kiintiötä?</td>\n",
       "      <td>Hei, Hi, I'm Sanna Mäkinen. Ongelma liittyy ai...</td>\n",
       "      <td>PRIO: How to increase the API quota?</td>\n",
       "      <td>Hi, Hi, I'm Sanna Mäkinen. The problem relates...</td>\n",
       "      <td>PRIO: How to increase the API quota?</td>\n",
       "      <td>Hi, Hi, I'm [PERSON]. The problem relates to: ...</td>\n",
       "      <td>PRIO: How to increase the API quota?|| , , I'm...</td>\n",
       "      <td>prio increase api quota, increase api quota hi...</td>\n",
       "    </tr>\n",
       "    <tr>\n",
       "      <th>7</th>\n",
       "      <td>TKT-500007</td>\n",
       "      <td>en</td>\n",
       "      <td>Declined transactions without reason?</td>\n",
       "      <td>Hello, Hi, I'm Drew Laine. My card keeps getti...</td>\n",
       "      <td>Declined transactions without reason?</td>\n",
       "      <td>Hello, Hi, I'm Drew Laine. My card keeps getti...</td>\n",
       "      <td>Declined transactions without reason?</td>\n",
       "      <td>Hello, Hi, I'm [PERSON]. My card keeps getting...</td>\n",
       "      <td>Declined transactions without reason?|| , , I'...</td>\n",
       "      <td>card keeps getting declined, getting declined ...</td>\n",
       "    </tr>\n",
       "    <tr>\n",
       "      <th>8</th>\n",
       "      <td>TKT-500008</td>\n",
       "      <td>sv</td>\n",
       "      <td>Tillfällig höjning av e‑handelsgräns</td>\n",
       "      <td>Hej där, Hi, I'm Sofia Ahonen. Mitt kort blir ...</td>\n",
       "      <td>Temporary increase of e-commerce limit</td>\n",
       "      <td>Hi there, Hi, I'm Sofia Ahonen. My card gets w...</td>\n",
       "      <td>Temporary increase of e-commerce limit</td>\n",
       "      <td>Hi there, Hi, I'm [PERSON]. My card gets wrong...</td>\n",
       "      <td>Temporary increase of e-commerce limit|| there...</td>\n",
       "      <td>temporary increase commerce limit, increase co...</td>\n",
       "    </tr>\n",
       "    <tr>\n",
       "      <th>9</th>\n",
       "      <td>TKT-500009</td>\n",
       "      <td>en</td>\n",
       "      <td>Question about last month’s fees</td>\n",
       "      <td>Hi, I'm Alex Ahonen. Not sure if this is on my...</td>\n",
       "      <td>Question about last month’s fees</td>\n",
       "      <td>Hi, I'm Alex Ahonen. Not sure if this is on my...</td>\n",
       "      <td>Question about last month’s fees</td>\n",
       "      <td>Hi, I'm [PERSON]. Not sure if this is on my si...</td>\n",
       "      <td>Question about last month’s fees|| , I'm [PERS...</td>\n",
       "      <td>card 4970 7040 tested, tested device card 4970...</td>\n",
       "    </tr>\n",
       "  </tbody>\n",
       "</table>\n",
       "</div>"
      ],
      "text/plain": [
       "    ticket_id lang                                      subject_clean  \\\n",
       "0  TKT-500000   en  URGENT: Hitting rate limits on /transactions (...   \n",
       "1  TKT-500001   en  Question about KYC — documents keep getting re...   \n",
       "2  TKT-500002   en                 Can’t pay online — keeps declining   \n",
       "3  TKT-500003   sv                       PRIO: Kort saknas, spärra nu   \n",
       "4  TKT-500004   en            Tokenization failed during wallet setup   \n",
       "5  TKT-500005   en                      FYI: Sandbox ok, prod failing   \n",
       "6  TKT-500006   fi               PRIO: Miten kasvattaa API-kiintiötä?   \n",
       "7  TKT-500007   en              Declined transactions without reason?   \n",
       "8  TKT-500008   sv               Tillfällig höjning av e‑handelsgräns   \n",
       "9  TKT-500009   en                   Question about last month’s fees   \n",
       "\n",
       "                                          body_clean  \\\n",
       "0  Hello, Hi, I'm Sam Heikkinen. My card keeps ge...   \n",
       "1  Hi team, Hi, I'm Alex Mäkinen. My card keeps g...   \n",
       "2  Hi team, Hi, I'm Jamie Salonen. Not sure if th...   \n",
       "3  Hallå, Hi, I'm Henrik Svensson. Jag har proble...   \n",
       "4  Hey, Hi, I'm Sa Ahonen. Not sure if this is on...   \n",
       "5  Hello, Hi, I'm Jordan Mäkinen. I'm having trou...   \n",
       "6  Hei, Hi, I'm Sanna Mäkinen. Ongelma liittyy ai...   \n",
       "7  Hello, Hi, I'm Drew Laine. My card keeps getti...   \n",
       "8  Hej där, Hi, I'm Sofia Ahonen. Mitt kort blir ...   \n",
       "9  Hi, I'm Alex Ahonen. Not sure if this is on my...   \n",
       "\n",
       "                                  subject_translated  \\\n",
       "0  URGENT: Hitting rate limits on /transactions (...   \n",
       "1  Question about KYC — documents keep getting re...   \n",
       "2                 Can’t pay online — keeps declining   \n",
       "3                      PRIO: Card missing, block now   \n",
       "4            Tokenization failed during wallet setup   \n",
       "5                      FYI: Sandbox ok, prod failing   \n",
       "6               PRIO: How to increase the API quota?   \n",
       "7              Declined transactions without reason?   \n",
       "8             Temporary increase of e-commerce limit   \n",
       "9                   Question about last month’s fees   \n",
       "\n",
       "                                     body_translated  \\\n",
       "0  Hello, Hi, I'm Sam Heikkinen. My card keeps ge...   \n",
       "1  Hi team, Hi, I'm Alex Mäkinen. My card keeps g...   \n",
       "2  Hi team, Hi, I'm Jamie Salonen. Not sure if th...   \n",
       "3  Hello, Hi, I'm Henrik Svensson. I have problem...   \n",
       "4  Hey, Hi, I'm Sa Ahonen. Not sure if this is on...   \n",
       "5  Hello, Hi, I'm Jordan Mäkinen. I'm having trou...   \n",
       "6  Hi, Hi, I'm Sanna Mäkinen. The problem relates...   \n",
       "7  Hello, Hi, I'm Drew Laine. My card keeps getti...   \n",
       "8  Hi there, Hi, I'm Sofia Ahonen. My card gets w...   \n",
       "9  Hi, I'm Alex Ahonen. Not sure if this is on my...   \n",
       "\n",
       "                                      subject_masked  \\\n",
       "0  URGENT: Hitting rate limits on /transactions (...   \n",
       "1  Question about KYC — documents keep getting re...   \n",
       "2                 Can’t pay online — keeps declining   \n",
       "3                      PRIO: Card missing, block now   \n",
       "4            Tokenization failed during wallet setup   \n",
       "5                        FYI: [PERSON], prod failing   \n",
       "6               PRIO: How to increase the API quota?   \n",
       "7              Declined transactions without reason?   \n",
       "8             Temporary increase of e-commerce limit   \n",
       "9                   Question about last month’s fees   \n",
       "\n",
       "                                         body_masked  \\\n",
       "0  Hello, Hi, I'm [PERSON]. My card keeps getting...   \n",
       "1  Hi team, Hi, I'm [PERSON]. My card keeps getti...   \n",
       "2  Hi team, Hi, I'm [PERSON]. Not sure if this is...   \n",
       "3  Hello, Hi, I'm [PERSON]. I have problems with ...   \n",
       "4  Hey, Hi, I'm [PERSON]. Not sure if this is on ...   \n",
       "5  Hello, Hi, I'm [PERSON]. I'm having trouble wi...   \n",
       "6  Hi, Hi, I'm [PERSON]. The problem relates to: ...   \n",
       "7  Hello, Hi, I'm [PERSON]. My card keeps getting...   \n",
       "8  Hi there, Hi, I'm [PERSON]. My card gets wrong...   \n",
       "9  Hi, I'm [PERSON]. Not sure if this is on my si...   \n",
       "\n",
       "                                       combined_text  \\\n",
       "0  URGENT: Hitting rate limits on /transactions (...   \n",
       "1  Question about KYC — documents keep getting re...   \n",
       "2  Can’t pay online — keeps declining|| team, , I...   \n",
       "3  PRIO: Card missing, block now|| , , I'm [PERSO...   \n",
       "4  Tokenization failed during wallet setup|| , , ...   \n",
       "5  FYI: Sandbox ok, prod failing|| , , I'm [PERSO...   \n",
       "6  PRIO: How to increase the API quota?|| , , I'm...   \n",
       "7  Declined transactions without reason?|| , , I'...   \n",
       "8  Temporary increase of e-commerce limit|| there...   \n",
       "9  Question about last month’s fees|| , I'm [PERS...   \n",
       "\n",
       "                                            keywords  \n",
       "0  rate limits transactions error, limits transac...  \n",
       "1  kyc documents getting rejected, kyc documents ...  \n",
       "2  pay online keeps declining, online keeps decli...  \n",
       "3  prio card missing block, prio card missing, hi...  \n",
       "4  tokenization failed wallet, tokenization faile...  \n",
       "5  trouble integration sdk launch, trouble integr...  \n",
       "6  prio increase api quota, increase api quota hi...  \n",
       "7  card keeps getting declined, getting declined ...  \n",
       "8  temporary increase commerce limit, increase co...  \n",
       "9  card 4970 7040 tested, tested device card 4970...  "
      ]
     },
     "execution_count": 21,
     "metadata": {},
     "output_type": "execute_result"
    }
   ],
   "source": [
    "\n",
    "import re\n",
    "\n",
    "# Define greetings to remove (case-insensitive)\n",
    "greetings_pattern = r'\\b(hi|hello|hey)\\b'\n",
    "\n",
    "# Remove greetings from combined_text\n",
    "tickets_cleaned[\"combined_text\"] = tickets_cleaned[\"combined_text\"].apply(\n",
    "    lambda x: re.sub(greetings_pattern, '', x, flags=re.IGNORECASE)\n",
    ")\n",
    "\n",
    "# Remove extra whitespace after removal\n",
    "tickets_cleaned[\"combined_text\"] = tickets_cleaned[\"combined_text\"].str.replace(r'\\s+', ' ', regex=True).str.strip()\n",
    "\n",
    "# Verify\n",
    "tickets_cleaned.head(10)\n"
   ]
  },
  {
   "cell_type": "code",
   "execution_count": 22,
   "id": "890ca5ef-8ee0-455e-acb7-66ad33e61a12",
   "metadata": {},
   "outputs": [
    {
     "name": "stderr",
     "output_type": "stream",
     "text": [
      "Extracting keywords:   2%|▎              | 1001/49800 [00:47<38:30, 21.12text/s]"
     ]
    },
    {
     "name": "stdout",
     "output_type": "stream",
     "text": [
      "[INFO] Processed 1000/49800 texts\n"
     ]
    },
    {
     "name": "stderr",
     "output_type": "stream",
     "text": [
      "Extracting keywords:   4%|▌              | 2003/49800 [01:50<57:45, 13.79text/s]"
     ]
    },
    {
     "name": "stdout",
     "output_type": "stream",
     "text": [
      "[INFO] Processed 2000/49800 texts\n"
     ]
    },
    {
     "name": "stderr",
     "output_type": "stream",
     "text": [
      "Extracting keywords:   6%|▉              | 3001/49800 [03:01<58:44, 13.28text/s]"
     ]
    },
    {
     "name": "stdout",
     "output_type": "stream",
     "text": [
      "[INFO] Processed 3000/49800 texts\n"
     ]
    },
    {
     "name": "stderr",
     "output_type": "stream",
     "text": [
      "Extracting keywords:   8%|█▏             | 4003/49800 [04:13<50:29, 15.12text/s]"
     ]
    },
    {
     "name": "stdout",
     "output_type": "stream",
     "text": [
      "[INFO] Processed 4000/49800 texts\n"
     ]
    },
    {
     "name": "stderr",
     "output_type": "stream",
     "text": [
      "Extracting keywords:  10%|█▌             | 5001/49800 [05:24<52:25, 14.24text/s]"
     ]
    },
    {
     "name": "stdout",
     "output_type": "stream",
     "text": [
      "[INFO] Processed 5000/49800 texts\n"
     ]
    },
    {
     "name": "stderr",
     "output_type": "stream",
     "text": [
      "Extracting keywords:  12%|█▊             | 6001/49800 [06:36<54:40, 13.35text/s]"
     ]
    },
    {
     "name": "stdout",
     "output_type": "stream",
     "text": [
      "[INFO] Processed 6000/49800 texts\n"
     ]
    },
    {
     "name": "stderr",
     "output_type": "stream",
     "text": [
      "Extracting keywords:  14%|██             | 7001/49800 [07:48<49:31, 14.40text/s]"
     ]
    },
    {
     "name": "stdout",
     "output_type": "stream",
     "text": [
      "[INFO] Processed 7000/49800 texts\n"
     ]
    },
    {
     "name": "stderr",
     "output_type": "stream",
     "text": [
      "Extracting keywords:  16%|██▍            | 8002/49800 [08:58<45:09, 15.43text/s]"
     ]
    },
    {
     "name": "stdout",
     "output_type": "stream",
     "text": [
      "[INFO] Processed 8000/49800 texts\n"
     ]
    },
    {
     "name": "stderr",
     "output_type": "stream",
     "text": [
      "Extracting keywords:  18%|██▋            | 9002/49800 [10:08<44:03, 15.43text/s]"
     ]
    },
    {
     "name": "stdout",
     "output_type": "stream",
     "text": [
      "[INFO] Processed 9000/49800 texts\n"
     ]
    },
    {
     "name": "stderr",
     "output_type": "stream",
     "text": [
      "Extracting keywords:  20%|██▊           | 10002/49800 [11:18<43:32, 15.23text/s]"
     ]
    },
    {
     "name": "stdout",
     "output_type": "stream",
     "text": [
      "[INFO] Processed 10000/49800 texts\n"
     ]
    },
    {
     "name": "stderr",
     "output_type": "stream",
     "text": [
      "Extracting keywords:  22%|███           | 11001/49800 [12:29<45:20, 14.26text/s]"
     ]
    },
    {
     "name": "stdout",
     "output_type": "stream",
     "text": [
      "[INFO] Processed 11000/49800 texts\n"
     ]
    },
    {
     "name": "stderr",
     "output_type": "stream",
     "text": [
      "Extracting keywords:  24%|███▎          | 12002/49800 [13:40<33:07, 19.01text/s]"
     ]
    },
    {
     "name": "stdout",
     "output_type": "stream",
     "text": [
      "[INFO] Processed 12000/49800 texts\n"
     ]
    },
    {
     "name": "stderr",
     "output_type": "stream",
     "text": [
      "Extracting keywords:  26%|███▋          | 13004/49800 [14:50<26:02, 23.54text/s]"
     ]
    },
    {
     "name": "stdout",
     "output_type": "stream",
     "text": [
      "[INFO] Processed 13000/49800 texts\n"
     ]
    },
    {
     "name": "stderr",
     "output_type": "stream",
     "text": [
      "Extracting keywords:  28%|███▉          | 14004/49800 [15:38<30:39, 19.46text/s]"
     ]
    },
    {
     "name": "stdout",
     "output_type": "stream",
     "text": [
      "[INFO] Processed 14000/49800 texts\n"
     ]
    },
    {
     "name": "stderr",
     "output_type": "stream",
     "text": [
      "Extracting keywords:  30%|████▏         | 15001/49800 [16:26<37:31, 15.45text/s]"
     ]
    },
    {
     "name": "stdout",
     "output_type": "stream",
     "text": [
      "[INFO] Processed 15000/49800 texts\n"
     ]
    },
    {
     "name": "stderr",
     "output_type": "stream",
     "text": [
      "Extracting keywords:  32%|████▍         | 16001/49800 [17:37<43:16, 13.02text/s]"
     ]
    },
    {
     "name": "stdout",
     "output_type": "stream",
     "text": [
      "[INFO] Processed 16000/49800 texts\n"
     ]
    },
    {
     "name": "stderr",
     "output_type": "stream",
     "text": [
      "Extracting keywords:  34%|████▊         | 17001/49800 [18:48<44:59, 12.15text/s]"
     ]
    },
    {
     "name": "stdout",
     "output_type": "stream",
     "text": [
      "[INFO] Processed 17000/49800 texts\n"
     ]
    },
    {
     "name": "stderr",
     "output_type": "stream",
     "text": [
      "Extracting keywords:  36%|█████         | 18003/49800 [19:38<29:22, 18.04text/s]"
     ]
    },
    {
     "name": "stdout",
     "output_type": "stream",
     "text": [
      "[INFO] Processed 18000/49800 texts\n"
     ]
    },
    {
     "name": "stderr",
     "output_type": "stream",
     "text": [
      "Extracting keywords:  38%|█████▎        | 19004/49800 [20:26<24:14, 21.17text/s]"
     ]
    },
    {
     "name": "stdout",
     "output_type": "stream",
     "text": [
      "[INFO] Processed 19000/49800 texts\n"
     ]
    },
    {
     "name": "stderr",
     "output_type": "stream",
     "text": [
      "Extracting keywords:  40%|█████▌        | 20002/49800 [21:22<38:53, 12.77text/s]"
     ]
    },
    {
     "name": "stdout",
     "output_type": "stream",
     "text": [
      "[INFO] Processed 20000/49800 texts\n"
     ]
    },
    {
     "name": "stderr",
     "output_type": "stream",
     "text": [
      "Extracting keywords:  42%|█████▉        | 21002/49800 [22:33<33:02, 14.53text/s]"
     ]
    },
    {
     "name": "stdout",
     "output_type": "stream",
     "text": [
      "[INFO] Processed 21000/49800 texts\n"
     ]
    },
    {
     "name": "stderr",
     "output_type": "stream",
     "text": [
      "Extracting keywords:  44%|██████▏       | 22002/49800 [23:44<32:56, 14.06text/s]"
     ]
    },
    {
     "name": "stdout",
     "output_type": "stream",
     "text": [
      "[INFO] Processed 22000/49800 texts\n"
     ]
    },
    {
     "name": "stderr",
     "output_type": "stream",
     "text": [
      "Extracting keywords:  46%|██████▍       | 23001/49800 [24:54<29:26, 15.17text/s]"
     ]
    },
    {
     "name": "stdout",
     "output_type": "stream",
     "text": [
      "[INFO] Processed 23000/49800 texts\n"
     ]
    },
    {
     "name": "stderr",
     "output_type": "stream",
     "text": [
      "Extracting keywords:  48%|██████▋       | 24001/49800 [26:06<28:31, 15.07text/s]"
     ]
    },
    {
     "name": "stdout",
     "output_type": "stream",
     "text": [
      "[INFO] Processed 24000/49800 texts\n"
     ]
    },
    {
     "name": "stderr",
     "output_type": "stream",
     "text": [
      "Extracting keywords:  50%|███████       | 25003/49800 [27:20<27:48, 14.86text/s]"
     ]
    },
    {
     "name": "stdout",
     "output_type": "stream",
     "text": [
      "[INFO] Processed 25000/49800 texts\n"
     ]
    },
    {
     "name": "stderr",
     "output_type": "stream",
     "text": [
      "Extracting keywords:  52%|███████▎      | 26002/49800 [28:33<30:32, 12.99text/s]"
     ]
    },
    {
     "name": "stdout",
     "output_type": "stream",
     "text": [
      "[INFO] Processed 26000/49800 texts\n"
     ]
    },
    {
     "name": "stderr",
     "output_type": "stream",
     "text": [
      "Extracting keywords:  54%|███████▌      | 27002/49800 [29:47<28:28, 13.35text/s]"
     ]
    },
    {
     "name": "stdout",
     "output_type": "stream",
     "text": [
      "[INFO] Processed 27000/49800 texts\n"
     ]
    },
    {
     "name": "stderr",
     "output_type": "stream",
     "text": [
      "Extracting keywords:  56%|███████▊      | 28002/49800 [31:00<24:06, 15.07text/s]"
     ]
    },
    {
     "name": "stdout",
     "output_type": "stream",
     "text": [
      "[INFO] Processed 28000/49800 texts\n"
     ]
    },
    {
     "name": "stderr",
     "output_type": "stream",
     "text": [
      "Extracting keywords:  58%|████████▏     | 29002/49800 [32:13<22:51, 15.16text/s]"
     ]
    },
    {
     "name": "stdout",
     "output_type": "stream",
     "text": [
      "[INFO] Processed 29000/49800 texts\n"
     ]
    },
    {
     "name": "stderr",
     "output_type": "stream",
     "text": [
      "Extracting keywords:  60%|████████▍     | 30000/49800 [33:26<24:31, 13.46text/s]"
     ]
    },
    {
     "name": "stdout",
     "output_type": "stream",
     "text": [
      "[INFO] Processed 30000/49800 texts\n"
     ]
    },
    {
     "name": "stderr",
     "output_type": "stream",
     "text": [
      "Extracting keywords:  62%|████████▋     | 31002/49800 [34:40<22:51, 13.71text/s]"
     ]
    },
    {
     "name": "stdout",
     "output_type": "stream",
     "text": [
      "[INFO] Processed 31000/49800 texts\n"
     ]
    },
    {
     "name": "stderr",
     "output_type": "stream",
     "text": [
      "Extracting keywords:  64%|████████▉     | 32003/49800 [35:54<22:05, 13.43text/s]"
     ]
    },
    {
     "name": "stdout",
     "output_type": "stream",
     "text": [
      "[INFO] Processed 32000/49800 texts\n"
     ]
    },
    {
     "name": "stderr",
     "output_type": "stream",
     "text": [
      "Extracting keywords:  66%|█████████▎    | 33002/49800 [37:06<22:25, 12.49text/s]"
     ]
    },
    {
     "name": "stdout",
     "output_type": "stream",
     "text": [
      "[INFO] Processed 33000/49800 texts\n"
     ]
    },
    {
     "name": "stderr",
     "output_type": "stream",
     "text": [
      "Extracting keywords:  68%|█████████▌    | 34002/49800 [38:17<18:17, 14.39text/s]"
     ]
    },
    {
     "name": "stdout",
     "output_type": "stream",
     "text": [
      "[INFO] Processed 34000/49800 texts\n"
     ]
    },
    {
     "name": "stderr",
     "output_type": "stream",
     "text": [
      "Extracting keywords:  70%|█████████▊    | 35001/49800 [39:27<17:24, 14.16text/s]"
     ]
    },
    {
     "name": "stdout",
     "output_type": "stream",
     "text": [
      "[INFO] Processed 35000/49800 texts\n"
     ]
    },
    {
     "name": "stderr",
     "output_type": "stream",
     "text": [
      "Extracting keywords:  72%|██████████    | 36001/49800 [40:37<16:53, 13.61text/s]"
     ]
    },
    {
     "name": "stdout",
     "output_type": "stream",
     "text": [
      "[INFO] Processed 36000/49800 texts\n"
     ]
    },
    {
     "name": "stderr",
     "output_type": "stream",
     "text": [
      "Extracting keywords:  74%|██████████▍   | 37001/49800 [41:49<16:39, 12.80text/s]"
     ]
    },
    {
     "name": "stdout",
     "output_type": "stream",
     "text": [
      "[INFO] Processed 37000/49800 texts\n"
     ]
    },
    {
     "name": "stderr",
     "output_type": "stream",
     "text": [
      "Extracting keywords:  76%|██████████▋   | 38003/49800 [42:59<12:04, 16.28text/s]"
     ]
    },
    {
     "name": "stdout",
     "output_type": "stream",
     "text": [
      "[INFO] Processed 38000/49800 texts\n"
     ]
    },
    {
     "name": "stderr",
     "output_type": "stream",
     "text": [
      "Extracting keywords:  78%|██████████▉   | 39003/49800 [44:10<12:01, 14.97text/s]"
     ]
    },
    {
     "name": "stdout",
     "output_type": "stream",
     "text": [
      "[INFO] Processed 39000/49800 texts\n"
     ]
    },
    {
     "name": "stderr",
     "output_type": "stream",
     "text": [
      "Extracting keywords:  80%|███████████▏  | 40002/49800 [45:21<11:30, 14.18text/s]"
     ]
    },
    {
     "name": "stdout",
     "output_type": "stream",
     "text": [
      "[INFO] Processed 40000/49800 texts\n"
     ]
    },
    {
     "name": "stderr",
     "output_type": "stream",
     "text": [
      "Extracting keywords:  82%|███████████▌  | 41001/49800 [46:32<11:58, 12.25text/s]"
     ]
    },
    {
     "name": "stdout",
     "output_type": "stream",
     "text": [
      "[INFO] Processed 41000/49800 texts\n"
     ]
    },
    {
     "name": "stderr",
     "output_type": "stream",
     "text": [
      "Extracting keywords:  84%|███████████▊  | 42001/49800 [47:43<10:13, 12.70text/s]"
     ]
    },
    {
     "name": "stdout",
     "output_type": "stream",
     "text": [
      "[INFO] Processed 42000/49800 texts\n"
     ]
    },
    {
     "name": "stderr",
     "output_type": "stream",
     "text": [
      "Extracting keywords:  86%|████████████  | 43001/49800 [48:56<08:02, 14.08text/s]"
     ]
    },
    {
     "name": "stdout",
     "output_type": "stream",
     "text": [
      "[INFO] Processed 43000/49800 texts\n"
     ]
    },
    {
     "name": "stderr",
     "output_type": "stream",
     "text": [
      "Extracting keywords:  88%|████████████▎ | 44001/49800 [50:06<06:16, 15.39text/s]"
     ]
    },
    {
     "name": "stdout",
     "output_type": "stream",
     "text": [
      "[INFO] Processed 44000/49800 texts\n"
     ]
    },
    {
     "name": "stderr",
     "output_type": "stream",
     "text": [
      "Extracting keywords:  90%|████████████▋ | 45002/49800 [51:16<05:33, 14.37text/s]"
     ]
    },
    {
     "name": "stdout",
     "output_type": "stream",
     "text": [
      "[INFO] Processed 45000/49800 texts\n"
     ]
    },
    {
     "name": "stderr",
     "output_type": "stream",
     "text": [
      "Extracting keywords:  92%|████████████▉ | 46002/49800 [52:27<04:46, 13.27text/s]"
     ]
    },
    {
     "name": "stdout",
     "output_type": "stream",
     "text": [
      "[INFO] Processed 46000/49800 texts\n"
     ]
    },
    {
     "name": "stderr",
     "output_type": "stream",
     "text": [
      "Extracting keywords:  94%|█████████████▏| 47001/49800 [53:39<03:22, 13.83text/s]"
     ]
    },
    {
     "name": "stdout",
     "output_type": "stream",
     "text": [
      "[INFO] Processed 47000/49800 texts\n"
     ]
    },
    {
     "name": "stderr",
     "output_type": "stream",
     "text": [
      "Extracting keywords:  96%|█████████████▍| 48001/49800 [54:52<02:25, 12.34text/s]"
     ]
    },
    {
     "name": "stdout",
     "output_type": "stream",
     "text": [
      "[INFO] Processed 48000/49800 texts\n"
     ]
    },
    {
     "name": "stderr",
     "output_type": "stream",
     "text": [
      "Extracting keywords:  98%|█████████████▊| 49002/49800 [56:06<00:56, 14.04text/s]"
     ]
    },
    {
     "name": "stdout",
     "output_type": "stream",
     "text": [
      "[INFO] Processed 49000/49800 texts\n"
     ]
    },
    {
     "name": "stderr",
     "output_type": "stream",
     "text": [
      "Extracting keywords: 100%|██████████████| 49800/49800 [57:05<00:00, 14.54text/s]"
     ]
    },
    {
     "name": "stdout",
     "output_type": "stream",
     "text": [
      "[INFO] Keyword extraction completed for 49800 texts\n"
     ]
    },
    {
     "name": "stderr",
     "output_type": "stream",
     "text": [
      "\n"
     ]
    },
    {
     "data": {
      "text/html": [
       "<div>\n",
       "<style scoped>\n",
       "    .dataframe tbody tr th:only-of-type {\n",
       "        vertical-align: middle;\n",
       "    }\n",
       "\n",
       "    .dataframe tbody tr th {\n",
       "        vertical-align: top;\n",
       "    }\n",
       "\n",
       "    .dataframe thead th {\n",
       "        text-align: right;\n",
       "    }\n",
       "</style>\n",
       "<table border=\"1\" class=\"dataframe\">\n",
       "  <thead>\n",
       "    <tr style=\"text-align: right;\">\n",
       "      <th></th>\n",
       "      <th>ticket_id</th>\n",
       "      <th>lang</th>\n",
       "      <th>subject_clean</th>\n",
       "      <th>body_clean</th>\n",
       "      <th>subject_translated</th>\n",
       "      <th>body_translated</th>\n",
       "      <th>subject_masked</th>\n",
       "      <th>body_masked</th>\n",
       "      <th>combined_text</th>\n",
       "      <th>keywords</th>\n",
       "    </tr>\n",
       "  </thead>\n",
       "  <tbody>\n",
       "    <tr>\n",
       "      <th>0</th>\n",
       "      <td>TKT-500000</td>\n",
       "      <td>en</td>\n",
       "      <td>URGENT: Hitting rate limits on /transactions (...</td>\n",
       "      <td>Hello, Hi, I'm Sam Heikkinen. My card keeps ge...</td>\n",
       "      <td>URGENT: Hitting rate limits on /transactions (...</td>\n",
       "      <td>Hello, Hi, I'm Sam Heikkinen. My card keeps ge...</td>\n",
       "      <td>URGENT: Hitting rate limits on /transactions (...</td>\n",
       "      <td>Hello, Hi, I'm [PERSON]. My card keeps getting...</td>\n",
       "      <td>URGENT: Hitting rate limits on /transactions (...</td>\n",
       "      <td>rate limits transactions error, limits transac...</td>\n",
       "    </tr>\n",
       "    <tr>\n",
       "      <th>1</th>\n",
       "      <td>TKT-500001</td>\n",
       "      <td>en</td>\n",
       "      <td>Question about KYC — documents keep getting re...</td>\n",
       "      <td>Hi team, Hi, I'm Alex Mäkinen. My card keeps g...</td>\n",
       "      <td>Question about KYC — documents keep getting re...</td>\n",
       "      <td>Hi team, Hi, I'm Alex Mäkinen. My card keeps g...</td>\n",
       "      <td>Question about KYC — documents keep getting re...</td>\n",
       "      <td>Hi team, Hi, I'm [PERSON]. My card keeps getti...</td>\n",
       "      <td>Question about KYC — documents keep getting re...</td>\n",
       "      <td>kyc documents getting rejected, kyc documents ...</td>\n",
       "    </tr>\n",
       "    <tr>\n",
       "      <th>2</th>\n",
       "      <td>TKT-500002</td>\n",
       "      <td>en</td>\n",
       "      <td>Can’t pay online — keeps declining</td>\n",
       "      <td>Hi team, Hi, I'm Jamie Salonen. Not sure if th...</td>\n",
       "      <td>Can’t pay online — keeps declining</td>\n",
       "      <td>Hi team, Hi, I'm Jamie Salonen. Not sure if th...</td>\n",
       "      <td>Can’t pay online — keeps declining</td>\n",
       "      <td>Hi team, Hi, I'm [PERSON]. Not sure if this is...</td>\n",
       "      <td>Can’t pay online — keeps declining|| team, , I...</td>\n",
       "      <td>pay online keeps declining, pay online keeps, ...</td>\n",
       "    </tr>\n",
       "    <tr>\n",
       "      <th>3</th>\n",
       "      <td>TKT-500003</td>\n",
       "      <td>sv</td>\n",
       "      <td>PRIO: Kort saknas, spärra nu</td>\n",
       "      <td>Hallå, Hi, I'm Henrik Svensson. Jag har proble...</td>\n",
       "      <td>PRIO: Card missing, block now</td>\n",
       "      <td>Hello, Hi, I'm Henrik Svensson. I have problem...</td>\n",
       "      <td>PRIO: Card missing, block now</td>\n",
       "      <td>Hello, Hi, I'm [PERSON]. I have problems with ...</td>\n",
       "      <td>PRIO: Card missing, block now|| , , I'm [PERSO...</td>\n",
       "      <td>prio card missing block, prio card missing, bl...</td>\n",
       "    </tr>\n",
       "    <tr>\n",
       "      <th>4</th>\n",
       "      <td>TKT-500004</td>\n",
       "      <td>en</td>\n",
       "      <td>Tokenization failed during wallet setup</td>\n",
       "      <td>Hey, Hi, I'm Sa Ahonen. Not sure if this is on...</td>\n",
       "      <td>Tokenization failed during wallet setup</td>\n",
       "      <td>Hey, Hi, I'm Sa Ahonen. Not sure if this is on...</td>\n",
       "      <td>Tokenization failed during wallet setup</td>\n",
       "      <td>Hey, Hi, I'm [PERSON]. Not sure if this is on ...</td>\n",
       "      <td>Tokenization failed during wallet setup|| , , ...</td>\n",
       "      <td>tokenization failed wallet setup, tokenization...</td>\n",
       "    </tr>\n",
       "  </tbody>\n",
       "</table>\n",
       "</div>"
      ],
      "text/plain": [
       "    ticket_id lang                                      subject_clean  \\\n",
       "0  TKT-500000   en  URGENT: Hitting rate limits on /transactions (...   \n",
       "1  TKT-500001   en  Question about KYC — documents keep getting re...   \n",
       "2  TKT-500002   en                 Can’t pay online — keeps declining   \n",
       "3  TKT-500003   sv                       PRIO: Kort saknas, spärra nu   \n",
       "4  TKT-500004   en            Tokenization failed during wallet setup   \n",
       "\n",
       "                                          body_clean  \\\n",
       "0  Hello, Hi, I'm Sam Heikkinen. My card keeps ge...   \n",
       "1  Hi team, Hi, I'm Alex Mäkinen. My card keeps g...   \n",
       "2  Hi team, Hi, I'm Jamie Salonen. Not sure if th...   \n",
       "3  Hallå, Hi, I'm Henrik Svensson. Jag har proble...   \n",
       "4  Hey, Hi, I'm Sa Ahonen. Not sure if this is on...   \n",
       "\n",
       "                                  subject_translated  \\\n",
       "0  URGENT: Hitting rate limits on /transactions (...   \n",
       "1  Question about KYC — documents keep getting re...   \n",
       "2                 Can’t pay online — keeps declining   \n",
       "3                      PRIO: Card missing, block now   \n",
       "4            Tokenization failed during wallet setup   \n",
       "\n",
       "                                     body_translated  \\\n",
       "0  Hello, Hi, I'm Sam Heikkinen. My card keeps ge...   \n",
       "1  Hi team, Hi, I'm Alex Mäkinen. My card keeps g...   \n",
       "2  Hi team, Hi, I'm Jamie Salonen. Not sure if th...   \n",
       "3  Hello, Hi, I'm Henrik Svensson. I have problem...   \n",
       "4  Hey, Hi, I'm Sa Ahonen. Not sure if this is on...   \n",
       "\n",
       "                                      subject_masked  \\\n",
       "0  URGENT: Hitting rate limits on /transactions (...   \n",
       "1  Question about KYC — documents keep getting re...   \n",
       "2                 Can’t pay online — keeps declining   \n",
       "3                      PRIO: Card missing, block now   \n",
       "4            Tokenization failed during wallet setup   \n",
       "\n",
       "                                         body_masked  \\\n",
       "0  Hello, Hi, I'm [PERSON]. My card keeps getting...   \n",
       "1  Hi team, Hi, I'm [PERSON]. My card keeps getti...   \n",
       "2  Hi team, Hi, I'm [PERSON]. Not sure if this is...   \n",
       "3  Hello, Hi, I'm [PERSON]. I have problems with ...   \n",
       "4  Hey, Hi, I'm [PERSON]. Not sure if this is on ...   \n",
       "\n",
       "                                       combined_text  \\\n",
       "0  URGENT: Hitting rate limits on /transactions (...   \n",
       "1  Question about KYC — documents keep getting re...   \n",
       "2  Can’t pay online — keeps declining|| team, , I...   \n",
       "3  PRIO: Card missing, block now|| , , I'm [PERSO...   \n",
       "4  Tokenization failed during wallet setup|| , , ...   \n",
       "\n",
       "                                            keywords  \n",
       "0  rate limits transactions error, limits transac...  \n",
       "1  kyc documents getting rejected, kyc documents ...  \n",
       "2  pay online keeps declining, pay online keeps, ...  \n",
       "3  prio card missing block, prio card missing, bl...  \n",
       "4  tokenization failed wallet setup, tokenization...  "
      ]
     },
     "execution_count": 22,
     "metadata": {},
     "output_type": "execute_result"
    }
   ],
   "source": [
    "# Extract keywords from the combined text\n",
    "keywords_list = prep.extract_keywords_batch(tickets_cleaned[\"combined_text\"].tolist(), top_n=10)\n",
    "\n",
    "# Store keywords as a comma-separated string\n",
    "tickets_cleaned[\"keywords\"] = [\", \".join(kws) for kws in keywords_list]\n",
    "\n",
    "# Verify\n",
    "tickets_cleaned.head()"
   ]
  },
  {
   "cell_type": "code",
   "execution_count": 7,
   "id": "2487469b-1373-4e6d-8b37-3d200a1c4d10",
   "metadata": {},
   "outputs": [
    {
     "name": "stdout",
     "output_type": "stream",
     "text": [
      "Maximum word count: 554\n"
     ]
    }
   ],
   "source": [
    "\n",
    "max_words = tickets_cleaned[\"combined_text\"].apply(lambda x: len(str(x).split())).max()\n",
    "print(\"Maximum word count:\", max_words)\n"
   ]
  },
  {
   "cell_type": "code",
   "execution_count": 23,
   "id": "685dec7a-085a-4612-a613-547df06fa073",
   "metadata": {},
   "outputs": [],
   "source": [
    "tickets_cleaned.to_csv(\"tickets_cleaned.csv\", index=False)"
   ]
  },
  {
   "cell_type": "code",
   "execution_count": 24,
   "id": "e97e22b2-b220-4fda-af87-d494bef8a7f3",
   "metadata": {},
   "outputs": [
    {
     "data": {
      "text/html": [
       "<div>\n",
       "<style scoped>\n",
       "    .dataframe tbody tr th:only-of-type {\n",
       "        vertical-align: middle;\n",
       "    }\n",
       "\n",
       "    .dataframe tbody tr th {\n",
       "        vertical-align: top;\n",
       "    }\n",
       "\n",
       "    .dataframe thead th {\n",
       "        text-align: right;\n",
       "    }\n",
       "</style>\n",
       "<table border=\"1\" class=\"dataframe\">\n",
       "  <thead>\n",
       "    <tr style=\"text-align: right;\">\n",
       "      <th></th>\n",
       "      <th>ticket_id</th>\n",
       "      <th>lang</th>\n",
       "      <th>subject_clean</th>\n",
       "      <th>body_clean</th>\n",
       "      <th>subject_translated</th>\n",
       "      <th>body_translated</th>\n",
       "      <th>subject_masked</th>\n",
       "      <th>body_masked</th>\n",
       "      <th>combined_text</th>\n",
       "      <th>keywords</th>\n",
       "    </tr>\n",
       "  </thead>\n",
       "  <tbody>\n",
       "    <tr>\n",
       "      <th>0</th>\n",
       "      <td>TKT-500000</td>\n",
       "      <td>en</td>\n",
       "      <td>URGENT: Hitting rate limits on /transactions (...</td>\n",
       "      <td>Hello, Hi, I'm Sam Heikkinen. My card keeps ge...</td>\n",
       "      <td>URGENT: Hitting rate limits on /transactions (...</td>\n",
       "      <td>Hello, Hi, I'm Sam Heikkinen. My card keeps ge...</td>\n",
       "      <td>URGENT: Hitting rate limits on /transactions (...</td>\n",
       "      <td>Hello, Hi, I'm [PERSON]. My card keeps getting...</td>\n",
       "      <td>URGENT: Hitting rate limits on /transactions (...</td>\n",
       "      <td>rate limits transactions error, limits transac...</td>\n",
       "    </tr>\n",
       "    <tr>\n",
       "      <th>1</th>\n",
       "      <td>TKT-500001</td>\n",
       "      <td>en</td>\n",
       "      <td>Question about KYC — documents keep getting re...</td>\n",
       "      <td>Hi team, Hi, I'm Alex Mäkinen. My card keeps g...</td>\n",
       "      <td>Question about KYC — documents keep getting re...</td>\n",
       "      <td>Hi team, Hi, I'm Alex Mäkinen. My card keeps g...</td>\n",
       "      <td>Question about KYC — documents keep getting re...</td>\n",
       "      <td>Hi team, Hi, I'm [PERSON]. My card keeps getti...</td>\n",
       "      <td>Question about KYC — documents keep getting re...</td>\n",
       "      <td>kyc documents getting rejected, kyc documents ...</td>\n",
       "    </tr>\n",
       "    <tr>\n",
       "      <th>2</th>\n",
       "      <td>TKT-500002</td>\n",
       "      <td>en</td>\n",
       "      <td>Can’t pay online — keeps declining</td>\n",
       "      <td>Hi team, Hi, I'm Jamie Salonen. Not sure if th...</td>\n",
       "      <td>Can’t pay online — keeps declining</td>\n",
       "      <td>Hi team, Hi, I'm Jamie Salonen. Not sure if th...</td>\n",
       "      <td>Can’t pay online — keeps declining</td>\n",
       "      <td>Hi team, Hi, I'm [PERSON]. Not sure if this is...</td>\n",
       "      <td>Can’t pay online — keeps declining|| team, , I...</td>\n",
       "      <td>pay online keeps declining, pay online keeps, ...</td>\n",
       "    </tr>\n",
       "    <tr>\n",
       "      <th>3</th>\n",
       "      <td>TKT-500003</td>\n",
       "      <td>sv</td>\n",
       "      <td>PRIO: Kort saknas, spärra nu</td>\n",
       "      <td>Hallå, Hi, I'm Henrik Svensson. Jag har proble...</td>\n",
       "      <td>PRIO: Card missing, block now</td>\n",
       "      <td>Hello, Hi, I'm Henrik Svensson. I have problem...</td>\n",
       "      <td>PRIO: Card missing, block now</td>\n",
       "      <td>Hello, Hi, I'm [PERSON]. I have problems with ...</td>\n",
       "      <td>PRIO: Card missing, block now|| , , I'm [PERSO...</td>\n",
       "      <td>prio card missing block, prio card missing, bl...</td>\n",
       "    </tr>\n",
       "    <tr>\n",
       "      <th>4</th>\n",
       "      <td>TKT-500004</td>\n",
       "      <td>en</td>\n",
       "      <td>Tokenization failed during wallet setup</td>\n",
       "      <td>Hey, Hi, I'm Sa Ahonen. Not sure if this is on...</td>\n",
       "      <td>Tokenization failed during wallet setup</td>\n",
       "      <td>Hey, Hi, I'm Sa Ahonen. Not sure if this is on...</td>\n",
       "      <td>Tokenization failed during wallet setup</td>\n",
       "      <td>Hey, Hi, I'm [PERSON]. Not sure if this is on ...</td>\n",
       "      <td>Tokenization failed during wallet setup|| , , ...</td>\n",
       "      <td>tokenization failed wallet setup, tokenization...</td>\n",
       "    </tr>\n",
       "    <tr>\n",
       "      <th>5</th>\n",
       "      <td>TKT-500005</td>\n",
       "      <td>en</td>\n",
       "      <td>FYI: Sandbox ok, prod failing</td>\n",
       "      <td>Hello, Hi, I'm Jordan Mäkinen. I'm having trou...</td>\n",
       "      <td>FYI: Sandbox ok, prod failing</td>\n",
       "      <td>Hello, Hi, I'm Jordan Mäkinen. I'm having trou...</td>\n",
       "      <td>FYI: [PERSON], prod failing</td>\n",
       "      <td>Hello, Hi, I'm [PERSON]. I'm having trouble wi...</td>\n",
       "      <td>FYI: Sandbox ok, prod failing|| , , I'm [PERSO...</td>\n",
       "      <td>trouble integration sdk launch, trouble integr...</td>\n",
       "    </tr>\n",
       "    <tr>\n",
       "      <th>6</th>\n",
       "      <td>TKT-500006</td>\n",
       "      <td>fi</td>\n",
       "      <td>PRIO: Miten kasvattaa API-kiintiötä?</td>\n",
       "      <td>Hei, Hi, I'm Sanna Mäkinen. Ongelma liittyy ai...</td>\n",
       "      <td>PRIO: How to increase the API quota?</td>\n",
       "      <td>Hi, Hi, I'm Sanna Mäkinen. The problem relates...</td>\n",
       "      <td>PRIO: How to increase the API quota?</td>\n",
       "      <td>Hi, Hi, I'm [PERSON]. The problem relates to: ...</td>\n",
       "      <td>PRIO: How to increase the API quota?|| , , I'm...</td>\n",
       "      <td>prio increase api quota, increase api quota pr...</td>\n",
       "    </tr>\n",
       "    <tr>\n",
       "      <th>7</th>\n",
       "      <td>TKT-500007</td>\n",
       "      <td>en</td>\n",
       "      <td>Declined transactions without reason?</td>\n",
       "      <td>Hello, Hi, I'm Drew Laine. My card keeps getti...</td>\n",
       "      <td>Declined transactions without reason?</td>\n",
       "      <td>Hello, Hi, I'm Drew Laine. My card keeps getti...</td>\n",
       "      <td>Declined transactions without reason?</td>\n",
       "      <td>Hello, Hi, I'm [PERSON]. My card keeps getting...</td>\n",
       "      <td>Declined transactions without reason?|| , , I'...</td>\n",
       "      <td>card keeps getting declined, declined transact...</td>\n",
       "    </tr>\n",
       "    <tr>\n",
       "      <th>8</th>\n",
       "      <td>TKT-500008</td>\n",
       "      <td>sv</td>\n",
       "      <td>Tillfällig höjning av e‑handelsgräns</td>\n",
       "      <td>Hej där, Hi, I'm Sofia Ahonen. Mitt kort blir ...</td>\n",
       "      <td>Temporary increase of e-commerce limit</td>\n",
       "      <td>Hi there, Hi, I'm Sofia Ahonen. My card gets w...</td>\n",
       "      <td>Temporary increase of e-commerce limit</td>\n",
       "      <td>Hi there, Hi, I'm [PERSON]. My card gets wrong...</td>\n",
       "      <td>Temporary increase of e-commerce limit|| there...</td>\n",
       "      <td>commerce limit card gets, increase commerce li...</td>\n",
       "    </tr>\n",
       "    <tr>\n",
       "      <th>9</th>\n",
       "      <td>TKT-500009</td>\n",
       "      <td>en</td>\n",
       "      <td>Question about last month’s fees</td>\n",
       "      <td>Hi, I'm Alex Ahonen. Not sure if this is on my...</td>\n",
       "      <td>Question about last month’s fees</td>\n",
       "      <td>Hi, I'm Alex Ahonen. Not sure if this is on my...</td>\n",
       "      <td>Question about last month’s fees</td>\n",
       "      <td>Hi, I'm [PERSON]. Not sure if this is on my si...</td>\n",
       "      <td>Question about last month’s fees|| , I'm [PERS...</td>\n",
       "      <td>fees sure tested device, card 4970 7040 tested...</td>\n",
       "    </tr>\n",
       "  </tbody>\n",
       "</table>\n",
       "</div>"
      ],
      "text/plain": [
       "    ticket_id lang                                      subject_clean  \\\n",
       "0  TKT-500000   en  URGENT: Hitting rate limits on /transactions (...   \n",
       "1  TKT-500001   en  Question about KYC — documents keep getting re...   \n",
       "2  TKT-500002   en                 Can’t pay online — keeps declining   \n",
       "3  TKT-500003   sv                       PRIO: Kort saknas, spärra nu   \n",
       "4  TKT-500004   en            Tokenization failed during wallet setup   \n",
       "5  TKT-500005   en                      FYI: Sandbox ok, prod failing   \n",
       "6  TKT-500006   fi               PRIO: Miten kasvattaa API-kiintiötä?   \n",
       "7  TKT-500007   en              Declined transactions without reason?   \n",
       "8  TKT-500008   sv               Tillfällig höjning av e‑handelsgräns   \n",
       "9  TKT-500009   en                   Question about last month’s fees   \n",
       "\n",
       "                                          body_clean  \\\n",
       "0  Hello, Hi, I'm Sam Heikkinen. My card keeps ge...   \n",
       "1  Hi team, Hi, I'm Alex Mäkinen. My card keeps g...   \n",
       "2  Hi team, Hi, I'm Jamie Salonen. Not sure if th...   \n",
       "3  Hallå, Hi, I'm Henrik Svensson. Jag har proble...   \n",
       "4  Hey, Hi, I'm Sa Ahonen. Not sure if this is on...   \n",
       "5  Hello, Hi, I'm Jordan Mäkinen. I'm having trou...   \n",
       "6  Hei, Hi, I'm Sanna Mäkinen. Ongelma liittyy ai...   \n",
       "7  Hello, Hi, I'm Drew Laine. My card keeps getti...   \n",
       "8  Hej där, Hi, I'm Sofia Ahonen. Mitt kort blir ...   \n",
       "9  Hi, I'm Alex Ahonen. Not sure if this is on my...   \n",
       "\n",
       "                                  subject_translated  \\\n",
       "0  URGENT: Hitting rate limits on /transactions (...   \n",
       "1  Question about KYC — documents keep getting re...   \n",
       "2                 Can’t pay online — keeps declining   \n",
       "3                      PRIO: Card missing, block now   \n",
       "4            Tokenization failed during wallet setup   \n",
       "5                      FYI: Sandbox ok, prod failing   \n",
       "6               PRIO: How to increase the API quota?   \n",
       "7              Declined transactions without reason?   \n",
       "8             Temporary increase of e-commerce limit   \n",
       "9                   Question about last month’s fees   \n",
       "\n",
       "                                     body_translated  \\\n",
       "0  Hello, Hi, I'm Sam Heikkinen. My card keeps ge...   \n",
       "1  Hi team, Hi, I'm Alex Mäkinen. My card keeps g...   \n",
       "2  Hi team, Hi, I'm Jamie Salonen. Not sure if th...   \n",
       "3  Hello, Hi, I'm Henrik Svensson. I have problem...   \n",
       "4  Hey, Hi, I'm Sa Ahonen. Not sure if this is on...   \n",
       "5  Hello, Hi, I'm Jordan Mäkinen. I'm having trou...   \n",
       "6  Hi, Hi, I'm Sanna Mäkinen. The problem relates...   \n",
       "7  Hello, Hi, I'm Drew Laine. My card keeps getti...   \n",
       "8  Hi there, Hi, I'm Sofia Ahonen. My card gets w...   \n",
       "9  Hi, I'm Alex Ahonen. Not sure if this is on my...   \n",
       "\n",
       "                                      subject_masked  \\\n",
       "0  URGENT: Hitting rate limits on /transactions (...   \n",
       "1  Question about KYC — documents keep getting re...   \n",
       "2                 Can’t pay online — keeps declining   \n",
       "3                      PRIO: Card missing, block now   \n",
       "4            Tokenization failed during wallet setup   \n",
       "5                        FYI: [PERSON], prod failing   \n",
       "6               PRIO: How to increase the API quota?   \n",
       "7              Declined transactions without reason?   \n",
       "8             Temporary increase of e-commerce limit   \n",
       "9                   Question about last month’s fees   \n",
       "\n",
       "                                         body_masked  \\\n",
       "0  Hello, Hi, I'm [PERSON]. My card keeps getting...   \n",
       "1  Hi team, Hi, I'm [PERSON]. My card keeps getti...   \n",
       "2  Hi team, Hi, I'm [PERSON]. Not sure if this is...   \n",
       "3  Hello, Hi, I'm [PERSON]. I have problems with ...   \n",
       "4  Hey, Hi, I'm [PERSON]. Not sure if this is on ...   \n",
       "5  Hello, Hi, I'm [PERSON]. I'm having trouble wi...   \n",
       "6  Hi, Hi, I'm [PERSON]. The problem relates to: ...   \n",
       "7  Hello, Hi, I'm [PERSON]. My card keeps getting...   \n",
       "8  Hi there, Hi, I'm [PERSON]. My card gets wrong...   \n",
       "9  Hi, I'm [PERSON]. Not sure if this is on my si...   \n",
       "\n",
       "                                       combined_text  \\\n",
       "0  URGENT: Hitting rate limits on /transactions (...   \n",
       "1  Question about KYC — documents keep getting re...   \n",
       "2  Can’t pay online — keeps declining|| team, , I...   \n",
       "3  PRIO: Card missing, block now|| , , I'm [PERSO...   \n",
       "4  Tokenization failed during wallet setup|| , , ...   \n",
       "5  FYI: Sandbox ok, prod failing|| , , I'm [PERSO...   \n",
       "6  PRIO: How to increase the API quota?|| , , I'm...   \n",
       "7  Declined transactions without reason?|| , , I'...   \n",
       "8  Temporary increase of e-commerce limit|| there...   \n",
       "9  Question about last month’s fees|| , I'm [PERS...   \n",
       "\n",
       "                                            keywords  \n",
       "0  rate limits transactions error, limits transac...  \n",
       "1  kyc documents getting rejected, kyc documents ...  \n",
       "2  pay online keeps declining, pay online keeps, ...  \n",
       "3  prio card missing block, prio card missing, bl...  \n",
       "4  tokenization failed wallet setup, tokenization...  \n",
       "5  trouble integration sdk launch, trouble integr...  \n",
       "6  prio increase api quota, increase api quota pr...  \n",
       "7  card keeps getting declined, declined transact...  \n",
       "8  commerce limit card gets, increase commerce li...  \n",
       "9  fees sure tested device, card 4970 7040 tested...  "
      ]
     },
     "execution_count": 24,
     "metadata": {},
     "output_type": "execute_result"
    }
   ],
   "source": [
    "# Load from CSV into DataFrame\n",
    "tickets_cleaned = pd.read_csv(\"tickets_cleaned.csv\")\n",
    "\n",
    "# Preview\n",
    "tickets_cleaned.head(10)"
   ]
  },
  {
   "cell_type": "code",
   "execution_count": 25,
   "id": "7930df19-54a8-402e-b5aa-5a5586430dca",
   "metadata": {},
   "outputs": [
    {
     "name": "stdout",
     "output_type": "stream",
     "text": [
      "Data successfully written to 'ticket_preprocessed' table.\n"
     ]
    }
   ],
   "source": [
    "# Write DataFrame to Postgres\n",
    "tickets_cleaned.to_sql(\n",
    "    name=\"ticket_preprocessed\",   \n",
    "    con=engine,\n",
    "    if_exists=\"replace\",           \n",
    "    index=False,                   \n",
    "    dtype=None                     \n",
    ")\n",
    "\n",
    "print(\"Data successfully written to 'ticket_preprocessed' table.\")"
   ]
  },
  {
   "cell_type": "code",
   "execution_count": null,
   "id": "bb6b9e30-a3cb-4911-9bf7-49565552efbf",
   "metadata": {},
   "outputs": [],
   "source": []
  }
 ],
 "metadata": {
  "kernelspec": {
   "display_name": "Python (enfuce-ai)",
   "language": "python",
   "name": "venv"
  },
  "language_info": {
   "codemirror_mode": {
    "name": "ipython",
    "version": 3
   },
   "file_extension": ".py",
   "mimetype": "text/x-python",
   "name": "python",
   "nbconvert_exporter": "python",
   "pygments_lexer": "ipython3",
   "version": "3.12.6"
  }
 },
 "nbformat": 4,
 "nbformat_minor": 5
}
