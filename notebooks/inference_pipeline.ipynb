{
 "cells": [
  {
   "cell_type": "markdown",
   "id": "b7cdddfc-7b79-430d-9ef8-508607b3b830",
   "metadata": {},
   "source": [
    "## <span style=\"color:#0066cc; font-weight:bold\">INFERENCE PIPELINE FOR NEW TICKET CLASSIFICATION AND NEXT STEP RECOMMENDATION</span>"
   ]
  },
  {
   "cell_type": "markdown",
   "id": "c540a202-4075-4ea7-841b-4f7e4f383cf3",
   "metadata": {},
   "source": [
    "<p style=\"font-size:18px;\">\n",
    "This notebook orchestrates the total pipeline for a new ticket that is saved on PostgreSQL tickets table, using its ticket_id.<br> \n",
    "I am using some of the 128 tickets that I did not touch for any preprocessing, clustering or recommendations that I have marked with <strong>demo_flag = TRUE</strong>.\n",
    "</p>\n"
   ]
  },
  {
   "cell_type": "markdown",
   "id": "7fba19cb-49eb-401a-9ad4-e1b59318c649",
   "metadata": {},
   "source": [
    "### <span style=\"color:#4da6ff; font-weight:bold\">Demo setup"
   ]
  },
  {
   "cell_type": "markdown",
   "id": "1bb58ca0-3d11-448b-baab-a1388e59bad8",
   "metadata": {},
   "source": [
    "<p style=\"font-size:16px;\">This setup involes cherry-picking at least 3 tickets( each represnting EN, SV, FI) from the \"ticket\" table where demo_flag = TRUE.\n",
    "These tickets have not been preprocessed, embedded or previously seen by any models downstream.</p>"
   ]
  },
  {
   "cell_type": "code",
   "execution_count": 1,
   "id": "e3c78d79-97b5-403a-9aa6-4157d7fd0983",
   "metadata": {},
   "outputs": [],
   "source": [
    "# Add project root to path \n",
    "import sys\n",
    "from pathlib import Path\n",
    "sys.path.append(str(Path(\"../\").resolve()))"
   ]
  },
  {
   "cell_type": "code",
   "execution_count": 2,
   "id": "cad07fbc-5960-4d48-a449-6430460b2b40",
   "metadata": {},
   "outputs": [],
   "source": [
    "# Generic imports\n",
    "import pandas as pd \n",
    "\n",
    "\n",
    "# imports from my project\n",
    "import src.preprocessing_utils as prep\n",
    "from src.db_utils import fetch_and_cleanup_tickets\n",
    "import src.preprocessing_utils as prep\n",
    "from src.db_utils import fetch_preprocessed_tickets, fetch_already_embedded_ticket_ids, insert_embeddings\n",
    "from src.embedding_utils import batch_embed_and_store,embed_new_tickets\n",
    "import src.recommendation_utils as ru\n",
    "\n",
    "\n",
    "# Show full column content\n",
    "pd.set_option('display.max_colwidth', None)"
   ]
  },
  {
   "cell_type": "code",
   "execution_count": 3,
   "id": "069659fc-3782-4dfb-ad4a-82083a401aa3",
   "metadata": {},
   "outputs": [],
   "source": [
    "# Specify ticket_id for demo tickets\n",
    "\n",
    "# English example : \"TKT-524587\"\n",
    "# Finish example: \"TKT-537091\"\n",
    "# Swedish example: \"TKT-520235\"\n",
    "\n",
    "ticket_ids = [\"TKT-524587\", \"TKT-537091\", \"TKT-520235\" ]"
   ]
  },
  {
   "cell_type": "code",
   "execution_count": 4,
   "id": "759327e0-f2ea-4053-b3a1-266c7a23b507",
   "metadata": {},
   "outputs": [],
   "source": [
    "# Now let's fetch the relevant records from the table \"tickets\".\n",
    "\n",
    "new_tickets = fetch_and_cleanup_tickets(ticket_ids)\n",
    "#new_tickets"
   ]
  },
  {
   "cell_type": "markdown",
   "id": "542894d8-e083-4b6f-a6b7-824a20aac743",
   "metadata": {},
   "source": [
    "### <span style=\"color:#4da6ff; font-weight:bold\">Preprocessing tickets</span>"
   ]
  },
  {
   "cell_type": "markdown",
   "id": "be1775c6-4695-4d5c-9427-1209537a1417",
   "metadata": {},
   "source": [
    "<p style=\"font-size:16px;\">\n",
    "In this section we will preprocess and write the results to the table <code>ticket_preprocessed</code>. There are 7 steps altogether:\n",
    "</p>\n",
    "<ol style=\"font-size:16px;\">\n",
    "    <li>Language detection with langdetect</li>\n",
    "    <li>Text cleaning (removal of emojis and extra spacing)</li>\n",
    "    <li>Translation to English using <code>Helsinki-NLP/opus-mt-sv-en</code> / <code>Helsinki-NLP/opus-mt-fi-en</code></li>\n",
    "    <li>PII masking for names, locations, card numbers, telephone numbers, IBAN and email</li>\n",
    "    <li>Combine cleaned and translated subject and body</li>\n",
    "    <li>Keyword extraction from the above combination for verification purposes</li>\n",
    "    <li>Write the preprocessed ticket data to PostgreSQL</li>\n",
    "</ol>\n"
   ]
  },
  {
   "cell_type": "code",
   "execution_count": 5,
   "id": "adaec3fd-966f-4e56-877d-72ed678a7a67",
   "metadata": {},
   "outputs": [
    {
     "name": "stderr",
     "output_type": "stream",
     "text": [
      "Cleaning & detecting language: 100%|██████████████| 3/3 [00:00<00:00, 14.79it/s]\n"
     ]
    },
    {
     "name": "stdout",
     "output_type": "stream",
     "text": [
      "[INFO] Translated batch 1 (1 texts) for language 'sv'\n",
      "[INFO] Translated batch 1 (1 texts) for language 'sv'\n",
      "[INFO] Translated 1 tickets from 'sv' to English\n",
      "[INFO] Translated batch 1 (1 texts) for language 'fi'\n",
      "[INFO] Translated batch 1 (1 texts) for language 'fi'\n",
      "[INFO] Translated 1 tickets from 'fi' to English\n"
     ]
    },
    {
     "name": "stderr",
     "output_type": "stream",
     "text": [
      "Masking PII: 100%|███████████████████████████████| 3/3 [00:00<00:00, 326.41it/s]\n",
      "Masking PII: 100%|███████████████████████████████| 3/3 [00:00<00:00, 130.32it/s]\n",
      "Extracting keywords: 100%|██████████████████████| 3/3 [00:00<00:00, 10.91text/s]"
     ]
    },
    {
     "name": "stdout",
     "output_type": "stream",
     "text": [
      "[INFO] Keyword extraction completed for 3 texts\n",
      "[INFO] DataFrame written to table 'ticket_preprocessed' successfully.\n",
      "Preprocessed rows written to \"ticket_preprocessed\" table.\n"
     ]
    },
    {
     "name": "stderr",
     "output_type": "stream",
     "text": [
      "\n"
     ]
    }
   ],
   "source": [
    "\n",
    "preprocessed_tickets = prep.preprocess_tickets(new_tickets)\n"
   ]
  },
  {
   "cell_type": "code",
   "execution_count": 6,
   "id": "a09e5f4f-c59a-43eb-905a-c34be8f8eec7",
   "metadata": {},
   "outputs": [],
   "source": [
    "#preprocessed_tickets"
   ]
  },
  {
   "cell_type": "markdown",
   "id": "0913666d-cf22-45fd-bd35-c2a5be91784e",
   "metadata": {},
   "source": [
    "### <span style=\"color:#4da6ff; font-weight:bold\">Embedding combined_text (subject + body)</span>"
   ]
  },
  {
   "cell_type": "markdown",
   "id": "a2ed08c4-51c9-4775-8f01-870c8486bbc3",
   "metadata": {},
   "source": [
    "<ul style=\"font-size:16px;\">\n",
    "    <li>Now I am going to embed the <code>combined_text</code> field from <code>tickets_preprocessed</code> table.</li>\n",
    "    <li>This field is <code>{translated_subject || masked_body}</code> which I feel is sufficient to categorize issue types.</li>\n",
    "    <li>The embeddings I use is <code>all-MiniLM-L6-v2</code> from SentenceTransformers which outputs a 384-dimensional vector.</li>\n",
    "    <li>This vector will also be saved on the <code>ticket_embedding</code> table on PostgreSQL for later steps.</li>\n",
    "</ul>\n",
    "\n",
    "<p style=\"font-size:16px;\"><strong>Note:</strong> The embedding model is configurable (change <code>src.configs.LOCAL_EMBEDDING_MODEL</code> and the vector size of the <code>embedding</code> column).</p>\n"
   ]
  },
  {
   "cell_type": "code",
   "execution_count": 7,
   "id": "0084483d-897c-4617-8c38-57f7c24e8b04",
   "metadata": {},
   "outputs": [
    {
     "name": "stdout",
     "output_type": "stream",
     "text": [
      "[INFO] 3 tickets left to embed\n",
      "Embedding 3 tickets (batch size 128)\n"
     ]
    },
    {
     "data": {
      "application/vnd.jupyter.widget-view+json": {
       "model_id": "e048c79dd26f4d35acde15f2608ecff5",
       "version_major": 2,
       "version_minor": 0
      },
      "text/plain": [
       "Batches:   0%|          | 0/1 [00:00<?, ?it/s]"
      ]
     },
     "metadata": {},
     "output_type": "display_data"
    },
    {
     "name": "stdout",
     "output_type": "stream",
     "text": [
      "Inserted embeddings for batch 0-2\n",
      "Embeddings for 3 tickets added to \"ticket_embeddings\" table.\n"
     ]
    }
   ],
   "source": [
    "embed_new_tickets()"
   ]
  },
  {
   "cell_type": "markdown",
   "id": "5b9acc2f-29d2-4543-afd1-1709aa9d712c",
   "metadata": {},
   "source": [
    "### <span style=\"color:#4da6ff; font-weight:bold\">Using saved HDBSCAN model to predict a new ticket's category and next step recommendation </span>"
   ]
  },
  {
   "cell_type": "markdown",
   "id": "c4df7faf-1bb7-42f3-bef4-0d84add11e5f",
   "metadata": {},
   "source": [
    "<p style=\"font-size:16px;\">\n",
    "The output dimension of the embeddings (384) is too high for clustering, since distance measures become less meaningful and clustering itself scales poorly. \n",
    "I have used <strong>UMAP (Uniform Manifold Approximation and Projection)</strong> to project the embeddings into a reasonable dimension before clustering. \n",
    "This projector has been saved as a <code>.pkl</code> file so that any new tickets go through the exact same projector before being categorized by the clustering model.\n",
    "</p>\n",
    "\n",
    "<p style=\"font-size:16px;\">\n",
    "I have implemented a clusterer using <strong>HDBSCAN (Hierarchical Density-Based Spatial Clustering of Applications with Noise)</strong> because:\n",
    "</p>\n",
    "<ol style=\"font-size:16px;\">\n",
    "    <li>The number of clusters, their shapes, and densities are unknown.</li>\n",
    "    <li>The dataset could be noisy and contain many outliers.</li>\n",
    "</ol>\n",
    "\n",
    "<p style=\"font-size:16px;\">\n",
    "The generated and saved clusterer should be loaded for this section. It will be used to categorize new tickets using <code>approximate_predict</code> in HDBSCAN. \n",
    "Note that even a new ticket with a previously unseen issue category will still fall into an existing cluster but with a <strong><span style=\"color:red;\">very low confidence score. </span></strong>\n",
    "</p>\n",
    "\n",
    "<p style=\"font-size:16px;\">\n",
    "I maintain a <code>cluster_labels</code> table which has human-readable issue category names. \n",
    "A local LLM (<code>mistral:7b</code> via Ollama currently) is prompted to inspect the <code>combined_text</code> of the top-N (10 currently) tickets closest to each cluster center and issue a suitable natural language label. \n",
    "</p>\n",
    "\n",
    "<p style=\"font-size:16px;\">\n",
    "After the issue categorization, the recommender program will:\n",
    "</p>\n",
    "<ol style=\"font-size:16px;\">\n",
    "    <li>Find the closest ticket in the same cluster.</li>\n",
    "    <li>Prefer resolved/closed tickets; otherwise use the nearest open ticket.</li>\n",
    "    <li>Compare <code>internal_comments</code> via an LLM (<code>mistral:7b</code> via Ollama currently) to suggest the next recommended step. \n",
    "    This could be knowledge from the neighbor or general advice depending on the neighbor's status.</li>\n",
    "</ol>\n",
    "\n",
    "<p style=\"font-size:16px;\"> <strong>Note:</strong> The local model can be configured via <code>src.ai_utils</code>.</p>\n"
   ]
  },
  {
   "cell_type": "code",
   "execution_count": 8,
   "id": "d2b88c56-06e3-407f-ac41-cb6bedbfa0b9",
   "metadata": {},
   "outputs": [
    {
     "name": "stdout",
     "output_type": "stream",
     "text": [
      "Table \"tickets\" updated with TKT-524587's cluster_id, cluster_label, suggestion and confidence.\n",
      "Table \"tickets\" updated with TKT-537091's cluster_id, cluster_label, suggestion and confidence.\n",
      "Table \"tickets\" updated with TKT-520235's cluster_id, cluster_label, suggestion and confidence.\n"
     ]
    }
   ],
   "source": [
    "# Store results\n",
    "results = []\n",
    "\n",
    "# Get cluster id and label with suggested next step\n",
    "for tid in ticket_ids:\n",
    "    suggestion, confidence, cluster_id, cluster_label, best_comments, nearest_ticket_id, nearest_ticket_status = ru.find_recommendation(tid)\n",
    "    results.append({\n",
    "        \"Ticket ID\": tid,\n",
    "        \"Cluster ID\": cluster_id,\n",
    "        \"Cluster Label\": cluster_label,\n",
    "        \"Confidence\": round(confidence, 2),\n",
    "        \"Nearest Ticket\": nearest_ticket_id,\n",
    "        \"Nearest ticket status\": nearest_ticket_status,\n",
    "        \"Neighbouring action sequence\" :best_comments,\n",
    "        \"Suggested Next Step\": suggestion\n",
    "    })\n",
    "\n",
    "# Convert to dataFrame \n",
    "df_results = pd.DataFrame(results)\n",
    "\n",
    "\n"
   ]
  },
  {
   "cell_type": "code",
   "execution_count": 9,
   "id": "582ceb40-7ff3-4743-acf5-105e7f1a7841",
   "metadata": {},
   "outputs": [
    {
     "data": {
      "text/html": [
       "<div>\n",
       "<style scoped>\n",
       "    .dataframe tbody tr th:only-of-type {\n",
       "        vertical-align: middle;\n",
       "    }\n",
       "\n",
       "    .dataframe tbody tr th {\n",
       "        vertical-align: top;\n",
       "    }\n",
       "\n",
       "    .dataframe thead th {\n",
       "        text-align: right;\n",
       "    }\n",
       "</style>\n",
       "<table border=\"1\" class=\"dataframe\">\n",
       "  <thead>\n",
       "    <tr style=\"text-align: right;\">\n",
       "      <th></th>\n",
       "      <th>Ticket ID</th>\n",
       "      <th>Cluster ID</th>\n",
       "      <th>Cluster Label</th>\n",
       "      <th>Confidence</th>\n",
       "      <th>Nearest Ticket</th>\n",
       "      <th>Nearest ticket status</th>\n",
       "      <th>Neighbouring action sequence</th>\n",
       "      <th>Suggested Next Step</th>\n",
       "    </tr>\n",
       "  </thead>\n",
       "  <tbody>\n",
       "    <tr>\n",
       "      <th>0</th>\n",
       "      <td>TKT-524587</td>\n",
       "      <td>33</td>\n",
       "      <td>Urgent Card Issue</td>\n",
       "      <td>1.00</td>\n",
       "      <td>TKT-545894</td>\n",
       "      <td>closed</td>\n",
       "      <td>- Replied to customer; requested last 4 of PAN and timestamp. - Escalated to TechOps; possible regional issue. - Checked auth logs; decline code 05 for last two attempts. - Replied to customer; requested last 4 of PAN and timestamp.</td>\n",
       "      <td>Escalate the issue to TechOps, as there seems to be a possible regional problem based on the decline code 05 in the auth logs.</td>\n",
       "    </tr>\n",
       "    <tr>\n",
       "      <th>1</th>\n",
       "      <td>TKT-537091</td>\n",
       "      <td>20</td>\n",
       "      <td>Increase API Quota Inquiry</td>\n",
       "      <td>1.00</td>\n",
       "      <td>TKT-536844</td>\n",
       "      <td>closed</td>\n",
       "      <td>- Eskalointi TechOpsille; mahdollinen alueellinen vika. - Ei häiriötä status-sivulla; seuranta käynnissä.</td>\n",
       "      <td>Escalate the issue to TechOps for potential local problem diagnosis and resolution.</td>\n",
       "    </tr>\n",
       "    <tr>\n",
       "      <th>2</th>\n",
       "      <td>TKT-520235</td>\n",
       "      <td>22</td>\n",
       "      <td>Tokenization/Apple Pay Issues</td>\n",
       "      <td>0.43</td>\n",
       "      <td>TKT-543369</td>\n",
       "      <td>resolved</td>\n",
       "      <td>- Eskalering till TechOps; möjligt regionalt fel. - Svarade kunden; begärde sista 4 av kort och tidsstämpel.</td>\n",
       "      <td>Escalate the issue to TechOps, requesting a regional check and providing the last 4 digits of the affected device along with timestamps.</td>\n",
       "    </tr>\n",
       "  </tbody>\n",
       "</table>\n",
       "</div>"
      ],
      "text/plain": [
       "    Ticket ID  Cluster ID                   Cluster Label  Confidence  \\\n",
       "0  TKT-524587          33               Urgent Card Issue        1.00   \n",
       "1  TKT-537091          20      Increase API Quota Inquiry        1.00   \n",
       "2  TKT-520235          22   Tokenization/Apple Pay Issues        0.43   \n",
       "\n",
       "  Nearest Ticket Nearest ticket status  \\\n",
       "0     TKT-545894                closed   \n",
       "1     TKT-536844                closed   \n",
       "2     TKT-543369              resolved   \n",
       "\n",
       "                                                                                                                                                                                                               Neighbouring action sequence  \\\n",
       "0  - Replied to customer; requested last 4 of PAN and timestamp. - Escalated to TechOps; possible regional issue. - Checked auth logs; decline code 05 for last two attempts. - Replied to customer; requested last 4 of PAN and timestamp.   \n",
       "1                                                                                                                                 - Eskalointi TechOpsille; mahdollinen alueellinen vika. - Ei häiriötä status-sivulla; seuranta käynnissä.   \n",
       "2                                                                                                                              - Eskalering till TechOps; möjligt regionalt fel. - Svarade kunden; begärde sista 4 av kort och tidsstämpel.   \n",
       "\n",
       "                                                                                                                         Suggested Next Step  \n",
       "0             Escalate the issue to TechOps, as there seems to be a possible regional problem based on the decline code 05 in the auth logs.  \n",
       "1                                                        Escalate the issue to TechOps for potential local problem diagnosis and resolution.  \n",
       "2   Escalate the issue to TechOps, requesting a regional check and providing the last 4 digits of the affected device along with timestamps.  "
      ]
     },
     "execution_count": 9,
     "metadata": {},
     "output_type": "execute_result"
    }
   ],
   "source": [
    "df_results"
   ]
  }
 ],
 "metadata": {
  "kernelspec": {
   "display_name": "Python (enfuce-ai)",
   "language": "python",
   "name": "venv"
  },
  "language_info": {
   "codemirror_mode": {
    "name": "ipython",
    "version": 3
   },
   "file_extension": ".py",
   "mimetype": "text/x-python",
   "name": "python",
   "nbconvert_exporter": "python",
   "pygments_lexer": "ipython3",
   "version": "3.12.6"
  }
 },
 "nbformat": 4,
 "nbformat_minor": 5
}
