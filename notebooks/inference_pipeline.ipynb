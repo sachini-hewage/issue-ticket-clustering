{
 "cells": [
  {
   "cell_type": "markdown",
   "id": "b7cdddfc-7b79-430d-9ef8-508607b3b830",
   "metadata": {},
   "source": [
    "## <span style=\"color:#0066cc; font-weight:bold\">INFERENCE PIPELINE FOR NEW TICKET CLASSIFICATION AND NEXT STEP RECOMMENDATION</span>"
   ]
  },
  {
   "cell_type": "markdown",
   "id": "c540a202-4075-4ea7-841b-4f7e4f383cf3",
   "metadata": {},
   "source": [
    "<p style=\"font-size:18px;\">\n",
    "This notebook orchestrates the total pipeline for a new ticket that is saved on PostgreSQL tickets table, using its ticket_id.<br> \n",
    "I am using some of the 128 tickets that I did not touch for any preprocessing, clustering or recommendations that I have marked with <strong>demo_flag = TRUE</strong>.\n",
    "</p>\n"
   ]
  },
  {
   "cell_type": "markdown",
   "id": "7fba19cb-49eb-401a-9ad4-e1b59318c649",
   "metadata": {},
   "source": [
    "### <span style=\"color:#4da6ff; font-weight:bold\">Demo setup"
   ]
  },
  {
   "cell_type": "markdown",
   "id": "1bb58ca0-3d11-448b-baab-a1388e59bad8",
   "metadata": {},
   "source": [
    "<p style=\"font-size:16px;\">This setup involes cherry-picking at least 3 tickets( each represnting EN, SV, FI) from the \"ticket\" table where demo_flag = TRUE.\n",
    "These tickets have not been preprocessed, embedded or previously seen by any models downstream.</p>"
   ]
  },
  {
   "cell_type": "code",
   "execution_count": 1,
   "id": "e3c78d79-97b5-403a-9aa6-4157d7fd0983",
   "metadata": {},
   "outputs": [],
   "source": [
    "# Add project root to path \n",
    "import sys\n",
    "from pathlib import Path\n",
    "sys.path.append(str(Path(\"../\").resolve()))"
   ]
  },
  {
   "cell_type": "code",
   "execution_count": 2,
   "id": "cad07fbc-5960-4d48-a449-6430460b2b40",
   "metadata": {},
   "outputs": [],
   "source": [
    "# Generic imports\n",
    "import pandas as pd \n",
    "\n",
    "\n",
    "# imports from my project\n",
    "import src.preprocessing_utils as prep\n",
    "from src.db_utils import fetch_and_cleanup_tickets\n",
    "import src.preprocessing_utils as prep\n",
    "from src.db_utils import fetch_preprocessed_tickets, fetch_already_embedded_ticket_ids, insert_embeddings\n",
    "from src.embedding_utils import batch_embed_and_store,embed_new_tickets\n",
    "import src.recommendation_utils as ru\n",
    "import src.diagnostic_utils as dgn\n",
    "\n",
    "\n",
    "# Show full column content\n",
    "pd.set_option('display.max_colwidth', None)"
   ]
  },
  {
   "cell_type": "code",
   "execution_count": 3,
   "id": "069659fc-3782-4dfb-ad4a-82083a401aa3",
   "metadata": {},
   "outputs": [],
   "source": [
    "# Specify ticket_id for demo tickets\n",
    "\n",
    "# English example : \"TKT-524587\"\n",
    "# Finish example: \"TKT-537091\"\n",
    "# Swedish example: \"TKT-520235\"\n",
    "# Absurd ticket: \"TKT-600000\"\n",
    "\n",
    "ticket_ids = [\"TKT-524587\", \"TKT-537091\", \"TKT-520235\", \"TKT-600000\" ]"
   ]
  },
  {
   "cell_type": "code",
   "execution_count": 4,
   "id": "759327e0-f2ea-4053-b3a1-266c7a23b507",
   "metadata": {},
   "outputs": [
    {
     "data": {
      "text/html": [
       "<div>\n",
       "<style scoped>\n",
       "    .dataframe tbody tr th:only-of-type {\n",
       "        vertical-align: middle;\n",
       "    }\n",
       "\n",
       "    .dataframe tbody tr th {\n",
       "        vertical-align: top;\n",
       "    }\n",
       "\n",
       "    .dataframe thead th {\n",
       "        text-align: right;\n",
       "    }\n",
       "</style>\n",
       "<table border=\"1\" class=\"dataframe\">\n",
       "  <thead>\n",
       "    <tr style=\"text-align: right;\">\n",
       "      <th></th>\n",
       "      <th>ticket_id</th>\n",
       "      <th>created_at</th>\n",
       "      <th>channel</th>\n",
       "      <th>source_system</th>\n",
       "      <th>customer_name</th>\n",
       "      <th>subject</th>\n",
       "      <th>body</th>\n",
       "      <th>internal_comments</th>\n",
       "      <th>status</th>\n",
       "      <th>resolution_time_s</th>\n",
       "      <th>demo_flag</th>\n",
       "      <th>cluster_id</th>\n",
       "      <th>cluster_label</th>\n",
       "      <th>next_step</th>\n",
       "      <th>cluster_confidence</th>\n",
       "      <th>neighbour_confidence</th>\n",
       "    </tr>\n",
       "  </thead>\n",
       "  <tbody>\n",
       "    <tr>\n",
       "      <th>0</th>\n",
       "      <td>TKT-520235</td>\n",
       "      <td>2025-06-12 11:46:22</td>\n",
       "      <td>portal</td>\n",
       "      <td>Portal</td>\n",
       "      <td>Sofia Heikkinen</td>\n",
       "      <td>Kan inte lägga till kort i Apple Pay</td>\n",
       "      <td>Hallå, Hi, I'm Sofia Heikkinen. Jag har problem med tokenization/wallet. Täckningen borde räcka, så jag är förvirrad. IBAN: FI1801444981598892 Lansering imorgon, lite bråttom. Som jag nämnde tidigare, detta blockerar oss. Täckningen borde räcka, så jag är förvirrad. Täckningen borde räcka, så jag är förvirrad. Tack på förhand.</td>\n",
       "      <td>[[Agent-2] 2025-06-12 12:11 - Kontrollerade loggar; kod 05 för de senaste försöken., [Ops] 2025-06-12 12:20 - Väntar på dokument; påminnelse till imorgon., [TechOps] 2025-06-12 13:19 - Eskalering till TechOps; möjligt regionalt fel., [L2] 2025-06-12 15:08 - Eskalering till TechOps; möjligt regionalt fel., [L2] 2025-06-12 16:13 - Ingen incident på status-sidan; övervakning pågår.]</td>\n",
       "      <td>new</td>\n",
       "      <td>None</td>\n",
       "      <td>True</td>\n",
       "      <td>22</td>\n",
       "      <td>Tokenization/Apple Pay Issues</td>\n",
       "      <td>Escalate the issue to TechOps, requesting a regional check and providing the last 4 digits of the affected device along with timestamps.</td>\n",
       "      <td>0.584395</td>\n",
       "      <td>0.899043</td>\n",
       "    </tr>\n",
       "    <tr>\n",
       "      <th>1</th>\n",
       "      <td>TKT-524587</td>\n",
       "      <td>2025-06-12 09:07:11</td>\n",
       "      <td>portal</td>\n",
       "      <td>Zendesk</td>\n",
       "      <td>Riley Salonen</td>\n",
       "      <td>How do I get a new card quickly? 😕</td>\n",
       "      <td>Hi team, Hi, I'm Riley Salonen. My card keeps getting errors when I try to pay. Balance should be fine, so I'm confused. Balance should be fine, so I'm confused. We have a launch tomorrow, so it's a bit urgent. Best regards,</td>\n",
       "      <td>[[TechOps] 2025-06-12 10:13 - Checked auth logs; decline code 05 for last two attempts., [Agent-2] 2025-06-12 11:00 - No incident on status page; monitoring., [L2] 2025-06-12 12:24 - No incident on status page; monitoring.]</td>\n",
       "      <td>new</td>\n",
       "      <td>None</td>\n",
       "      <td>True</td>\n",
       "      <td>33</td>\n",
       "      <td>Urgent Card Issue</td>\n",
       "      <td>Escalate the issue to TechOps, as there seems to be a possible regional problem based on the decline code 05 in the auth logs.</td>\n",
       "      <td>1.000000</td>\n",
       "      <td>0.959852</td>\n",
       "    </tr>\n",
       "    <tr>\n",
       "      <th>2</th>\n",
       "      <td>TKT-537091</td>\n",
       "      <td>2025-06-12 10:45:56</td>\n",
       "      <td>portal</td>\n",
       "      <td>EmailInbox</td>\n",
       "      <td>Ville Niemi</td>\n",
       "      <td>Miten kasvattaa API-kiintiötä? 😕</td>\n",
       "      <td>Hi, I'm Ville Niemi. Ongelma liittyy aiheeseen: API Rate Limit/Auth. Testasin myös toisella laitteella. Phone: +46 427 235 2760 Email: ville.niemi@company.fi Ilmoittakaa jos tarvitsette kuvakaappauksia. Ilmoittakaa jos tarvitsette kuvakaappauksia.</td>\n",
       "      <td>[[Agent-1] 2025-06-12 11:46 - Tarkistettu lokit; viimeisissä yrityksissä koodi 05., [TechOps] 2025-06-12 13:16 - Ei häiriötä status-sivulla; seuranta käynnissä., [Agent-2] 2025-06-12 14:15 - Eskalointi TechOpsille; mahdollinen alueellinen vika.]</td>\n",
       "      <td>in_progress</td>\n",
       "      <td>None</td>\n",
       "      <td>True</td>\n",
       "      <td>20</td>\n",
       "      <td>Increase API Quota Inquiry</td>\n",
       "      <td>Escalate the issue to TechOps for potential local problem diagnosis and resolution.</td>\n",
       "      <td>1.000000</td>\n",
       "      <td>0.974350</td>\n",
       "    </tr>\n",
       "    <tr>\n",
       "      <th>3</th>\n",
       "      <td>TKT-600000</td>\n",
       "      <td>2025-10-16 11:31:57</td>\n",
       "      <td>email</td>\n",
       "      <td>EmailInbox</td>\n",
       "      <td>Antti Penttilä</td>\n",
       "      <td>My cat ate my card</td>\n",
       "      <td>Hello, Hi, I'm Antti Penttilä. My cat ate my credit card under the card number 4000 1234 5678 9010.</td>\n",
       "      <td>[]</td>\n",
       "      <td>in_progress</td>\n",
       "      <td>None</td>\n",
       "      <td>True</td>\n",
       "      <td>68</td>\n",
       "      <td>Card Replacement Requests (Urgent)</td>\n",
       "      <td>Continue monitoring the issue on the status page as resolution is already in progress.</td>\n",
       "      <td>1.000000</td>\n",
       "      <td>0.582649</td>\n",
       "    </tr>\n",
       "  </tbody>\n",
       "</table>\n",
       "</div>"
      ],
      "text/plain": [
       "    ticket_id          created_at channel source_system    customer_name  \\\n",
       "0  TKT-520235 2025-06-12 11:46:22  portal        Portal  Sofia Heikkinen   \n",
       "1  TKT-524587 2025-06-12 09:07:11  portal       Zendesk    Riley Salonen   \n",
       "2  TKT-537091 2025-06-12 10:45:56  portal    EmailInbox      Ville Niemi   \n",
       "3  TKT-600000 2025-10-16 11:31:57   email    EmailInbox   Antti Penttilä   \n",
       "\n",
       "                                subject  \\\n",
       "0  Kan inte lägga till kort i Apple Pay   \n",
       "1    How do I get a new card quickly? 😕   \n",
       "2      Miten kasvattaa API-kiintiötä? 😕   \n",
       "3                    My cat ate my card   \n",
       "\n",
       "                                                                                                                                                                                                                                                                                                                                       body  \\\n",
       "0  Hallå, Hi, I'm Sofia Heikkinen. Jag har problem med tokenization/wallet. Täckningen borde räcka, så jag är förvirrad. IBAN: FI1801444981598892 Lansering imorgon, lite bråttom. Som jag nämnde tidigare, detta blockerar oss. Täckningen borde räcka, så jag är förvirrad. Täckningen borde räcka, så jag är förvirrad. Tack på förhand.   \n",
       "1                                                                                                          Hi team, Hi, I'm Riley Salonen. My card keeps getting errors when I try to pay. Balance should be fine, so I'm confused. Balance should be fine, so I'm confused. We have a launch tomorrow, so it's a bit urgent. Best regards,   \n",
       "2                                                                                   Hi, I'm Ville Niemi. Ongelma liittyy aiheeseen: API Rate Limit/Auth. Testasin myös toisella laitteella. Phone: +46 427 235 2760 Email: ville.niemi@company.fi Ilmoittakaa jos tarvitsette kuvakaappauksia. Ilmoittakaa jos tarvitsette kuvakaappauksia.   \n",
       "3                                                                                                                                                                                                                                       Hello, Hi, I'm Antti Penttilä. My cat ate my credit card under the card number 4000 1234 5678 9010.   \n",
       "\n",
       "                                                                                                                                                                                                                                                                                                                                                                                internal_comments  \\\n",
       "0  [[Agent-2] 2025-06-12 12:11 - Kontrollerade loggar; kod 05 för de senaste försöken., [Ops] 2025-06-12 12:20 - Väntar på dokument; påminnelse till imorgon., [TechOps] 2025-06-12 13:19 - Eskalering till TechOps; möjligt regionalt fel., [L2] 2025-06-12 15:08 - Eskalering till TechOps; möjligt regionalt fel., [L2] 2025-06-12 16:13 - Ingen incident på status-sidan; övervakning pågår.]   \n",
       "1                                                                                                                                                                 [[TechOps] 2025-06-12 10:13 - Checked auth logs; decline code 05 for last two attempts., [Agent-2] 2025-06-12 11:00 - No incident on status page; monitoring., [L2] 2025-06-12 12:24 - No incident on status page; monitoring.]   \n",
       "2                                                                                                                                           [[Agent-1] 2025-06-12 11:46 - Tarkistettu lokit; viimeisissä yrityksissä koodi 05., [TechOps] 2025-06-12 13:16 - Ei häiriötä status-sivulla; seuranta käynnissä., [Agent-2] 2025-06-12 14:15 - Eskalointi TechOpsille; mahdollinen alueellinen vika.]   \n",
       "3                                                                                                                                                                                                                                                                                                                                                                                              []   \n",
       "\n",
       "        status resolution_time_s  demo_flag  cluster_id  \\\n",
       "0          new              None       True          22   \n",
       "1          new              None       True          33   \n",
       "2  in_progress              None       True          20   \n",
       "3  in_progress              None       True          68   \n",
       "\n",
       "                         cluster_label  \\\n",
       "0        Tokenization/Apple Pay Issues   \n",
       "1                    Urgent Card Issue   \n",
       "2           Increase API Quota Inquiry   \n",
       "3   Card Replacement Requests (Urgent)   \n",
       "\n",
       "                                                                                                                                   next_step  \\\n",
       "0   Escalate the issue to TechOps, requesting a regional check and providing the last 4 digits of the affected device along with timestamps.   \n",
       "1             Escalate the issue to TechOps, as there seems to be a possible regional problem based on the decline code 05 in the auth logs.   \n",
       "2                                                        Escalate the issue to TechOps for potential local problem diagnosis and resolution.   \n",
       "3                                                     Continue monitoring the issue on the status page as resolution is already in progress.   \n",
       "\n",
       "   cluster_confidence  neighbour_confidence  \n",
       "0            0.584395              0.899043  \n",
       "1            1.000000              0.959852  \n",
       "2            1.000000              0.974350  \n",
       "3            1.000000              0.582649  "
      ]
     },
     "execution_count": 4,
     "metadata": {},
     "output_type": "execute_result"
    }
   ],
   "source": [
    "# Now let's fetch the relevant records from the table \"tickets\".\n",
    "\n",
    "new_tickets = fetch_and_cleanup_tickets(ticket_ids)\n",
    "new_tickets"
   ]
  },
  {
   "cell_type": "markdown",
   "id": "542894d8-e083-4b6f-a6b7-824a20aac743",
   "metadata": {},
   "source": [
    "### <span style=\"color:#4da6ff; font-weight:bold\">Preprocessing tickets</span>"
   ]
  },
  {
   "cell_type": "markdown",
   "id": "be1775c6-4695-4d5c-9427-1209537a1417",
   "metadata": {},
   "source": [
    "<p style=\"font-size:16px;\">\n",
    "In this section we will preprocess and write the results to the table <code>ticket_preprocessed</code>. There are 7 steps altogether:\n",
    "</p>\n",
    "<ol style=\"font-size:16px;\">\n",
    "    <li>Language detection with langdetect</li>\n",
    "    <li>Text cleaning (removal of emojis and extra spacing)</li>\n",
    "    <li>Translation to English using <code>Helsinki-NLP/opus-mt-sv-en</code> / <code>Helsinki-NLP/opus-mt-fi-en</code></li>\n",
    "    <li>PII masking for names, locations, card numbers, telephone numbers, IBAN and email</li>\n",
    "    <li>Combine cleaned and translated subject and body</li>\n",
    "    <li>Keyword extraction from the above combination for verification purposes</li>\n",
    "    <li>Write the preprocessed ticket data to PostgreSQL</li>\n",
    "</ol>\n"
   ]
  },
  {
   "cell_type": "code",
   "execution_count": 5,
   "id": "adaec3fd-966f-4e56-877d-72ed678a7a67",
   "metadata": {},
   "outputs": [
    {
     "name": "stderr",
     "output_type": "stream",
     "text": [
      "Cleaning & detecting language: 100%|██████████████| 4/4 [00:00<00:00, 21.55it/s]\n"
     ]
    },
    {
     "name": "stdout",
     "output_type": "stream",
     "text": [
      "[INFO] Translated batch 1 (1 texts) for language 'sv'\n",
      "[INFO] Translated batch 1 (1 texts) for language 'sv'\n",
      "[INFO] Translated 1 tickets from 'sv' to English\n",
      "[INFO] Translated batch 1 (1 texts) for language 'fi'\n",
      "[INFO] Translated batch 1 (1 texts) for language 'fi'\n",
      "[INFO] Translated 1 tickets from 'fi' to English\n"
     ]
    },
    {
     "name": "stderr",
     "output_type": "stream",
     "text": [
      "Masking PII: 100%|███████████████████████████████| 4/4 [00:00<00:00, 170.49it/s]\n",
      "Masking PII: 100%|████████████████████████████████| 4/4 [00:00<00:00, 70.69it/s]\n",
      "Extracting keywords: 100%|██████████████████████| 4/4 [00:00<00:00,  6.46text/s]"
     ]
    },
    {
     "name": "stdout",
     "output_type": "stream",
     "text": [
      "[INFO] Keyword extraction completed for 4 texts\n",
      "[INFO] DataFrame written to table 'ticket_preprocessed' successfully.\n",
      "Preprocessed rows written to \"ticket_preprocessed\" table.\n"
     ]
    },
    {
     "name": "stderr",
     "output_type": "stream",
     "text": [
      "\n"
     ]
    }
   ],
   "source": [
    "\n",
    "preprocessed_tickets = prep.preprocess_tickets(new_tickets)\n"
   ]
  },
  {
   "cell_type": "code",
   "execution_count": 14,
   "id": "a09e5f4f-c59a-43eb-905a-c34be8f8eec7",
   "metadata": {},
   "outputs": [
    {
     "data": {
      "text/html": [
       "<div>\n",
       "<style scoped>\n",
       "    .dataframe tbody tr th:only-of-type {\n",
       "        vertical-align: middle;\n",
       "    }\n",
       "\n",
       "    .dataframe tbody tr th {\n",
       "        vertical-align: top;\n",
       "    }\n",
       "\n",
       "    .dataframe thead th {\n",
       "        text-align: right;\n",
       "    }\n",
       "</style>\n",
       "<table border=\"1\" class=\"dataframe\">\n",
       "  <thead>\n",
       "    <tr style=\"text-align: right;\">\n",
       "      <th></th>\n",
       "      <th>ticket_id</th>\n",
       "      <th>lang</th>\n",
       "      <th>subject_clean</th>\n",
       "      <th>body_clean</th>\n",
       "      <th>subject_translated</th>\n",
       "      <th>body_translated</th>\n",
       "      <th>subject_masked</th>\n",
       "      <th>body_masked</th>\n",
       "      <th>combined_text</th>\n",
       "      <th>keywords</th>\n",
       "    </tr>\n",
       "  </thead>\n",
       "  <tbody>\n",
       "    <tr>\n",
       "      <th>0</th>\n",
       "      <td>TKT-520235</td>\n",
       "      <td>sv</td>\n",
       "      <td>Kan inte lägga till kort i Apple Pay</td>\n",
       "      <td>Hallå, Hi, I'm Sofia Heikkinen. Jag har problem med tokenization/wallet. Täckningen borde räcka, så jag är förvirrad. IBAN: FI1801444981598892 Lansering imorgon, lite bråttom. Som jag nämnde tidigare, detta blockerar oss. Täckningen borde räcka, så jag är förvirrad. Täckningen borde räcka, så jag är förvirrad. Tack på förhand.</td>\n",
       "      <td>Cannot add cards to Apple Pay</td>\n",
       "      <td>Hello, Hi, I'm Sofia Heikkinen. I have problems with tokenization/wallet. Coverage should be enough, so I'm confused. IBAN: FI180444981598892 Launching tomorrow, a bit of a hurry. As I mentioned earlier, this is blocking us. Coverage should be enough, so I'm confused. Coverage should be enough, so I'm confused. Thank you in advance.</td>\n",
       "      <td>Cannot add cards to Apple Pay</td>\n",
       "      <td>Hello, Hi, I'm [PERSON]. I have problems with tokenization/wallet. Coverage should be enough, so I'm confused. IBAN: [IBAN] Launching tomorrow, a bit of a hurry. As I mentioned earlier, this is blocking us. Coverage should be enough, so I'm confused. Coverage should be enough, so I'm confused. Thank you in advance.</td>\n",
       "      <td>Cannot add cards to Apple Pay || , , I'm [PERSON]. I have problems with tokenization/wallet. Coverage should be enough, so I'm confused. IBAN: [IBAN] Launching tomorrow, a bit of a hurry. As I mentioned earlier, this is blocking us. Coverage should be enough, so I'm confused. Coverage should be enough, so I'm confused. Thank you in advance.</td>\n",
       "      <td>[add cards apple pay, cards apple pay problems, apple pay problems tokenization, wallet coverage confused iban, cards apple pay, problems tokenization wallet coverage, tokenization wallet coverage confused, tokenization wallet coverage, add cards apple, apple pay problems]</td>\n",
       "    </tr>\n",
       "    <tr>\n",
       "      <th>1</th>\n",
       "      <td>TKT-524587</td>\n",
       "      <td>en</td>\n",
       "      <td>How do I get a new card quickly?</td>\n",
       "      <td>Hi team, Hi, I'm Riley Salonen. My card keeps getting errors when I try to pay. Balance should be fine, so I'm confused. Balance should be fine, so I'm confused. We have a launch tomorrow, so it's a bit urgent. Best regards,</td>\n",
       "      <td>How do I get a new card quickly?</td>\n",
       "      <td>Hi team, Hi, I'm Riley Salonen. My card keeps getting errors when I try to pay. Balance should be fine, so I'm confused. Balance should be fine, so I'm confused. We have a launch tomorrow, so it's a bit urgent. Best regards,</td>\n",
       "      <td>How do I get a new card quickly?</td>\n",
       "      <td>Hi team, Hi, I'm [PERSON]. My card keeps getting errors when I try to pay. Balance should be fine, so I'm confused. Balance should be fine, so I'm confused. We have a launch tomorrow, so it's a bit urgent. Best regards,</td>\n",
       "      <td>How do I get a new card quickly? || team, , I'm [PERSON]. My card keeps getting errors when I try to pay. Balance should be fine, so I'm confused. Balance should be fine, so I'm confused. We have a launch tomorrow, so it's a bit urgent. Best regards,</td>\n",
       "      <td>[new card quickly, new card, card keeps getting, card quickly, card keeps getting errors, try pay balance, card, errors try pay balance, new card quickly team, card quickly team card]</td>\n",
       "    </tr>\n",
       "    <tr>\n",
       "      <th>2</th>\n",
       "      <td>TKT-537091</td>\n",
       "      <td>fi</td>\n",
       "      <td>Miten kasvattaa API-kiintiötä?</td>\n",
       "      <td>Hi, I'm Ville Niemi. Ongelma liittyy aiheeseen: API Rate Limit/Auth. Testasin myös toisella laitteella. Phone: +46 427 235 2760 Email: ville.niemi@company.fi Ilmoittakaa jos tarvitsette kuvakaappauksia. Ilmoittakaa jos tarvitsette kuvakaappauksia.</td>\n",
       "      <td>How to increase the API quota?</td>\n",
       "      <td>Hi, I'm Ville Niemi. The problem is related to API Rate Limit/Auth. I also tested with another device. Phone: +46 427 235 2760 Email: ville.niemi@company.fi Please let me know if you need screenshots.</td>\n",
       "      <td>How to increase the API quota?</td>\n",
       "      <td>Hi, I'm [PERSON]. The problem is related to API Rate Limit/Auth. I also tested with another device. Phone: [PHONE] Email: [EMAIL] Please let me know if you need screenshots.</td>\n",
       "      <td>How to increase the API quota? || , I'm [PERSON]. The problem is related to API Rate Limit/Auth. I also tested with another device. Phone: [PHONE] Email: [EMAIL] Please let me know if you need screenshots.</td>\n",
       "      <td>[increase api quota problem, increase api quota, api quota problem, api quota, api quota problem related, api rate limit auth, quota problem related api, api rate limit, related api rate limit, increase api]</td>\n",
       "    </tr>\n",
       "    <tr>\n",
       "      <th>3</th>\n",
       "      <td>TKT-600000</td>\n",
       "      <td>en</td>\n",
       "      <td>My cat ate my card</td>\n",
       "      <td>Hello, Hi, I'm Antti Penttilä. My cat ate my credit card under the card number 4000 1234 5678 9010.</td>\n",
       "      <td>My cat ate my card</td>\n",
       "      <td>Hello, Hi, I'm Antti Penttilä. My cat ate my credit card under the card number 4000 1234 5678 9010.</td>\n",
       "      <td>My cat ate my card</td>\n",
       "      <td>Hello, Hi, I'm Antti Penttilä. My cat ate my credit card under the card number [CARD].</td>\n",
       "      <td>My cat ate my card || , , I'm Antti Penttilä. My cat ate my credit card under the card number [CARD].</td>\n",
       "      <td>[cat ate card antti, cat ate credit card, cat ate card, card antti penttilä cat, penttilä cat ate credit, cat ate credit, antti penttilä cat ate, ate card antti penttilä, penttilä cat ate, antti penttilä cat]</td>\n",
       "    </tr>\n",
       "  </tbody>\n",
       "</table>\n",
       "</div>"
      ],
      "text/plain": [
       "    ticket_id lang                         subject_clean  \\\n",
       "0  TKT-520235   sv  Kan inte lägga till kort i Apple Pay   \n",
       "1  TKT-524587   en      How do I get a new card quickly?   \n",
       "2  TKT-537091   fi        Miten kasvattaa API-kiintiötä?   \n",
       "3  TKT-600000   en                    My cat ate my card   \n",
       "\n",
       "                                                                                                                                                                                                                                                                                                                                 body_clean  \\\n",
       "0  Hallå, Hi, I'm Sofia Heikkinen. Jag har problem med tokenization/wallet. Täckningen borde räcka, så jag är förvirrad. IBAN: FI1801444981598892 Lansering imorgon, lite bråttom. Som jag nämnde tidigare, detta blockerar oss. Täckningen borde räcka, så jag är förvirrad. Täckningen borde räcka, så jag är förvirrad. Tack på förhand.   \n",
       "1                                                                                                          Hi team, Hi, I'm Riley Salonen. My card keeps getting errors when I try to pay. Balance should be fine, so I'm confused. Balance should be fine, so I'm confused. We have a launch tomorrow, so it's a bit urgent. Best regards,   \n",
       "2                                                                                   Hi, I'm Ville Niemi. Ongelma liittyy aiheeseen: API Rate Limit/Auth. Testasin myös toisella laitteella. Phone: +46 427 235 2760 Email: ville.niemi@company.fi Ilmoittakaa jos tarvitsette kuvakaappauksia. Ilmoittakaa jos tarvitsette kuvakaappauksia.   \n",
       "3                                                                                                                                                                                                                                       Hello, Hi, I'm Antti Penttilä. My cat ate my credit card under the card number 4000 1234 5678 9010.   \n",
       "\n",
       "                 subject_translated  \\\n",
       "0     Cannot add cards to Apple Pay   \n",
       "1  How do I get a new card quickly?   \n",
       "2    How to increase the API quota?   \n",
       "3                My cat ate my card   \n",
       "\n",
       "                                                                                                                                                                                                                                                                                                                                  body_translated  \\\n",
       "0  Hello, Hi, I'm Sofia Heikkinen. I have problems with tokenization/wallet. Coverage should be enough, so I'm confused. IBAN: FI180444981598892 Launching tomorrow, a bit of a hurry. As I mentioned earlier, this is blocking us. Coverage should be enough, so I'm confused. Coverage should be enough, so I'm confused. Thank you in advance.   \n",
       "1                                                                                                                Hi team, Hi, I'm Riley Salonen. My card keeps getting errors when I try to pay. Balance should be fine, so I'm confused. Balance should be fine, so I'm confused. We have a launch tomorrow, so it's a bit urgent. Best regards,   \n",
       "2                                                                                                                                        Hi, I'm Ville Niemi. The problem is related to API Rate Limit/Auth. I also tested with another device. Phone: +46 427 235 2760 Email: ville.niemi@company.fi Please let me know if you need screenshots.   \n",
       "3                                                                                                                                                                                                                                             Hello, Hi, I'm Antti Penttilä. My cat ate my credit card under the card number 4000 1234 5678 9010.   \n",
       "\n",
       "                     subject_masked  \\\n",
       "0     Cannot add cards to Apple Pay   \n",
       "1  How do I get a new card quickly?   \n",
       "2    How to increase the API quota?   \n",
       "3                My cat ate my card   \n",
       "\n",
       "                                                                                                                                                                                                                                                                                                                    body_masked  \\\n",
       "0  Hello, Hi, I'm [PERSON]. I have problems with tokenization/wallet. Coverage should be enough, so I'm confused. IBAN: [IBAN] Launching tomorrow, a bit of a hurry. As I mentioned earlier, this is blocking us. Coverage should be enough, so I'm confused. Coverage should be enough, so I'm confused. Thank you in advance.   \n",
       "1                                                                                                   Hi team, Hi, I'm [PERSON]. My card keeps getting errors when I try to pay. Balance should be fine, so I'm confused. Balance should be fine, so I'm confused. We have a launch tomorrow, so it's a bit urgent. Best regards,   \n",
       "2                                                                                                                                                 Hi, I'm [PERSON]. The problem is related to API Rate Limit/Auth. I also tested with another device. Phone: [PHONE] Email: [EMAIL] Please let me know if you need screenshots.   \n",
       "3                                                                                                                                                                                                                                        Hello, Hi, I'm Antti Penttilä. My cat ate my credit card under the card number [CARD].   \n",
       "\n",
       "                                                                                                                                                                                                                                                                                                                                            combined_text  \\\n",
       "0  Cannot add cards to Apple Pay || , , I'm [PERSON]. I have problems with tokenization/wallet. Coverage should be enough, so I'm confused. IBAN: [IBAN] Launching tomorrow, a bit of a hurry. As I mentioned earlier, this is blocking us. Coverage should be enough, so I'm confused. Coverage should be enough, so I'm confused. Thank you in advance.   \n",
       "1                                                                                              How do I get a new card quickly? || team, , I'm [PERSON]. My card keeps getting errors when I try to pay. Balance should be fine, so I'm confused. Balance should be fine, so I'm confused. We have a launch tomorrow, so it's a bit urgent. Best regards,   \n",
       "2                                                                                                                                           How to increase the API quota? || , I'm [PERSON]. The problem is related to API Rate Limit/Auth. I also tested with another device. Phone: [PHONE] Email: [EMAIL] Please let me know if you need screenshots.   \n",
       "3                                                                                                                                                                                                                                                   My cat ate my card || , , I'm Antti Penttilä. My cat ate my credit card under the card number [CARD].   \n",
       "\n",
       "                                                                                                                                                                                                                                                                            keywords  \n",
       "0  [add cards apple pay, cards apple pay problems, apple pay problems tokenization, wallet coverage confused iban, cards apple pay, problems tokenization wallet coverage, tokenization wallet coverage confused, tokenization wallet coverage, add cards apple, apple pay problems]  \n",
       "1                                                                                            [new card quickly, new card, card keeps getting, card quickly, card keeps getting errors, try pay balance, card, errors try pay balance, new card quickly team, card quickly team card]  \n",
       "2                                                                    [increase api quota problem, increase api quota, api quota problem, api quota, api quota problem related, api rate limit auth, quota problem related api, api rate limit, related api rate limit, increase api]  \n",
       "3                                                                   [cat ate card antti, cat ate credit card, cat ate card, card antti penttilä cat, penttilä cat ate credit, cat ate credit, antti penttilä cat ate, ate card antti penttilä, penttilä cat ate, antti penttilä cat]  "
      ]
     },
     "execution_count": 14,
     "metadata": {},
     "output_type": "execute_result"
    }
   ],
   "source": [
    "preprocessed_tickets"
   ]
  },
  {
   "cell_type": "markdown",
   "id": "0913666d-cf22-45fd-bd35-c2a5be91784e",
   "metadata": {},
   "source": [
    "### <span style=\"color:#4da6ff; font-weight:bold\">Embedding combined_text (subject + body)</span>"
   ]
  },
  {
   "cell_type": "markdown",
   "id": "a2ed08c4-51c9-4775-8f01-870c8486bbc3",
   "metadata": {},
   "source": [
    "<ul style=\"font-size:16px;\">\n",
    "    <li>Now I am going to embed the <code>combined_text</code> field from <code>tickets_preprocessed</code> table.</li>\n",
    "    <li>This field is <code>{translated_subject || masked_body}</code> which I feel is sufficient to categorize issue types.</li>\n",
    "    <li>The embeddings I use is <code>all-MiniLM-L6-v2</code> from SentenceTransformers which outputs a 384-dimensional vector.</li>\n",
    "    <li>This vector will also be saved on the <code>ticket_embedding</code> table on PostgreSQL for later steps.</li>\n",
    "</ul>\n",
    "\n",
    "<p style=\"font-size:16px;\"><strong>Note:</strong> The embedding model is configurable (change <code>src.configs.LOCAL_EMBEDDING_MODEL</code> and the vector size of the <code>embedding</code> column).</p>\n"
   ]
  },
  {
   "cell_type": "code",
   "execution_count": 7,
   "id": "0084483d-897c-4617-8c38-57f7c24e8b04",
   "metadata": {},
   "outputs": [
    {
     "name": "stdout",
     "output_type": "stream",
     "text": [
      "[INFO] 4 tickets left to embed\n",
      "Embedding 4 tickets (batch size 128)\n"
     ]
    },
    {
     "data": {
      "application/vnd.jupyter.widget-view+json": {
       "model_id": "5acfc9b902d94432baf0f9dfe7a6caf0",
       "version_major": 2,
       "version_minor": 0
      },
      "text/plain": [
       "Batches:   0%|          | 0/1 [00:00<?, ?it/s]"
      ]
     },
     "metadata": {},
     "output_type": "display_data"
    },
    {
     "name": "stdout",
     "output_type": "stream",
     "text": [
      "Inserted embeddings for batch 0-3\n",
      "Embeddings for 4 tickets added to \"ticket_embeddings\" table.\n"
     ]
    }
   ],
   "source": [
    "embed_new_tickets()"
   ]
  },
  {
   "cell_type": "markdown",
   "id": "5b9acc2f-29d2-4543-afd1-1709aa9d712c",
   "metadata": {},
   "source": [
    "### <span style=\"color:#4da6ff; font-weight:bold\">Using saved HDBSCAN model to predict a new ticket's category and next step recommendation </span>"
   ]
  },
  {
   "cell_type": "markdown",
   "id": "c4df7faf-1bb7-42f3-bef4-0d84add11e5f",
   "metadata": {},
   "source": [
    "<p style=\"font-size:16px;\">\n",
    "The output dimension of the embeddings (384) is too high for clustering, since distance measures become less meaningful and clustering itself scales poorly. \n",
    "I have used <strong>UMAP (Uniform Manifold Approximation and Projection)</strong> to project the embeddings into a reasonable dimension before clustering. \n",
    "This projector has been saved as a <code>.pkl</code> file so that any new tickets go through the exact same projector before being categorized by the clustering model.\n",
    "</p>\n",
    "\n",
    "<p style=\"font-size:16px;\">\n",
    "I have implemented a clusterer using <strong>HDBSCAN (Hierarchical Density-Based Spatial Clustering of Applications with Noise)</strong> because:\n",
    "</p>\n",
    "<ol style=\"font-size:16px;\">\n",
    "    <li>The number of clusters, their shapes, and densities are unknown.</li>\n",
    "    <li>The dataset could be noisy and contain many outliers.</li>\n",
    "</ol>\n",
    "\n",
    "<p style=\"font-size:16px;\">\n",
    "The generated and saved clusterer should be loaded for this section. It will be used to categorize new tickets using <code>approximate_predict</code> in HDBSCAN. \n",
    "Note that even a new ticket with a previously unseen issue category will still fall into an existing cluster but with a <strong><span style=\"color:red;\">very low confidence score. </span></strong>\n",
    "</p>\n",
    "\n",
    "<p style=\"font-size:16px;\">\n",
    "I maintain a <code>cluster_labels</code> table which has human-readable issue category names. \n",
    "A local LLM (<code>mistral:7b</code> via Ollama currently) is prompted to inspect the <code>combined_text</code> of the top-N (10 currently) tickets closest to each cluster center and issue a suitable natural language label. \n",
    "</p>\n",
    "\n",
    "<p style=\"font-size:16px;\">\n",
    "After the issue categorization, the recommender program will:\n",
    "</p>\n",
    "<ol style=\"font-size:16px;\">\n",
    "    <li>Find the closest ticket in the same cluster.</li>\n",
    "    <li>Prefer resolved/closed tickets; otherwise use the nearest open ticket.</li>\n",
    "    <li>Compare <code>internal_comments</code> via an LLM (<code>mistral:7b</code> via Ollama currently) to suggest the next recommended step. \n",
    "    This could be knowledge from the neighbor or general advice depending on the neighbor's status.</li>\n",
    "</ol>\n",
    "\n",
    "<p style=\"font-size:16px;\"> <strong>Note:</strong> The local model can be configured via <code>src.ai_utils</code>.</p>\n"
   ]
  },
  {
   "cell_type": "code",
   "execution_count": 8,
   "id": "d2b88c56-06e3-407f-ac41-cb6bedbfa0b9",
   "metadata": {},
   "outputs": [
    {
     "name": "stdout",
     "output_type": "stream",
     "text": [
      "Table \"tickets\" updated with TKT-524587's cluster_id, cluster_label, suggestion and confidences.\n",
      "Table \"tickets\" updated with TKT-537091's cluster_id, cluster_label, suggestion and confidences.\n",
      "Table \"tickets\" updated with TKT-520235's cluster_id, cluster_label, suggestion and confidences.\n",
      "Table \"tickets\" updated with TKT-600000's cluster_id, cluster_label, suggestion and confidences.\n"
     ]
    }
   ],
   "source": [
    "# Store results\n",
    "results = []\n",
    "\n",
    "# Get cluster id and label with suggested next step\n",
    "for tid in ticket_ids:\n",
    "    suggestion, c_confidence, n_confidence,  cluster_id, cluster_label, best_comments, nearest_ticket_id, nearest_ticket_status = ru.find_recommendation(tid)\n",
    "    results.append({\n",
    "        \"Ticket ID\": tid,\n",
    "        \"Cluster ID\": cluster_id,\n",
    "        \"Cluster Label\": cluster_label,\n",
    "        \"Cluster confidence\": round(c_confidence, 2),\n",
    "        \"Neighbour confidence\": round(n_confidence, 2),\n",
    "        \"Nearest Ticket\": nearest_ticket_id,\n",
    "        \"Nearest ticket status\": nearest_ticket_status,\n",
    "        \"Neighbouring action sequence\" :best_comments,\n",
    "        \"Suggested Next Step\": suggestion\n",
    "    })\n",
    "\n",
    "# Convert to dataFrame \n",
    "df_results = pd.DataFrame(results)\n",
    "\n",
    "\n"
   ]
  },
  {
   "cell_type": "code",
   "execution_count": 9,
   "id": "582ceb40-7ff3-4743-acf5-105e7f1a7841",
   "metadata": {},
   "outputs": [
    {
     "data": {
      "text/html": [
       "<div>\n",
       "<style scoped>\n",
       "    .dataframe tbody tr th:only-of-type {\n",
       "        vertical-align: middle;\n",
       "    }\n",
       "\n",
       "    .dataframe tbody tr th {\n",
       "        vertical-align: top;\n",
       "    }\n",
       "\n",
       "    .dataframe thead th {\n",
       "        text-align: right;\n",
       "    }\n",
       "</style>\n",
       "<table border=\"1\" class=\"dataframe\">\n",
       "  <thead>\n",
       "    <tr style=\"text-align: right;\">\n",
       "      <th></th>\n",
       "      <th>Ticket ID</th>\n",
       "      <th>Cluster ID</th>\n",
       "      <th>Cluster Label</th>\n",
       "      <th>Cluster confidence</th>\n",
       "      <th>Neighbour confidence</th>\n",
       "      <th>Nearest Ticket</th>\n",
       "      <th>Nearest ticket status</th>\n",
       "      <th>Neighbouring action sequence</th>\n",
       "      <th>Suggested Next Step</th>\n",
       "    </tr>\n",
       "  </thead>\n",
       "  <tbody>\n",
       "    <tr>\n",
       "      <th>0</th>\n",
       "      <td>TKT-524587</td>\n",
       "      <td>33</td>\n",
       "      <td>Urgent Card Issue</td>\n",
       "      <td>1.00</td>\n",
       "      <td>0.96</td>\n",
       "      <td>TKT-545894</td>\n",
       "      <td>closed</td>\n",
       "      <td>- Replied to customer; requested last 4 of PAN and timestamp. - Escalated to TechOps; possible regional issue. - Checked auth logs; decline code 05 for last two attempts. - Replied to customer; requested last 4 of PAN and timestamp.</td>\n",
       "      <td>Escalate the issue to TechOps, as there seems to be a possible regional problem based on the decline code 05 in the auth logs.</td>\n",
       "    </tr>\n",
       "    <tr>\n",
       "      <th>1</th>\n",
       "      <td>TKT-537091</td>\n",
       "      <td>20</td>\n",
       "      <td>Increase API Quota Inquiry</td>\n",
       "      <td>1.00</td>\n",
       "      <td>0.97</td>\n",
       "      <td>TKT-536844</td>\n",
       "      <td>closed</td>\n",
       "      <td>- Eskalointi TechOpsille; mahdollinen alueellinen vika. - Ei häiriötä status-sivulla; seuranta käynnissä.</td>\n",
       "      <td>Escalate the issue to TechOps for potential local problem diagnosis and resolution.</td>\n",
       "    </tr>\n",
       "    <tr>\n",
       "      <th>2</th>\n",
       "      <td>TKT-520235</td>\n",
       "      <td>22</td>\n",
       "      <td>Tokenization/Apple Pay Issues</td>\n",
       "      <td>0.58</td>\n",
       "      <td>0.90</td>\n",
       "      <td>TKT-543369</td>\n",
       "      <td>resolved</td>\n",
       "      <td>- Eskalering till TechOps; möjligt regionalt fel. - Svarade kunden; begärde sista 4 av kort och tidsstämpel.</td>\n",
       "      <td>Escalate the issue to TechOps, requesting a regional check and providing the last 4 digits of the affected device along with timestamps.</td>\n",
       "    </tr>\n",
       "    <tr>\n",
       "      <th>3</th>\n",
       "      <td>TKT-600000</td>\n",
       "      <td>68</td>\n",
       "      <td>Card Replacement Requests (Urgent)</td>\n",
       "      <td>1.00</td>\n",
       "      <td>0.58</td>\n",
       "      <td>TKT-520769</td>\n",
       "      <td>resolved</td>\n",
       "      <td>- Ei häiriötä status-sivulla; seuranta käynnissä. - Ei häiriötä status-sivulla; seuranta käynnissä.</td>\n",
       "      <td>Continue monitoring the issue on the status page as resolution is already in progress.</td>\n",
       "    </tr>\n",
       "  </tbody>\n",
       "</table>\n",
       "</div>"
      ],
      "text/plain": [
       "    Ticket ID  Cluster ID                        Cluster Label  \\\n",
       "0  TKT-524587          33                    Urgent Card Issue   \n",
       "1  TKT-537091          20           Increase API Quota Inquiry   \n",
       "2  TKT-520235          22        Tokenization/Apple Pay Issues   \n",
       "3  TKT-600000          68   Card Replacement Requests (Urgent)   \n",
       "\n",
       "   Cluster confidence  Neighbour confidence Nearest Ticket  \\\n",
       "0                1.00                  0.96     TKT-545894   \n",
       "1                1.00                  0.97     TKT-536844   \n",
       "2                0.58                  0.90     TKT-543369   \n",
       "3                1.00                  0.58     TKT-520769   \n",
       "\n",
       "  Nearest ticket status  \\\n",
       "0                closed   \n",
       "1                closed   \n",
       "2              resolved   \n",
       "3              resolved   \n",
       "\n",
       "                                                                                                                                                                                                               Neighbouring action sequence  \\\n",
       "0  - Replied to customer; requested last 4 of PAN and timestamp. - Escalated to TechOps; possible regional issue. - Checked auth logs; decline code 05 for last two attempts. - Replied to customer; requested last 4 of PAN and timestamp.   \n",
       "1                                                                                                                                 - Eskalointi TechOpsille; mahdollinen alueellinen vika. - Ei häiriötä status-sivulla; seuranta käynnissä.   \n",
       "2                                                                                                                              - Eskalering till TechOps; möjligt regionalt fel. - Svarade kunden; begärde sista 4 av kort och tidsstämpel.   \n",
       "3                                                                                                                                       - Ei häiriötä status-sivulla; seuranta käynnissä. - Ei häiriötä status-sivulla; seuranta käynnissä.   \n",
       "\n",
       "                                                                                                                         Suggested Next Step  \n",
       "0             Escalate the issue to TechOps, as there seems to be a possible regional problem based on the decline code 05 in the auth logs.  \n",
       "1                                                        Escalate the issue to TechOps for potential local problem diagnosis and resolution.  \n",
       "2   Escalate the issue to TechOps, requesting a regional check and providing the last 4 digits of the affected device along with timestamps.  \n",
       "3                                                     Continue monitoring the issue on the status page as resolution is already in progress.  "
      ]
     },
     "execution_count": 9,
     "metadata": {},
     "output_type": "execute_result"
    }
   ],
   "source": [
    "df_results"
   ]
  },
  {
   "cell_type": "markdown",
   "id": "7fa75124-2652-404e-a89c-b8538fc73e95",
   "metadata": {},
   "source": [
    "### <span style=\"color:#4da6ff; font-weight:bold\">Results validation</span>"
   ]
  },
  {
   "cell_type": "markdown",
   "id": "b5b955a4-1be1-4e58-a548-e099025648dc",
   "metadata": {},
   "source": [
    "<div style=\"font-size:16px;\">\n",
    "    <p>\n",
    "        This section demonstrates some of the possible diagnostic tools to make sense of why results are the way they are.\n",
    "    </p>\n",
    "    <ul>\n",
    "        <li><strong>Diagnostic step 1:</strong> Fetches the <code>subject_translated</code> and <code>body_translated</code> for a given ticket and its closest neighbour for manual comparison and verification by a domain expert.</li>\n",
    "        <li><strong>Diagnostic step 2:</strong> Reduces the embedding dimension to 2D and visualises all clusters, highlighting a given ticket. </li>\n",
    "        <li><strong>Diagnostic step 3:</strong> Reduces the embedding dimension to 2D and visualises a given cluster, highlighting a given ticket and its neighbour.</li>\n",
    "    </ul>\n",
    "</div>\n",
    "<p style=\"font-size:16px;\"> <strong>Note:</strong> You can add more diagnostic functions as required to <code>src.diagnostic_utils</code>.</p>\n",
    "\n"
   ]
  },
  {
   "cell_type": "code",
   "execution_count": 10,
   "id": "1ab215ab-61d2-47d2-b7ce-871e9731e203",
   "metadata": {},
   "outputs": [],
   "source": [
    "# Provide the focus for diagnostics from the above results here. \n",
    "ticket_id = \"TKT-520235\"\n",
    "neighbour_id = \"TKT-543369\"\n",
    "cluster_id = 22"
   ]
  },
  {
   "cell_type": "markdown",
   "id": "12e1ca49-5318-4c7d-9bc1-a9ca0ac66a71",
   "metadata": {},
   "source": [
    "<div style=\"font-size:16px;\"><strong>Diagnostic step 1:</strong></div>"
   ]
  },
  {
   "cell_type": "code",
   "execution_count": 11,
   "id": "a26163f1-136f-497c-b83c-401390e769eb",
   "metadata": {},
   "outputs": [
    {
     "data": {
      "text/html": [
       "<div>\n",
       "<style scoped>\n",
       "    .dataframe tbody tr th:only-of-type {\n",
       "        vertical-align: middle;\n",
       "    }\n",
       "\n",
       "    .dataframe tbody tr th {\n",
       "        vertical-align: top;\n",
       "    }\n",
       "\n",
       "    .dataframe thead th {\n",
       "        text-align: right;\n",
       "    }\n",
       "</style>\n",
       "<table border=\"1\" class=\"dataframe\">\n",
       "  <thead>\n",
       "    <tr style=\"text-align: right;\">\n",
       "      <th></th>\n",
       "      <th>ticket_id</th>\n",
       "      <th>subject_translated</th>\n",
       "      <th>body_translated</th>\n",
       "    </tr>\n",
       "  </thead>\n",
       "  <tbody>\n",
       "    <tr>\n",
       "      <th>0</th>\n",
       "      <td>TKT-543369</td>\n",
       "      <td>Cannot add cards to Apple Pay</td>\n",
       "      <td>Hi there, Hi, I'm Albin Lehtinen. I have problems with tokenization/wallet. Let me know if you need screenshots. Phone: +46 300 941 7253 IBAN: FI4249355183134162 See attached screenshot (cannot share publicly). Coverage should be enough, so I'm confused.</td>\n",
       "    </tr>\n",
       "    <tr>\n",
       "      <th>1</th>\n",
       "      <td>TKT-520235</td>\n",
       "      <td>Cannot add cards to Apple Pay</td>\n",
       "      <td>Hello, Hi, I'm Sofia Heikkinen. I have problems with tokenization/wallet. Coverage should be enough, so I'm confused. IBAN: FI180444981598892 Launching tomorrow, a bit of a hurry. As I mentioned earlier, this is blocking us. Coverage should be enough, so I'm confused. Coverage should be enough, so I'm confused. Thank you in advance.</td>\n",
       "    </tr>\n",
       "  </tbody>\n",
       "</table>\n",
       "</div>"
      ],
      "text/plain": [
       "    ticket_id             subject_translated  \\\n",
       "0  TKT-543369  Cannot add cards to Apple Pay   \n",
       "1  TKT-520235  Cannot add cards to Apple Pay   \n",
       "\n",
       "                                                                                                                                                                                                                                                                                                                                  body_translated  \n",
       "0                                                                                  Hi there, Hi, I'm Albin Lehtinen. I have problems with tokenization/wallet. Let me know if you need screenshots. Phone: +46 300 941 7253 IBAN: FI4249355183134162 See attached screenshot (cannot share publicly). Coverage should be enough, so I'm confused.  \n",
       "1  Hello, Hi, I'm Sofia Heikkinen. I have problems with tokenization/wallet. Coverage should be enough, so I'm confused. IBAN: FI180444981598892 Launching tomorrow, a bit of a hurry. As I mentioned earlier, this is blocking us. Coverage should be enough, so I'm confused. Coverage should be enough, so I'm confused. Thank you in advance.  "
      ]
     },
     "execution_count": 11,
     "metadata": {},
     "output_type": "execute_result"
    }
   ],
   "source": [
    "# Fetch subject_translated and body_translated for a given ticket and its closest neighbour\n",
    "dgn_df = dgn.fetch_ticket_pair_details(ticket_id, neighbour_id, cluster_id)\n",
    "dgn_df"
   ]
  },
  {
   "cell_type": "markdown",
   "id": "69f41919-f0b4-4513-87aa-f83c451746a4",
   "metadata": {},
   "source": [
    "<div style=\"font-size:16px;\"><strong>Diagnostic step 2:</strong></div>"
   ]
  },
  {
   "cell_type": "code",
   "execution_count": 12,
   "id": "bf6c1f63-f4c9-4dab-beda-484887c611ff",
   "metadata": {},
   "outputs": [],
   "source": [
    "#dgn.plot_all_clusters(ticket_id)"
   ]
  },
  {
   "cell_type": "code",
   "execution_count": 13,
   "id": "1f28ef27-a0e2-4cf2-8a3d-d656e121695a",
   "metadata": {},
   "outputs": [
    {
     "data": {
      "image/png": "[encoded data removed]",
      "text/plain": [
       "<Figure size 1000x700 with 1 Axes>"
      ]
     },
     "metadata": {},
     "output_type": "display_data"
    }
   ],
   "source": [
    "dgn.plot_cluster_projection(ticket_id, neighbour_id, cluster_id)"
   ]
  },
  {
   "cell_type": "code",
   "execution_count": null,
   "id": "bbc8a6ce-6363-476c-b1f0-de65ebb65ab7",
   "metadata": {},
   "outputs": [],
   "source": []
  },
  {
   "cell_type": "code",
   "execution_count": null,
   "id": "61252967-ca33-49b2-b911-6781be1275a3",
   "metadata": {},
   "outputs": [],
   "source": []
  }
 ],
 "metadata": {
  "kernelspec": {
   "display_name": "Python (enfuce-ai)",
   "language": "python",
   "name": "venv"
  },
  "language_info": {
   "codemirror_mode": {
    "name": "ipython",
    "version": 3
   },
   "file_extension": ".py",
   "mimetype": "text/x-python",
   "name": "python",
   "nbconvert_exporter": "python",
   "pygments_lexer": "ipython3",
   "version": "3.12.6"
  }
 },
 "nbformat": 4,
 "nbformat_minor": 5
}
