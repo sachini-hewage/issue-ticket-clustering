{
 "cells": [
  {
   "cell_type": "code",
   "execution_count": 1,
   "id": "504fdf71-3896-41e1-9c18-f21facf9e478",
   "metadata": {},
   "outputs": [],
   "source": [
    "# Add project root to path \n",
    "import sys\n",
    "from pathlib import Path\n",
    "sys.path.append(str(Path(\"../\").resolve()))"
   ]
  },
  {
   "cell_type": "code",
   "execution_count": 2,
   "id": "ca677ba8-aa97-4ce1-b6cf-045eb8434a87",
   "metadata": {},
   "outputs": [],
   "source": [
    "from src.recommendation_utils import find_recommendation\n",
    "\n"
   ]
  },
  {
   "cell_type": "code",
   "execution_count": 7,
   "id": "646b22bc-7b4d-4df7-9410-d183aab6fe12",
   "metadata": {
    "scrolled": true
   },
   "outputs": [
    {
     "name": "stdout",
     "output_type": "stream",
     "text": [
      "Ticket TKT-500003 → Cluster 85 ( Card Missing - Urgent Block) → Nearest ticket: TKT-512717 → Recommended action:  Wait for documentation and follow up with customer tomorrow. (confidence: 0.94)\n"
     ]
    }
   ],
   "source": [
    "# Example test\n",
    "ticket_id = \"TKT-500003\"\n",
    "suggestion, confidence, cluster_id, cluster_label, best_comments, nearest_ticket_id= find_recommendation(ticket_id)\n",
    "\n"
   ]
  },
  {
   "cell_type": "code",
   "execution_count": 8,
   "id": "5a42924a-c7de-476e-8463-7d8fee790196",
   "metadata": {},
   "outputs": [
    {
     "name": "stdout",
     "output_type": "stream",
     "text": [
      "- Ingen incident på status-sidan; övervakning pågår. - Ingen incident på status-sidan; övervakning pågår. - Ingen incident på status-sidan; övervakning pågår. - Kontrollerade loggar; kod 05 för de senaste försöken. - Väntar på dokument; påminnelse till imorgon.\n"
     ]
    }
   ],
   "source": [
    "print(best_comments)"
   ]
  },
  {
   "cell_type": "code",
   "execution_count": null,
   "id": "b882efb9-2789-4554-a00b-ef493fbfbc99",
   "metadata": {},
   "outputs": [],
   "source": []
  }
 ],
 "metadata": {
  "kernelspec": {
   "display_name": "Python (enfuce-ai)",
   "language": "python",
   "name": "venv"
  },
  "language_info": {
   "codemirror_mode": {
    "name": "ipython",
    "version": 3
   },
   "file_extension": ".py",
   "mimetype": "text/x-python",
   "name": "python",
   "nbconvert_exporter": "python",
   "pygments_lexer": "ipython3",
   "version": "3.12.6"
  }
 },
 "nbformat": 4,
 "nbformat_minor": 5
}
