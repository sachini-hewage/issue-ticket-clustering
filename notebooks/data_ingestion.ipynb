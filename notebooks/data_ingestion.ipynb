{
 "cells": [
  {
   "cell_type": "code",
   "execution_count": 2,
   "id": "b823e941-8a03-4ea7-8fe0-349aabdca417",
   "metadata": {},
   "outputs": [
    {
     "name": "stdout",
     "output_type": "stream",
     "text": [
      "Loading data from /Users/sasha/enfuce-support-ai/data/enfuce_support_tickets_synthetic.jsonl\n"
     ]
    }
   ],
   "source": [
    "# All imports\n",
    "import os\n",
    "import json\n",
    "import pandas as pd\n",
    "from pathlib import Path\n",
    "from psycopg2 import sql\n",
    "import sys\n",
    "\n",
    "# Add project root to Python path\n",
    "PROJECT_ROOT = Path(\"../\").resolve()  # parent folder of notebooks/\n",
    "sys.path.append(str(PROJECT_ROOT))\n",
    "\n",
    "from src.db_utils import get_db_connection\n",
    "\n",
    "# Paths\n",
    "DATA_PATH = Path(\"../data/enfuce_support_tickets_synthetic.jsonl\")\n",
    "\n",
    "print(f\"Loading data from {DATA_PATH.resolve()}\")\n"
   ]
  },
  {
   "cell_type": "code",
   "execution_count": 15,
   "id": "ca82a46f-9f30-4102-9874-24c13a2b66a9",
   "metadata": {},
   "outputs": [
    {
     "name": "stdout",
     "output_type": "stream",
     "text": [
      "Loaded 50000 tickets.\n"
     ]
    },
    {
     "data": {
      "text/html": [
       "<div>\n",
       "<style scoped>\n",
       "    .dataframe tbody tr th:only-of-type {\n",
       "        vertical-align: middle;\n",
       "    }\n",
       "\n",
       "    .dataframe tbody tr th {\n",
       "        vertical-align: top;\n",
       "    }\n",
       "\n",
       "    .dataframe thead th {\n",
       "        text-align: right;\n",
       "    }\n",
       "</style>\n",
       "<table border=\"1\" class=\"dataframe\">\n",
       "  <thead>\n",
       "    <tr style=\"text-align: right;\">\n",
       "      <th></th>\n",
       "      <th>ticket_id</th>\n",
       "      <th>created_at</th>\n",
       "      <th>channel</th>\n",
       "      <th>source_system</th>\n",
       "      <th>customer_name</th>\n",
       "      <th>subject</th>\n",
       "      <th>body</th>\n",
       "      <th>internal_comments</th>\n",
       "      <th>status</th>\n",
       "      <th>resolution_time_s</th>\n",
       "    </tr>\n",
       "  </thead>\n",
       "  <tbody>\n",
       "    <tr>\n",
       "      <th>0</th>\n",
       "      <td>TKT-500000</td>\n",
       "      <td>2025-08-21T09:49:57</td>\n",
       "      <td>email</td>\n",
       "      <td>EmailInbox</td>\n",
       "      <td>Sam Heikkinen</td>\n",
       "      <td>URGENT: Hitting rate limits on /transactions (...</td>\n",
       "      <td>Hello, Hi, I'm Sam Heikkinen. My card keeps ge...</td>\n",
       "      <td>[[Agent-2] 2025-08-21 10:42 - Replied to custo...</td>\n",
       "      <td>in_progress</td>\n",
       "      <td>NaN</td>\n",
       "    </tr>\n",
       "    <tr>\n",
       "      <th>1</th>\n",
       "      <td>TKT-500001</td>\n",
       "      <td>2025-10-05T11:06:35</td>\n",
       "      <td>api</td>\n",
       "      <td>Zendesk</td>\n",
       "      <td>Alex Mäkinen</td>\n",
       "      <td>Question about KYC — documents keep getting re...</td>\n",
       "      <td>Hi team, Hi, I'm Alex Mäkinen. My card keeps g...</td>\n",
       "      <td>[[Agent-1] 2025-10-05 12:47 - No incident on s...</td>\n",
       "      <td>closed</td>\n",
       "      <td>41249.0</td>\n",
       "    </tr>\n",
       "    <tr>\n",
       "      <th>2</th>\n",
       "      <td>TKT-500002</td>\n",
       "      <td>2025-08-31T17:06:37</td>\n",
       "      <td>email</td>\n",
       "      <td>Zendesk</td>\n",
       "      <td>Jamie Salonen</td>\n",
       "      <td>Can’t pay online — keeps declining 😕</td>\n",
       "      <td>Hi team, Hi, I'm Jamie Salonen. Not sure if th...</td>\n",
       "      <td>[[Agent-2] 2025-08-31 17:54 - Awaiting custome...</td>\n",
       "      <td>waiting_on_customer</td>\n",
       "      <td>NaN</td>\n",
       "    </tr>\n",
       "    <tr>\n",
       "      <th>3</th>\n",
       "      <td>TKT-500003</td>\n",
       "      <td>2025-06-24T11:44:58</td>\n",
       "      <td>api</td>\n",
       "      <td>EmailInbox</td>\n",
       "      <td>Henrik Svensson</td>\n",
       "      <td>PRIO: Kort saknas, spärra nu</td>\n",
       "      <td>Hallå, Hi, I'm Henrik Svensson. Jag har proble...</td>\n",
       "      <td>[[L2] 2025-06-24 12:25 - Svarade kunden; begär...</td>\n",
       "      <td>in_progress</td>\n",
       "      <td>NaN</td>\n",
       "    </tr>\n",
       "    <tr>\n",
       "      <th>4</th>\n",
       "      <td>TKT-500004</td>\n",
       "      <td>2025-06-23T11:27:43</td>\n",
       "      <td>api</td>\n",
       "      <td>Zendesk</td>\n",
       "      <td>Sam Ahonen</td>\n",
       "      <td>Tokenization failed during wallet setup</td>\n",
       "      <td>Hey, Hi, I'm Sa Ahonen. Not sure if this is on...</td>\n",
       "      <td>[[Ops] 2025-06-23 13:26 - Escalated to TechOps...</td>\n",
       "      <td>in_progress</td>\n",
       "      <td>NaN</td>\n",
       "    </tr>\n",
       "  </tbody>\n",
       "</table>\n",
       "</div>"
      ],
      "text/plain": [
       "    ticket_id           created_at channel source_system    customer_name  \\\n",
       "0  TKT-500000  2025-08-21T09:49:57   email    EmailInbox    Sam Heikkinen   \n",
       "1  TKT-500001  2025-10-05T11:06:35     api       Zendesk     Alex Mäkinen   \n",
       "2  TKT-500002  2025-08-31T17:06:37   email       Zendesk    Jamie Salonen   \n",
       "3  TKT-500003  2025-06-24T11:44:58     api    EmailInbox  Henrik Svensson   \n",
       "4  TKT-500004  2025-06-23T11:27:43     api       Zendesk       Sam Ahonen   \n",
       "\n",
       "                                             subject  \\\n",
       "0  URGENT: Hitting rate limits on /transactions (...   \n",
       "1  Question about KYC — documents keep getting re...   \n",
       "2               Can’t pay online — keeps declining 😕   \n",
       "3                       PRIO: Kort saknas, spärra nu   \n",
       "4            Tokenization failed during wallet setup   \n",
       "\n",
       "                                                body  \\\n",
       "0  Hello, Hi, I'm Sam Heikkinen. My card keeps ge...   \n",
       "1  Hi team, Hi, I'm Alex Mäkinen. My card keeps g...   \n",
       "2  Hi team, Hi, I'm Jamie Salonen. Not sure if th...   \n",
       "3  Hallå, Hi, I'm Henrik Svensson. Jag har proble...   \n",
       "4  Hey, Hi, I'm Sa Ahonen. Not sure if this is on...   \n",
       "\n",
       "                                   internal_comments               status  \\\n",
       "0  [[Agent-2] 2025-08-21 10:42 - Replied to custo...          in_progress   \n",
       "1  [[Agent-1] 2025-10-05 12:47 - No incident on s...               closed   \n",
       "2  [[Agent-2] 2025-08-31 17:54 - Awaiting custome...  waiting_on_customer   \n",
       "3  [[L2] 2025-06-24 12:25 - Svarade kunden; begär...          in_progress   \n",
       "4  [[Ops] 2025-06-23 13:26 - Escalated to TechOps...          in_progress   \n",
       "\n",
       "   resolution_time_s  \n",
       "0                NaN  \n",
       "1            41249.0  \n",
       "2                NaN  \n",
       "3                NaN  \n",
       "4                NaN  "
      ]
     },
     "execution_count": 15,
     "metadata": {},
     "output_type": "execute_result"
    }
   ],
   "source": [
    "# Load tickets as a df\n",
    "tickets = []\n",
    "with open(DATA_PATH, \"r\", encoding=\"utf-8\") as f:\n",
    "    for line in f:\n",
    "        ticket = json.loads(line.strip())\n",
    "        tickets.append(ticket)\n",
    "\n",
    "print(f\"Loaded {len(tickets)} tickets.\")\n",
    "pd.DataFrame(tickets[:5])  \n",
    "\n"
   ]
  },
  {
   "cell_type": "code",
   "execution_count": 16,
   "id": "311ac7c9-195e-4364-b338-0a9076a18094",
   "metadata": {},
   "outputs": [
    {
     "name": "stdout",
     "output_type": "stream",
     "text": [
      "All data deleted from tickets table\n"
     ]
    }
   ],
   "source": [
    "# # Delete and test\n",
    "\n",
    "# conn = get_db_connection()\n",
    "# cur = conn.cursor()\n",
    "\n",
    "# # Delete all rows\n",
    "# cur.execute(\"DELETE FROM tickets;\")\n",
    "\n",
    "\n",
    "# conn.commit()\n",
    "# cur.close()\n",
    "# conn.close()\n",
    "\n",
    "# print(\"All data deleted from tickets table\")\n"
   ]
  },
  {
   "cell_type": "code",
   "execution_count": 17,
   "id": "67ff8d8b-3afa-4796-802f-375070194285",
   "metadata": {},
   "outputs": [
    {
     "name": "stdout",
     "output_type": "stream",
     "text": [
      "Inserted 50000 tickets into PostgreSQL table 'tickets'.\n"
     ]
    }
   ],
   "source": [
    "# Insert tickets into PostgreSQL\n",
    "conn = get_db_connection()\n",
    "cur = conn.cursor()\n",
    "\n",
    "insert_query = \"\"\"\n",
    "INSERT INTO tickets (\n",
    "    ticket_id, created_at, channel, source_system,\n",
    "    customer_name, subject, body, internal_comments,\n",
    "    status, resolution_time_s\n",
    ") VALUES (%s, %s, %s, %s, %s, %s, %s, %s, %s, %s)\n",
    "ON CONFLICT (ticket_id) DO NOTHING;\n",
    "\"\"\"\n",
    "\n",
    "for t in tickets:\n",
    "    # Pass the internal_comments as a Python list \n",
    "    internal_comments_list = t.get(\"internal_comments\", [])\n",
    "\n",
    "    values = (\n",
    "        t.get(\"ticket_id\"),\n",
    "        t.get(\"created_at\"),\n",
    "        t.get(\"channel\"),\n",
    "        t.get(\"source_system\"),\n",
    "        t.get(\"customer_name\"),\n",
    "        t.get(\"subject\"),\n",
    "        t.get(\"body\"),\n",
    "        internal_comments_list,  \n",
    "        t.get(\"status\"),\n",
    "        t.get(\"resolution_time_s\")\n",
    "    )\n",
    "\n",
    "    cur.execute(insert_query, values)\n",
    "\n",
    "conn.commit()\n",
    "cur.close()\n",
    "conn.close()\n",
    "\n",
    "print(f\"Inserted {len(tickets)} tickets into PostgreSQL table 'tickets'.\")\n"
   ]
  },
  {
   "cell_type": "code",
   "execution_count": 18,
   "id": "27fe5a20-471e-4e88-ad22-fab6ec666a25",
   "metadata": {},
   "outputs": [
    {
     "name": "stdout",
     "output_type": "stream",
     "text": [
      "Total tickets in DB: 50000\n",
      "('TKT-500000', 'URGENT: Hitting rate limits on /transactions (ERROR:) 🙂', 'in_progress')\n",
      "('TKT-500001', 'Question about KYC — documents keep getting rejected 😕', 'closed')\n",
      "('TKT-500002', 'Can’t pay online — keeps declining 😕', 'waiting_on_customer')\n",
      "('TKT-500003', 'PRIO: Kort saknas, spärra nu', 'in_progress')\n",
      "('TKT-500004', 'Tokenization failed during wallet setup', 'in_progress')\n"
     ]
    }
   ],
   "source": [
    "# Test ingestion\n",
    "conn = get_db_connection()\n",
    "cur = conn.cursor()\n",
    "\n",
    "cur.execute(\"SELECT COUNT(*) FROM tickets;\")\n",
    "count = cur.fetchone()[0]\n",
    "print(f\"Total tickets in DB: {count}\")\n",
    "\n",
    "cur.execute(\"SELECT ticket_id, subject, status FROM tickets LIMIT 5;\")\n",
    "for row in cur.fetchall():\n",
    "    print(row)\n",
    "\n",
    "cur.close()\n",
    "conn.close()\n"
   ]
  },
  {
   "cell_type": "code",
   "execution_count": null,
   "id": "867f7537-c8c1-4c98-a8b7-9f14d1535e6f",
   "metadata": {},
   "outputs": [],
   "source": []
  }
 ],
 "metadata": {
  "kernelspec": {
   "display_name": "Python (enfuce-ai)",
   "language": "python",
   "name": "venv"
  },
  "language_info": {
   "codemirror_mode": {
    "name": "ipython",
    "version": 3
   },
   "file_extension": ".py",
   "mimetype": "text/x-python",
   "name": "python",
   "nbconvert_exporter": "python",
   "pygments_lexer": "ipython3",
   "version": "3.12.6"
  }
 },
 "nbformat": 4,
 "nbformat_minor": 5
}
