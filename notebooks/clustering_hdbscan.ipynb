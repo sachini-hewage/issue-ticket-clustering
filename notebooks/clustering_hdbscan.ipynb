{
 "cells": [
  {
   "cell_type": "code",
   "execution_count": 1,
   "id": "5f1b594b-004e-4914-b2c0-af3d3b184e7a",
   "metadata": {},
   "outputs": [],
   "source": [
    "# Add project root to path \n",
    "import sys\n",
    "from pathlib import Path\n",
    "sys.path.append(str(Path(\"../\").resolve()))"
   ]
  },
  {
   "cell_type": "code",
   "execution_count": 2,
   "id": "aee9a8bc-584c-42f2-b4a1-48ebb048bc20",
   "metadata": {},
   "outputs": [],
   "source": [
    "# Imports\n",
    "from src.clustering_utils_hdbscan import (\n",
    "    fetch_embeddings,\n",
    "    reduce_dimensions,\n",
    "    cluster_embeddings,\n",
    "    save_clusters,\n",
    "    soft_assign_noise,\n",
    "    get_cluster_representatives,\n",
    "    label_clusters_llm,\n",
    "    save_cluster_labels,\n",
    "    save_cluster_labels_to_table\n",
    ")\n",
    "\n",
    "import numpy as np\n",
    "import pandas as pd\n",
    "\n"
   ]
  },
  {
   "cell_type": "code",
   "execution_count": 3,
   "id": "be1d0ab7-1f23-4eeb-9d54-d6c6b7f89410",
   "metadata": {},
   "outputs": [
    {
     "name": "stdout",
     "output_type": "stream",
     "text": [
      "Fetched 49800 ticket embeddings for clustering\n"
     ]
    }
   ],
   "source": [
    "# Fetch embeddings\n",
    "df = fetch_embeddings(limit=None)\n",
    "print(f\"Fetched {len(df)} ticket embeddings for clustering\")"
   ]
  },
  {
   "cell_type": "code",
   "execution_count": 4,
   "id": "6ec7455d-35b8-4fcb-9767-2928575d4feb",
   "metadata": {},
   "outputs": [],
   "source": [
    "# Prepare numpy array for UMAP dim reduction\n",
    "X = np.array(df[\"embedding\"].to_list())"
   ]
  },
  {
   "cell_type": "code",
   "execution_count": 5,
   "id": "5ffbe9fe-b1b6-4f2f-894f-a7249a79a135",
   "metadata": {},
   "outputs": [
    {
     "name": "stdout",
     "output_type": "stream",
     "text": [
      "Reduced embeddings shape: (49800, 50)\n"
     ]
    }
   ],
   "source": [
    "# Dimensionality reduction with UMAP\n",
    "# n_neighbors: controls local structure sensitivity (10–30 typically, I will use 30)\n",
    "# n_components: final embedding dimensions (10–50, I will try with 50 )\n",
    "X_reduced, reducer = reduce_dimensions(X, n_components=50, n_neighbors=30)\n",
    "print(f\"Reduced embeddings shape: {X_reduced.shape}\")\n",
    "\n"
   ]
  },
  {
   "cell_type": "code",
   "execution_count": 6,
   "id": "9a8cea7e-a06e-468c-8f06-d8fdbc987d23",
   "metadata": {},
   "outputs": [
    {
     "name": "stderr",
     "output_type": "stream",
     "text": [
      "/Users/sasha/enfuce-support-ai/venv/lib/python3.12/site-packages/sklearn/utils/deprecation.py:132: FutureWarning: 'force_all_finite' was renamed to 'ensure_all_finite' in 1.6 and will be removed in 1.8.\n",
      "  warnings.warn(\n",
      "/Users/sasha/enfuce-support-ai/venv/lib/python3.12/site-packages/sklearn/utils/deprecation.py:132: FutureWarning: 'force_all_finite' was renamed to 'ensure_all_finite' in 1.6 and will be removed in 1.8.\n",
      "  warnings.warn(\n"
     ]
    },
    {
     "name": "stdout",
     "output_type": "stream",
     "text": [
      "Found 113 clusters\n"
     ]
    }
   ],
   "source": [
    "# Cluster reduced embeddings using HDBSCAN\n",
    "# min_cluster_size: smaller = more fine-grained clusters, i will use 10 \n",
    "\n",
    "labels, clusterer = cluster_embeddings(X_reduced, min_cluster_size=50)\n",
    "\n",
    "# Soft-assign noise points that are above a threshold of similarity to the nearest cluster centers\n",
    "labels_soft = soft_assign_noise(X_reduced, labels, similarity_threshold= 0.999)\n",
    "df[\"cluster_id\"] = labels_soft\n",
    "\n",
    "print(f\"Found {len(set(labels_soft)) - (1 if -1 in labels else 0)} clusters\")\n",
    "\n"
   ]
  },
  {
   "cell_type": "code",
   "execution_count": 7,
   "id": "8d625652-864d-4115-afb9-3bf6ae636ee7",
   "metadata": {},
   "outputs": [
    {
     "name": "stdout",
     "output_type": "stream",
     "text": [
      "Cluster labels saved to Postgres\n"
     ]
    }
   ],
   "source": [
    "# Save cluster labels back to Postgres\n",
    "save_clusters(df[[\"ticket_id\", \"cluster_id\"]])\n",
    "print(\"Cluster labels saved to Postgres\")\n",
    "\n"
   ]
  },
  {
   "cell_type": "code",
   "execution_count": 8,
   "id": "174389da-c817-4851-93a9-4ccd1dd62752",
   "metadata": {},
   "outputs": [
    {
     "name": "stdout",
     "output_type": "stream",
     "text": [
      "2\n"
     ]
    }
   ],
   "source": [
    "from sqlalchemy import create_engine, text\n",
    "import pandas as pd\n",
    "from src.config import DB_URL\n",
    "\n",
    "engine = create_engine(DB_URL)\n",
    "cluster_id = -1  # noise points\n",
    "\n",
    "query = text(\"\"\"\n",
    "    SELECT \n",
    "        p.ticket_id,\n",
    "        p.keywords\n",
    "    FROM \n",
    "        ticket_preprocessed p\n",
    "    JOIN \n",
    "        ticket_embeddings e \n",
    "    ON \n",
    "        p.ticket_id = e.ticket_id\n",
    "    WHERE \n",
    "        e.cluster_id = :cluster_id\n",
    "        AND p.keywords IS NOT NULL;\n",
    "\"\"\")\n",
    "\n",
    "with engine.connect() as conn:\n",
    "    df_interested = pd.read_sql(query, conn, params={\"cluster_id\": cluster_id})\n",
    "\n",
    "print(len(df_interested))\n"
   ]
  },
  {
   "cell_type": "code",
   "execution_count": 9,
   "id": "93986216-476e-414f-bb73-ec27b4b23e9b",
   "metadata": {},
   "outputs": [
    {
     "data": {
      "text/html": [
       "<div>\n",
       "<style scoped>\n",
       "    .dataframe tbody tr th:only-of-type {\n",
       "        vertical-align: middle;\n",
       "    }\n",
       "\n",
       "    .dataframe tbody tr th {\n",
       "        vertical-align: top;\n",
       "    }\n",
       "\n",
       "    .dataframe thead th {\n",
       "        text-align: right;\n",
       "    }\n",
       "</style>\n",
       "<table border=\"1\" class=\"dataframe\">\n",
       "  <thead>\n",
       "    <tr style=\"text-align: right;\">\n",
       "      <th></th>\n",
       "      <th>ticket_id</th>\n",
       "      <th>keywords</th>\n",
       "    </tr>\n",
       "  </thead>\n",
       "  <tbody>\n",
       "    <tr>\n",
       "      <th>0</th>\n",
       "      <td>TKT-530739</td>\n",
       "      <td>pleånbok verification fails card, pleånbok ver...</td>\n",
       "    </tr>\n",
       "    <tr>\n",
       "      <th>1</th>\n",
       "      <td>TKT-546365</td>\n",
       "      <td>vrifming iwallet fails card, iwallet fails car...</td>\n",
       "    </tr>\n",
       "  </tbody>\n",
       "</table>\n",
       "</div>"
      ],
      "text/plain": [
       "    ticket_id                                           keywords\n",
       "0  TKT-530739  pleånbok verification fails card, pleånbok ver...\n",
       "1  TKT-546365  vrifming iwallet fails card, iwallet fails car..."
      ]
     },
     "execution_count": 9,
     "metadata": {},
     "output_type": "execute_result"
    }
   ],
   "source": [
    "df_interested"
   ]
  },
  {
   "cell_type": "code",
   "execution_count": 10,
   "id": "fc12001c-5d87-4ae8-a281-509f9529e72c",
   "metadata": {},
   "outputs": [
    {
     "data": {
      "text/html": [
       "<div>\n",
       "<style scoped>\n",
       "    .dataframe tbody tr th:only-of-type {\n",
       "        vertical-align: middle;\n",
       "    }\n",
       "\n",
       "    .dataframe tbody tr th {\n",
       "        vertical-align: top;\n",
       "    }\n",
       "\n",
       "    .dataframe thead th {\n",
       "        text-align: right;\n",
       "    }\n",
       "</style>\n",
       "<table border=\"1\" class=\"dataframe\">\n",
       "  <thead>\n",
       "    <tr style=\"text-align: right;\">\n",
       "      <th></th>\n",
       "      <th>ticket_id</th>\n",
       "      <th>embedding</th>\n",
       "      <th>combined_text</th>\n",
       "      <th>cluster_id</th>\n",
       "    </tr>\n",
       "  </thead>\n",
       "  <tbody>\n",
       "    <tr>\n",
       "      <th>0</th>\n",
       "      <td>TKT-527279</td>\n",
       "      <td>[-0.047022976, -0.028998813, -0.030356936, -0....</td>\n",
       "      <td>Requsting new card — chip not working|| , I'm ...</td>\n",
       "      <td>28</td>\n",
       "    </tr>\n",
       "    <tr>\n",
       "      <th>1</th>\n",
       "      <td>TKT-519142</td>\n",
       "      <td>[-0.046972826, 0.006419635, 0.0408308, -0.0183...</td>\n",
       "      <td>Requesting new card — chip not working (URGENT...</td>\n",
       "      <td>28</td>\n",
       "    </tr>\n",
       "    <tr>\n",
       "      <th>2</th>\n",
       "      <td>TKT-501921</td>\n",
       "      <td>[-0.053356387, 0.016575871, 0.021287508, -0.05...</td>\n",
       "      <td>New card — chip not working|| , , I'm [PERSON]...</td>\n",
       "      <td>28</td>\n",
       "    </tr>\n",
       "    <tr>\n",
       "      <th>3</th>\n",
       "      <td>TKT-501704</td>\n",
       "      <td>[-0.082989596, -0.012467751, 0.028746905, -0.0...</td>\n",
       "      <td>Requesting new card — chip not working|| , , I...</td>\n",
       "      <td>28</td>\n",
       "    </tr>\n",
       "    <tr>\n",
       "      <th>4</th>\n",
       "      <td>TKT-501783</td>\n",
       "      <td>[-0.061868295, 0.0070742546, 0.009118566, -0.0...</td>\n",
       "      <td>Requesting new card — chip not working|| , I'm...</td>\n",
       "      <td>28</td>\n",
       "    </tr>\n",
       "  </tbody>\n",
       "</table>\n",
       "</div>"
      ],
      "text/plain": [
       "    ticket_id                                          embedding  \\\n",
       "0  TKT-527279  [-0.047022976, -0.028998813, -0.030356936, -0....   \n",
       "1  TKT-519142  [-0.046972826, 0.006419635, 0.0408308, -0.0183...   \n",
       "2  TKT-501921  [-0.053356387, 0.016575871, 0.021287508, -0.05...   \n",
       "3  TKT-501704  [-0.082989596, -0.012467751, 0.028746905, -0.0...   \n",
       "4  TKT-501783  [-0.061868295, 0.0070742546, 0.009118566, -0.0...   \n",
       "\n",
       "                                       combined_text  cluster_id  \n",
       "0  Requsting new card — chip not working|| , I'm ...          28  \n",
       "1  Requesting new card — chip not working (URGENT...          28  \n",
       "2  New card — chip not working|| , , I'm [PERSON]...          28  \n",
       "3  Requesting new card — chip not working|| , , I...          28  \n",
       "4  Requesting new card — chip not working|| , I'm...          28  "
      ]
     },
     "execution_count": 10,
     "metadata": {},
     "output_type": "execute_result"
    }
   ],
   "source": [
    "df.head()"
   ]
  },
  {
   "cell_type": "code",
   "execution_count": 11,
   "id": "26a55203-f0f5-433a-aec3-e7c6caa16fa4",
   "metadata": {},
   "outputs": [],
   "source": [
    "# Find representatives of each cluster\n",
    "representatives = get_cluster_representatives(df, X_reduced, top_n=3)\n"
   ]
  },
  {
   "cell_type": "code",
   "execution_count": 12,
   "id": "6e0980be-d34f-4e05-a9e7-a40ce013b000",
   "metadata": {},
   "outputs": [
    {
     "name": "stdout",
     "output_type": "stream",
     "text": [
      "Models saved successfully under '../models/'\n"
     ]
    }
   ],
   "source": [
    "import os\n",
    "import pickle\n",
    "\n",
    "# Ensure the models directory exists\n",
    "os.makedirs(\"../models\", exist_ok=True)  # adjust path relative to your notebook\n",
    "\n",
    "# Save the models to files inside the models folder\n",
    "with open(\"../models/hdbscan_model.pkl\", \"wb\") as f:\n",
    "    pickle.dump(clusterer, f)\n",
    "\n",
    "with open(\"../models/umap_reducer.pkl\", \"wb\") as f:\n",
    "    pickle.dump(reducer, f)\n",
    "\n",
    "print(\"Models saved successfully under '../models/'\")\n"
   ]
  },
  {
   "cell_type": "code",
   "execution_count": 13,
   "id": "7fdfb08d-cc42-4890-8fe8-aa665e64035d",
   "metadata": {},
   "outputs": [
    {
     "name": "stdout",
     "output_type": "stream",
     "text": [
      "Cluster 28:  Chip Card Not Working (Blocking Checkout)\n",
      "Cluster 5:  Spending Limit Update Requests\n",
      "Cluster 45:  Urgent Fee Breakdown Requests\n",
      "Cluster 44:  Fee Breakdown/Invoice Issue\n",
      "Cluster 3:  SDK Error after App Update\n",
      "Cluster 11:  Blocked Transactions (MCC Categories)\n",
      "Cluster 26:  Tokenization Failure in Wallet\n",
      "Cluster 18:  Webhook Delivery Issues (Urgent)\n",
      "Cluster 49:  Declined Transactions (Urgent)\n",
      "Cluster 48:  Urgent Payment Rejections (No Cause)\n",
      "Cluster 33:  Urgent Card Issue\n",
      "Cluster 68:  Card Replacement Requests (Urgent)\n",
      "Cluster 89:  Card Payment Error (Urgent)\n",
      "Cluster 91:  Card Payment Error (Urgent)\n",
      "Cluster 63:  Wallet Verification Failure\n",
      "Cluster 55:  Wallet Verification Failure (Urgent)\n",
      "Cluster 64:  Wallet Verification Failure (Urgent)\n",
      "Cluster 100:  Card Loss and Urgent Assistance\n",
      "Cluster 99:  Lost Card Issue\n",
      "Cluster 67:  Payment Issue (Compensation Required)\n",
      "Cluster 47:  Stolen Subway Card Issues\n",
      "Cluster 108:  3DS Code Delivery Issue\n",
      "Cluster 109:  3DS Code Delivery Issue (Urgent)\n",
      "Cluster 76:  3DS Code Delivery Issues (Urgent)\n",
      "Cluster 101:  3DS Code Delivery Issue (Urgent)\n",
      "Cluster 85:  Card Missing - Urgent Block\n",
      "Cluster 96:  Card Missing, Lock Required\n",
      "Cluster 88:  Card Missing (Urgent)\n",
      "Cluster 92:  Card Missing/Block Required Urgent\n",
      "Cluster 95:  Card Payment Issue - Urgent\n",
      "Cluster 29:  KYC Verification Issues\n",
      "Cluster 23:  Card Addition Error (Apple Pay)\n",
      "Cluster 65:  Payment Decline Issue (Urgent)\n",
      "Cluster 66:  Transaction Declined Urgent Issues\n",
      "Cluster 105:  Payment Error (Production)\n",
      "Cluster 102:  Production Failure (Sandbox OK)\n",
      "Cluster 106:  Payment Error (Prod)\n",
      "Cluster 69:  Production Failure Issue\n",
      "Cluster 22:  Tokenization/Apple Pay Issues\n",
      "Cluster 39:  Suspected Fraud Complaints (Urgent)\n",
      "Cluster 90:  Checkout Blocked (Sandbox/Production)\n",
      "Cluster 34:  Integration/SDK Issues (Prod Failure)\n",
      "Cluster 42:  API Rate Limit/Auth Issues (Urgent)\n",
      "Cluster 6:  Speed Limit/Transaction Issues\n",
      "Cluster 37:  Dispute: Unknown Debit Transactions\n",
      "Cluster 57:  Transaction Declined Urgent\n",
      "Cluster 72:  Store Purchase Declined Multiple Times\n",
      "Cluster 56:  Wallet Verification Failure (Urgent)\n",
      "Cluster 31:  Invoice Amount Discrepancy\n",
      "Cluster 80:  Last Month's Fee Inquiries\n",
      "Cluster 79:  Last Month's Payment Inquiries (Urgent)\n",
      "Cluster 60:  Error with Payment Fee Specification\n",
      "Cluster 20:  Increase API Quota Inquiry\n",
      "Cluster 30:  KYC Verification Issues\n",
      "Cluster 15:  Auth Token Expiration Issues (401s)\n",
      "Cluster 70:  Webhook Delivery Issues\n",
      "Cluster 75:  Webhook Delays/Balance Issues\n",
      "Cluster 104:  Card Loss/Urgent Assistance\n",
      "Cluster 103:  Card Loss/Urgent Assistance\n",
      "Cluster 98:  Card Loss/Stolen Issues\n",
      "Cluster 97:  Lost Card Issue (Multiple Devices)\n",
      "Cluster 4:  Integration Webhook Error\n",
      "Cluster 107:  3DS Checkout Failure\n",
      "Cluster 110:  3DS Checkout Failure\n",
      "Cluster 38:  Dispute: Unfamiliar Card Charge\n",
      "Cluster 24:  Double Payment Chargeback Requests\n",
      "Cluster 84:  Card Error - Payment Blocked\n",
      "Cluster 83:  Card Damage & Replacement Requests\n",
      "Cluster 87:  Card Missing, Block Required\n",
      "Cluster 94:  Urgent Payment Error (Card/IBAN)\n",
      "Cluster 93:  Payment Issues (Card Errors)\n",
      "Cluster 50:  Stolen Metro Card Errors\n",
      "Cluster 77:  Stolen Metro Card Issue\n",
      "Cluster 71:  Declined Store Purchases (Urgent)\n",
      "Cluster 8:  API Rate Limit/Auth Issues\n",
      "Cluster 112:  3DS Checkout Failure\n",
      "Cluster 111:  3DS Checkout Failure\n",
      "Cluster 52:  Integration Crash (Webhook 500) - SDK Issue - Urgent\n",
      "Cluster 51:  Integration Crash, Payment Issue\n",
      "Cluster 25:  Chargeback Request for Duplicate Transactions\n",
      "Cluster 78:  Stolen Metro Card Issue\n",
      "Cluster 21:  Webhook Delivery Issues\n",
      "Cluster 1:  Temporary e-commerce limit issue\n",
      "Cluster 2:  Temporary e-commerce payment errors\n",
      "Cluster 73:  Wallet Access Issue\n",
      "Cluster 74:  Wallet Recovery Issue (Urgent)\n",
      "Cluster 32:  \"3DS Challenge Loop Issue\"\n",
      "Cluster 40:  Payment Rejection Online\n",
      "Cluster 0:  Temporary e-commerce limit increase issues\n",
      "Cluster 27:  KIC Confirmation Issue\n",
      "Cluster 13:  Temporary Folder Closing Issue\n",
      "Cluster 14:  Temporary Folder Issue, Payment Card Error, Urgent Payment Request\n",
      "Cluster 17:  Temporary Network Limit Issues\n",
      "Cluster 46:  Last Month's Fees Issue\n",
      "Cluster 35:  Rate Limit Issues on /transactions\n",
      "Cluster 36:  Urgent Payment Errors on Transactions\n",
      "Cluster 58:  Cash Invoice Issue (3 words)\n",
      "Webhook Invoice Mismatch (4 words)\n",
      "Urgent Webhook Invoice Error (5 words)\n",
      "Cluster 59:  Error Transactions, Lost Card, Launch Issues\n",
      "Cluster 61:  Apple Pay Tokenization Issue\n",
      "Cluster 62:  Card Payment Issues with Apple Pay\n",
      "Cluster 86:  3DS Payment Failure\n",
      "Cluster 53:  Payment Declined Issue\n",
      "Cluster 12:  Spend Control Issue (Block MCC Categories)\n",
      "Cluster 41:  API Rate Limit Issues (Urgent)\n",
      "Cluster 19:  Increase API Ratio Issue\n",
      "Cluster 54:  Transaction Denied Multiple Times\n",
      "Cluster 10:  Payment Issue (Match Transaction)\n",
      "Cluster 9:  Payment Statement Invoice Issue\n",
      "Cluster 82:  Transaction Declined Repeatedly\n",
      "Cluster 81:  Repeated Cashier Purchase Rejections\n",
      "Cluster 7:  Payment Issue with Transactions\n",
      "Cluster 16:  Auth-token Expiration (401 Error)\n",
      "Cluster 43:  Payment Issue (Urgent)\n"
     ]
    }
   ],
   "source": [
    "# Generate natural language cluster labels\n",
    "cluster_labels = label_clusters_llm(df, representatives, max_tickets=3)\n"
   ]
  },
  {
   "cell_type": "code",
   "execution_count": 14,
   "id": "ad65e163-eee2-4af1-9a31-ff9f0954b58b",
   "metadata": {},
   "outputs": [],
   "source": [
    "# Save cluster labels to DB\n",
    "save_cluster_labels(cluster_labels)"
   ]
  },
  {
   "cell_type": "code",
   "execution_count": 15,
   "id": "de4bd00e-dcf4-40a6-9a40-b8e113927e06",
   "metadata": {},
   "outputs": [
    {
     "name": "stdout",
     "output_type": "stream",
     "text": [
      "Cluster labels saved to Postgres successfully.\n"
     ]
    }
   ],
   "source": [
    "# Save to Postgres\n",
    "save_cluster_labels_to_table(cluster_labels)\n",
    "print(\"Cluster labels saved to Postgres successfully.\")"
   ]
  },
  {
   "cell_type": "code",
   "execution_count": null,
   "id": "c1d608a5-86fe-4cf3-a72e-673c6c198006",
   "metadata": {},
   "outputs": [],
   "source": []
  },
  {
   "cell_type": "code",
   "execution_count": null,
   "id": "f76732cf-ee22-47ce-9ffb-8ab8d0d13749",
   "metadata": {},
   "outputs": [],
   "source": []
  }
 ],
 "metadata": {
  "kernelspec": {
   "display_name": "Python (enfuce-ai)",
   "language": "python",
   "name": "venv"
  },
  "language_info": {
   "codemirror_mode": {
    "name": "ipython",
    "version": 3
   },
   "file_extension": ".py",
   "mimetype": "text/x-python",
   "name": "python",
   "nbconvert_exporter": "python",
   "pygments_lexer": "ipython3",
   "version": "3.12.6"
  }
 },
 "nbformat": 4,
 "nbformat_minor": 5
}
