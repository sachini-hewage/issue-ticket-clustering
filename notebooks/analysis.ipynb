{
 "cells": [
  {
   "cell_type": "code",
   "execution_count": null,
   "id": "7eccde4e-20f7-4683-ab8d-17ce4526d1a0",
   "metadata": {},
   "outputs": [],
   "source": []
  }
 ],
 "metadata": {
  "kernelspec": {
   "display_name": "",
   "name": ""
  },
  "language_info": {
   "name": ""
  }
 },
 "nbformat": 4,
 "nbformat_minor": 5
}
